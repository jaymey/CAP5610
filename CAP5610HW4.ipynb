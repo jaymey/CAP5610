{
  "nbformat": 4,
  "nbformat_minor": 0,
  "metadata": {
    "colab": {
      "name": "CAP5610HW4.ipynb",
      "provenance": [],
      "collapsed_sections": [],
      "authorship_tag": "ABX9TyN41FG17x1J/3D2tkH4O/xw",
      "include_colab_link": true
    },
    "kernelspec": {
      "name": "python3",
      "display_name": "Python 3"
    },
    "language_info": {
      "name": "python"
    }
  },
  "cells": [
    {
      "cell_type": "markdown",
      "metadata": {
        "id": "view-in-github",
        "colab_type": "text"
      },
      "source": [
        "<a href=\"https://colab.research.google.com/github/jaymey/CAP5610/blob/main/CAP5610HW4.ipynb\" target=\"_parent\"><img src=\"https://colab.research.google.com/assets/colab-badge.svg\" alt=\"Open In Colab\"/></a>"
      ]
    },
    {
      "cell_type": "markdown",
      "metadata": {
        "id": "NgJZdud5YAP3"
      },
      "source": [
        "#Task 1"
      ]
    },
    {
      "cell_type": "code",
      "metadata": {
        "id": "L3qw6y5tNX_y"
      },
      "source": [
        "import numpy as np\n",
        "import pandas as pd\n",
        "import sklearn as sk\n",
        "import numpy as np\n",
        "import scipy as s\n",
        "import math\n",
        "import time"
      ],
      "execution_count": 125,
      "outputs": []
    },
    {
      "cell_type": "code",
      "metadata": {
        "colab": {
          "base_uri": "https://localhost:8080/",
          "height": 355
        },
        "id": "4hCXusFAXETl",
        "outputId": "fc2cd928-e795-466d-fa20-3d3ee2f249ab"
      },
      "source": [
        "data={'Team':['X1','X2','X3','X4','X5','X6','X7','X8','X9','X10'], '2016':[3,3,2,2,6,6,7,7,8,7], '2017':[5,4,8,3,2,4,3,4,5,6]}\n",
        "df = pd.DataFrame(data)\n",
        "cent=([4,6],[5,4],[3,3],[8,3],[3,2],[4,8])\n",
        "centroids = pd.DataFrame(cent)\n",
        "\n",
        "df"
      ],
      "execution_count": 124,
      "outputs": [
        {
          "output_type": "execute_result",
          "data": {
            "text/html": [
              "<div>\n",
              "<style scoped>\n",
              "    .dataframe tbody tr th:only-of-type {\n",
              "        vertical-align: middle;\n",
              "    }\n",
              "\n",
              "    .dataframe tbody tr th {\n",
              "        vertical-align: top;\n",
              "    }\n",
              "\n",
              "    .dataframe thead th {\n",
              "        text-align: right;\n",
              "    }\n",
              "</style>\n",
              "<table border=\"1\" class=\"dataframe\">\n",
              "  <thead>\n",
              "    <tr style=\"text-align: right;\">\n",
              "      <th></th>\n",
              "      <th>Team</th>\n",
              "      <th>2016</th>\n",
              "      <th>2017</th>\n",
              "    </tr>\n",
              "  </thead>\n",
              "  <tbody>\n",
              "    <tr>\n",
              "      <th>0</th>\n",
              "      <td>X1</td>\n",
              "      <td>3</td>\n",
              "      <td>5</td>\n",
              "    </tr>\n",
              "    <tr>\n",
              "      <th>1</th>\n",
              "      <td>X2</td>\n",
              "      <td>3</td>\n",
              "      <td>4</td>\n",
              "    </tr>\n",
              "    <tr>\n",
              "      <th>2</th>\n",
              "      <td>X3</td>\n",
              "      <td>2</td>\n",
              "      <td>8</td>\n",
              "    </tr>\n",
              "    <tr>\n",
              "      <th>3</th>\n",
              "      <td>X4</td>\n",
              "      <td>2</td>\n",
              "      <td>3</td>\n",
              "    </tr>\n",
              "    <tr>\n",
              "      <th>4</th>\n",
              "      <td>X5</td>\n",
              "      <td>6</td>\n",
              "      <td>2</td>\n",
              "    </tr>\n",
              "    <tr>\n",
              "      <th>5</th>\n",
              "      <td>X6</td>\n",
              "      <td>6</td>\n",
              "      <td>4</td>\n",
              "    </tr>\n",
              "    <tr>\n",
              "      <th>6</th>\n",
              "      <td>X7</td>\n",
              "      <td>7</td>\n",
              "      <td>3</td>\n",
              "    </tr>\n",
              "    <tr>\n",
              "      <th>7</th>\n",
              "      <td>X8</td>\n",
              "      <td>7</td>\n",
              "      <td>4</td>\n",
              "    </tr>\n",
              "    <tr>\n",
              "      <th>8</th>\n",
              "      <td>X9</td>\n",
              "      <td>8</td>\n",
              "      <td>5</td>\n",
              "    </tr>\n",
              "    <tr>\n",
              "      <th>9</th>\n",
              "      <td>X10</td>\n",
              "      <td>7</td>\n",
              "      <td>6</td>\n",
              "    </tr>\n",
              "  </tbody>\n",
              "</table>\n",
              "</div>"
            ],
            "text/plain": [
              "  Team  2016  2017\n",
              "0   X1     3     5\n",
              "1   X2     3     4\n",
              "2   X3     2     8\n",
              "3   X4     2     3\n",
              "4   X5     6     2\n",
              "5   X6     6     4\n",
              "6   X7     7     3\n",
              "7   X8     7     4\n",
              "8   X9     8     5\n",
              "9  X10     7     6"
            ]
          },
          "metadata": {},
          "execution_count": 124
        }
      ]
    },
    {
      "cell_type": "code",
      "metadata": {
        "id": "YXg3BabjNlEd"
      },
      "source": [
        "def manhattan1(a,b):\n",
        "  return sum(abs(e1-e2) for e1, e2 in zip(a,b))\n",
        "\n",
        "def euclidean1(a,b):\n",
        "  return math.sqrt(sum((e1-e2)**2 for e1,e2 in zip(a,b)))"
      ],
      "execution_count": 123,
      "outputs": []
    },
    {
      "cell_type": "code",
      "metadata": {
        "id": "ztGMl3KtXZHR"
      },
      "source": [
        "def kmeans_manhattan(data, centroids, c1, c2):\n",
        "  cluster1=[]\n",
        "  cluster2=[]\n",
        "  for i in range(len(data)):\n",
        "    if (manhattan1(data.iloc[i,1:],centroids.iloc[c1]) < manhattan1(data.iloc[i,1:],centroids.iloc[c2])):\n",
        "      cluster1.append(i)\n",
        "    else:\n",
        "      cluster2.append(i)\n",
        "  centroid1 = [sum(data.iloc[i,1] for i in cluster1) / len(cluster1), sum(data.iloc[i,2] for i in cluster1) / len(cluster1)]\n",
        "  centroid2 = [sum(data.iloc[i,1] for i in cluster2) / len(cluster2), sum(data.iloc[i,2] for i in cluster2) / len(cluster2)]\n",
        "  centroids = [centroid1, centroid2]\n",
        "\n",
        "  print(\"One iteration centroid for cluster 1\", centroid1)\n",
        "  print(\"One iteration centroid for cluster 2\", centroid2)\n",
        "  \n",
        "  prev_centroids = [[0,0],[0,0]]\n",
        "  while (centroids != prev_centroids):\n",
        "    prev_centroids = centroids\n",
        "    cluster1=[]\n",
        "    cluster2=[]\n",
        "    for i in range(len(data)):\n",
        "      if (manhattan1(data.iloc[i,1:],centroids[0]) < manhattan1(data.iloc[i,1:],centroids[1])):\n",
        "        cluster1.append(i)\n",
        "      else:\n",
        "        cluster2.append(i)\n",
        "    centroid1 = [sum(data.iloc[i,1] for i in cluster1) / len(cluster1), sum(data.iloc[i,2] for i in cluster1) / len(cluster1)]\n",
        "    centroid2 = [sum(data.iloc[i,1] for i in cluster2) / len(cluster2), sum(data.iloc[i,2] for i in cluster2) / len(cluster2)]\n",
        "    centroids = [centroid1, centroid2]\n",
        "  teams1=[data.iloc[x,0] for x in cluster1]\n",
        "  teams2=[data.iloc[x,0] for x in cluster2]\n",
        "  print(\"Cluster 1 teams: \", teams1)\n",
        "  print(\"Cluster 2 teams: \", teams2)\n",
        "\n",
        "\n",
        "def kmeans_euclidean(data, centroids, c1, c2):\n",
        "  cluster1=[]\n",
        "  cluster2=[]\n",
        "  for i in range(len(data)):\n",
        "    if (euclidean1(data.iloc[i,1:],centroids.iloc[c1]) < euclidean1(data.iloc[i,1:],centroids.iloc[c2])):\n",
        "      cluster1.append(i)\n",
        "    else:\n",
        "      cluster2.append(i)\n",
        "  centroid1 = [sum(data.iloc[i,1] for i in cluster1) / len(cluster1), sum(data.iloc[i,2] for i in cluster1) / len(cluster1)]\n",
        "  centroid2 = [sum(data.iloc[i,1] for i in cluster2) / len(cluster2), sum(data.iloc[i,2] for i in cluster2) / len(cluster2)]\n",
        "  centroids = [centroid1, centroid2]\n",
        "\n",
        "  print(\"One iteration centroid for cluster 1\", centroid1)\n",
        "  print(\"One iteration centroid for cluster 2\", centroid2)\n",
        "\n",
        "  prev_centroids = [[0,0],[0,0]]\n",
        "  while (centroids != prev_centroids):\n",
        "    prev_centroids = centroids\n",
        "    cluster1=[]\n",
        "    cluster2=[]\n",
        "    for i in range(len(data)):\n",
        "      if (euclidean1(data.iloc[i,1:],centroids[0]) < euclidean1(data.iloc[i,1:],centroids[1])):\n",
        "        cluster1.append(i)\n",
        "      else:\n",
        "        cluster2.append(i)\n",
        "    centroid1 = [sum(data.iloc[i,1] for i in cluster1) / len(cluster1), sum(data.iloc[i,2] for i in cluster1) / len(cluster1)]\n",
        "    centroid2 = [sum(data.iloc[i,1] for i in cluster2) / len(cluster2), sum(data.iloc[i,2] for i in cluster2) / len(cluster2)]\n",
        "    centroids = [centroid1, centroid2]\n",
        "\n",
        "  teams1=[data.iloc[x,0] for x in cluster1]\n",
        "  teams2=[data.iloc[x,0] for x in cluster2]\n",
        "  print(\"Cluster 1 teams: \", teams1)\n",
        "  print(\"Cluster 2 teams: \", teams2)"
      ],
      "execution_count": 122,
      "outputs": []
    },
    {
      "cell_type": "code",
      "metadata": {
        "colab": {
          "base_uri": "https://localhost:8080/"
        },
        "id": "8ONFq0tTXjUV",
        "outputId": "342ed0e6-7975-480b-dddd-f2426132f31d"
      },
      "source": [
        "print(\"Manhattan with (4,6) and (5,4):\\n\")\n",
        "kmeans_manhattan(df, centroids, 0, 1)\n",
        "print(\"\\n\")\n",
        "\n",
        "print(\"Euclidean with (4,6) and (5,4):\\n\")\n",
        "kmeans_euclidean(df, centroids, 0, 1)\n",
        "print(\"\\n\")\n",
        "\n",
        "print(\"Manhattan with (3,3) and (8,3):\\n\")\n",
        "kmeans_manhattan(df, centroids, 2, 3)\n",
        "print(\"\\n\")\n",
        "\n",
        "print(\"Manhattan with (3,2) and (4,8):\\n\")\n",
        "kmeans_manhattan(df, centroids, 4, 5)\n",
        "print(\"\\n\")"
      ],
      "execution_count": 126,
      "outputs": [
        {
          "output_type": "stream",
          "name": "stdout",
          "text": [
            "Manhattan with (4,6) and (5,4):\n",
            "\n",
            "One iteration centroid for cluster 1 [4.0, 6.333333333333333]\n",
            "One iteration centroid for cluster 2 [5.571428571428571, 3.5714285714285716]\n",
            "Cluster 1 teams:  ['X1', 'X3', 'X10']\n",
            "Cluster 2 teams:  ['X2', 'X4', 'X5', 'X6', 'X7', 'X8', 'X9']\n",
            "\n",
            "\n",
            "Euclidean with (4,6) and (5,4):\n",
            "\n",
            "One iteration centroid for cluster 1 [2.5, 6.5]\n",
            "One iteration centroid for cluster 2 [5.75, 3.875]\n",
            "Cluster 1 teams:  ['X1', 'X2', 'X3', 'X4']\n",
            "Cluster 2 teams:  ['X5', 'X6', 'X7', 'X8', 'X9', 'X10']\n",
            "\n",
            "\n",
            "Manhattan with (3,3) and (8,3):\n",
            "\n",
            "One iteration centroid for cluster 1 [2.5, 5.0]\n",
            "One iteration centroid for cluster 2 [6.833333333333333, 4.0]\n",
            "Cluster 1 teams:  ['X1', 'X2', 'X3', 'X4']\n",
            "Cluster 2 teams:  ['X5', 'X6', 'X7', 'X8', 'X9', 'X10']\n",
            "\n",
            "\n",
            "Manhattan with (3,2) and (4,8):\n",
            "\n",
            "One iteration centroid for cluster 1 [4.857142857142857, 3.5714285714285716]\n",
            "One iteration centroid for cluster 2 [5.666666666666667, 6.333333333333333]\n",
            "Cluster 1 teams:  ['X1', 'X2', 'X4', 'X5', 'X6', 'X7', 'X8']\n",
            "Cluster 2 teams:  ['X3', 'X9', 'X10']\n",
            "\n",
            "\n"
          ]
        }
      ]
    },
    {
      "cell_type": "markdown",
      "metadata": {
        "id": "oTLbJZ24YELf"
      },
      "source": [
        "#Task 2"
      ]
    },
    {
      "cell_type": "markdown",
      "metadata": {
        "id": "xsmsKqi1uCQb"
      },
      "source": [
        "##Kmeans Code"
      ]
    },
    {
      "cell_type": "code",
      "metadata": {
        "id": "dwINyyNVdI9w"
      },
      "source": [
        "def manhattan(a,b):\n",
        "  return np.sum(np.abs(np.subtract(a,b)))\n",
        "\n",
        "def euclidean(a,b):\n",
        "  return np.sqrt(np.sum(np.square(np.subtract(a,b))))\n",
        "\n",
        "def cosine(a,b):\n",
        "  return 1 - np.divide(np.sum(np.multiply(a,b)), np.multiply(np.sqrt(np.sum(np.square(a))),np.sqrt(np.sum(np.square(b)))))\n",
        "\n",
        "def jaccard(a,b):\n",
        "  return 1 - np.divide(np.sum(np.minimum(a,b)), np.sum(np.maximum(a,b)))\n",
        "\n",
        "def sse(data, centroids, dist):\n",
        "  result = 0\n",
        "\n",
        "  if (dist == 'manhattan'):\n",
        "    for centroid in centroids:\n",
        "      for point in data:\n",
        "        result += manhattan(point, centroid)**2\n",
        "\n",
        "  if (dist == 'euclidean'):\n",
        "    for centroid in centroids:\n",
        "      for point in data:\n",
        "        result += euclidean(point, centroid)**2\n",
        "\n",
        "  if (dist == 'cosine'):\n",
        "    for centroid in centroids:\n",
        "      for point in data:\n",
        "        result += cosine(point, centroid)**2\n",
        "\n",
        "  if (dist == 'jaccard'):\n",
        "    for centroid in centroids:\n",
        "      for point in data:\n",
        "        result += jaccard(point, centroid)**2\n",
        "  \n",
        "  return result\n",
        "\n",
        "def accuracy(labels, clusters, k):\n",
        "  scores = np.zeros((k, k))\n",
        "\n",
        "  for i in range(len(clusters)):\n",
        "    scores[clusters[i]][labels[i][0]] += 1\n",
        "  \n",
        "  total = 0\n",
        "  misclassified = 0\n",
        "  for i in range(k):\n",
        "    majority_label = 0\n",
        "    majority = 0\n",
        "    for j in range(k):\n",
        "      if scores[i][j] > majority:\n",
        "        majority = scores[i][j]\n",
        "        majority_label = j\n",
        "\n",
        "    for j in range(k):\n",
        "      total += scores[i][j]\n",
        "      if j != majority_label:\n",
        "        misclassified += scores[i][j]\n",
        "  \n",
        "  return (total - misclassified) / total"
      ],
      "execution_count": 127,
      "outputs": []
    },
    {
      "cell_type": "code",
      "metadata": {
        "id": "QpqeRYZqdLAm"
      },
      "source": [
        "def kmeans(data, labels, dist='euclidean', stop='centroids', n_iterations=0):\n",
        "  iterations = 0\n",
        "  k = 10\n",
        "\n",
        "  firstCentroids = np.random.choice(len(data), k, replace=False)\n",
        "  centroids = data[firstCentroids, :]\n",
        "  \n",
        "  start = time.time_ns()\n",
        "\n",
        "  while True:\n",
        "\n",
        "    prev_centroids = np.copy(centroids)\n",
        "\n",
        "    iterations += 1\n",
        "    distances = np.zeros((data.shape[0], centroids.shape[0]))\n",
        "    centroid_sums = np.zeros(centroids.shape)\n",
        "    centroid_counts = np.zeros(centroids.shape[0])\n",
        "\n",
        "    if (dist == 'euclidean'):\n",
        "      for i, instance in enumerate(data):\n",
        "        for j, centroid in enumerate(centroids):\n",
        "          distances[i][j] = euclidean(instance, centroid)\n",
        "\n",
        "    if (dist == 'manhattan'):\n",
        "      for i, instance in enumerate(data):\n",
        "        for j, centroid in enumerate(centroids):\n",
        "          distances[i][j] = manhattan(instance, centroid)\n",
        "\n",
        "    elif (dist == 'cosine'):\n",
        "      for i, instance in enumerate(data):\n",
        "        for j, centroid in enumerate(centroids):\n",
        "          distances[i][j] = cosine(instance, centroid)\n",
        "\n",
        "    elif (dist == 'jaccard'):\n",
        "      for i, instance in enumerate(data):\n",
        "        for j, centroid in enumerate(centroids):\n",
        "          distances[i][j] = jaccard(instance, centroid)\n",
        "    \n",
        "\n",
        "    point_labels = np.array([np.argmin(i) for i in distances])\n",
        "    \n",
        "\n",
        "    for i in range(len(centroids)):\n",
        "      centroids[i] = data[point_labels==i].mean(axis=0)\n",
        "      \n",
        "    if stop == 'stop':\n",
        "      if np.array_equal(np.sort(prev_centroids), np.sort(centroids)):\n",
        "        break\n",
        "      if sse(data, centroids, dist) > sse(data, prev_centroids, dist):\n",
        "        centroids = np.copy(prev_centroids)\n",
        "        break\n",
        "      if (n_iterations != 0 and iterations >= n_iterations) or (n_iterations == 0 and iterations >= 100):\n",
        "        break\n",
        "\n",
        "    if stop == 'centroids' and np.array_equal(np.sort(prev_centroids), np.sort(centroids)):\n",
        "      break\n",
        "    \n",
        "    if stop == 'sse' and sse(data, centroids, dist) > sse(data, prev_centroids, dist):\n",
        "      centroids = np.copy(prev_centroids)\n",
        "      break\n",
        "\n",
        "    if stop == 'iterations':\n",
        "       if (n_iterations != 0 and iterations >= n_iterations) or (n_iterations == 0 and iterations >= 100):\n",
        "         break\n",
        "\n",
        "  end = time.time_ns()\n",
        "  runtime = end - start\n",
        "\n",
        "  return point_labels, centroids, iterations, runtime\n"
      ],
      "execution_count": 150,
      "outputs": []
    },
    {
      "cell_type": "code",
      "metadata": {
        "id": "5EULvacgXIUc"
      },
      "source": [
        "data = pd.read_csv(\"data.csv\")\n",
        "labels = pd.read_csv(\"label.csv\")\n",
        "\n",
        "data = data.to_numpy(dtype=float)\n",
        "labels = labels.to_numpy(dtype=int)"
      ],
      "execution_count": 129,
      "outputs": []
    },
    {
      "cell_type": "code",
      "metadata": {
        "id": "0t3oOjIqJ5kY"
      },
      "source": [
        "euc_cent_clusters, euc_cent_centroids, euc_cent_iterations, euc_cent_runtime = kmeans(data, labels, 'euclidean', 'centroids', 0)\n",
        "euc_sse_clusters, euc_sse_centroids, euc_sse_iterations, euc_sse_runtime = kmeans(data, labels, 'euclidean', 'sse', 0)\n",
        "euc_iter_clusters, euc_iter_centroids, euc_iter_iterations, euc_iter_runtime = kmeans(data, labels, 'euclidean', 'iterations', 250)"
      ],
      "execution_count": 132,
      "outputs": []
    },
    {
      "cell_type": "code",
      "metadata": {
        "id": "PsjP4rQocD8z"
      },
      "source": [
        "cos_cent_clusters, cos_cent_centroids, cos_cent_iterations, cos_cent_runtime = kmeans(data, labels, 'cosine', 'centroids', 0)\n",
        "cos_sse_clusters, cos_sse_centroids, cos_sse_iterations, cos_sse_runtime = kmeans(data, labels, 'cosine', 'sse', 0)\n",
        "cos_iter_clusters, cos_iter_centroids, cos_iter_iterations, cos_iter_runtime = kmeans(data, labels, 'cosine', 'iterations', 250)"
      ],
      "execution_count": 133,
      "outputs": []
    },
    {
      "cell_type": "code",
      "metadata": {
        "id": "EUiabWKPcpA5"
      },
      "source": [
        "jac_cent_clusters, jac_cent_centroids, jac_cent_iterations, jac_cent_runtime = kmeans(data, labels, 'jaccard', 'centroids', 0)\n",
        "jac_sse_clusters, jac_sse_centroids, jac_sse_iterations, jac_sse_runtime = kmeans(data, labels, 'jaccard', 'sse', 0)\n",
        "jac_iter_clusters, jac_iter_centroids, jac_iter_iterations, jac_iter_runtime = kmeans(data, labels, 'jaccard', 'iterations', 250)"
      ],
      "execution_count": 139,
      "outputs": []
    },
    {
      "cell_type": "code",
      "metadata": {
        "id": "jU43TFLZtLi8"
      },
      "source": [
        "euc_stop_clusters, euc_stop_centroids, euc_stop_iterations, euc_stop_runtime = kmeans(data, labels, 'euclidean', 'stop', 0)\n",
        "cos_stop_clusters, cos_stop_centroids, cos_stop_iterations, cos_stop_runtime = kmeans(data, labels, 'cosine', 'stop', 0)\n",
        "jac_stop_clusters, jac_stop_centroids, jac_stop_iterations, jac_stop_runtime = kmeans(data, labels, 'jaccard', 'stop', 0)"
      ],
      "execution_count": 151,
      "outputs": []
    },
    {
      "cell_type": "markdown",
      "metadata": {
        "id": "BnTcRiH8tzrf"
      },
      "source": [
        "##Q1 & Q2"
      ]
    },
    {
      "cell_type": "code",
      "metadata": {
        "colab": {
          "base_uri": "https://localhost:8080/"
        },
        "id": "nhgv-tEAZyHf",
        "outputId": "ae3f48fa-e42b-434c-cf98-ca7dfa9a5cb2"
      },
      "source": [
        "print(\"SSE for Euclidean: \", sse(data, euc_cent_centroids, 'euclidean'))\n",
        "print(\"Accuracy for Euclidean: \", accuracy(labels, euc_cent_clusters, 10))\n",
        "print()\n",
        "print(\"SSE for Cosine: \", sse(data, cos_cent_centroids, 'cosine'))\n",
        "print(\"Accuracy for Cosine: \", accuracy(labels, cos_cent_clusters, 10))\n",
        "print()\n",
        "print(\"SSE for Jaccard: \", sse(data, jac_cent_centroids, 'jaccard'))\n",
        "print(\"Accuracy for Jaccard: \", accuracy(labels, jac_cent_clusters, 10))"
      ],
      "execution_count": 140,
      "outputs": [
        {
          "output_type": "stream",
          "name": "stdout",
          "text": [
            "SSE for Euclidean:  436993498328.9814\n",
            "Accuracy for Euclidean:  0.5984598459845984\n",
            "\n",
            "SSE for Cosine:  23049.727420211748\n",
            "Accuracy for Cosine:  0.6267626762676267\n",
            "\n",
            "SSE for Jaccard:  55454.68301242867\n",
            "Accuracy for Jaccard:  0.624962496249625\n"
          ]
        }
      ]
    },
    {
      "cell_type": "markdown",
      "metadata": {
        "id": "x8ckfnX7uMJG"
      },
      "source": [
        "##Q3"
      ]
    },
    {
      "cell_type": "code",
      "metadata": {
        "colab": {
          "base_uri": "https://localhost:8080/"
        },
        "id": "S7kWFspcuX3g",
        "outputId": "a57302cf-1648-4581-e700-afdbe6de7dc9"
      },
      "source": [
        "print(\"Euclidean Converging Time:\", euc_stop_iterations, \"iterations in\", euc_stop_runtime/1000000000, \"s\")\n",
        "print(\"Cosine Converging Time:\", cos_stop_iterations, \"iterations in\", cos_stop_runtime/1000000000, \"s\")\n",
        "print(\"Jaccard Converging Time:\", jac_stop_iterations, \"iterations in\", jac_stop_runtime/1000000000, \"s\")"
      ],
      "execution_count": 152,
      "outputs": [
        {
          "output_type": "stream",
          "name": "stdout",
          "text": [
            "Euclidean Converging Time: 2 iterations in 11.813203688 s\n",
            "Cosine Converging Time: 2 iterations in 28.33975804 s\n",
            "Jaccard Converging Time: 4 iterations in 41.7014142 s\n"
          ]
        }
      ]
    },
    {
      "cell_type": "markdown",
      "metadata": {
        "id": "LVVvQYFhuU0n"
      },
      "source": [
        "##Q4"
      ]
    },
    {
      "cell_type": "code",
      "metadata": {
        "colab": {
          "base_uri": "https://localhost:8080/"
        },
        "id": "huR74yR8pBiY",
        "outputId": "a1a9a0f4-40d6-423c-fd72-46504832d164"
      },
      "source": [
        "print(\"SSE for Euclidean Stop on Unchanged Centroids: \", sse(data, euc_cent_centroids, 'euclidean'), \" with \", euc_cent_iterations, \" iterations\")\n",
        "print()\n",
        "print(\"SSE for Cosine Stop on Unchanged Centroids: \", sse(data, cos_cent_centroids, 'cosine'), \" with \", cos_cent_iterations, \" iterations\")\n",
        "print()\n",
        "print(\"SSE for Jaccard Stop on Unchanged Centroids: \", sse(data, jac_cent_centroids, 'jaccard'), \" with \", jac_cent_iterations, \" iterations\")"
      ],
      "execution_count": 147,
      "outputs": [
        {
          "output_type": "stream",
          "name": "stdout",
          "text": [
            "SSE for Euclidean Stop on Unchanged Centroids:  436993498328.9814  with  22  iterations\n",
            "\n",
            "SSE for Cosine Stop on Unchanged Centroids:  23049.727420211748  with  24  iterations\n",
            "\n",
            "SSE for Jaccard Stop on Unchanged Centroids:  55454.68301242867  with  91  iterations\n"
          ]
        }
      ]
    },
    {
      "cell_type": "code",
      "metadata": {
        "colab": {
          "base_uri": "https://localhost:8080/"
        },
        "id": "81CbHoIcpozf",
        "outputId": "d8e39c7b-dc07-413d-8dd3-ad40ef6aa73e"
      },
      "source": [
        "print(\"SSE for Euclidean Stop on SSE Increase: \", sse(data, euc_sse_centroids, 'euclidean'), \" with \", euc_sse_iterations, \" iterations\")\n",
        "print()\n",
        "print(\"SSE for Cosine Stop on SSE Increase: \", sse(data, cos_sse_centroids, 'cosine'), \" with \", cos_sse_iterations, \" iterations\")\n",
        "print()\n",
        "print(\"SSE for Jaccard Stop on SSE Increase: \", sse(data, jac_sse_centroids, 'jaccard'), \" with \", jac_sse_iterations, \" iterations\")"
      ],
      "execution_count": 148,
      "outputs": [
        {
          "output_type": "stream",
          "name": "stdout",
          "text": [
            "SSE for Euclidean Stop on SSE Increase:  425307271861.4313  with  2  iterations\n",
            "\n",
            "SSE for Cosine Stop on SSE Increase:  20524.96205798428  with  2  iterations\n",
            "\n",
            "SSE for Jaccard Stop on SSE Increase:  54845.557650027295  with  3  iterations\n"
          ]
        }
      ]
    },
    {
      "cell_type": "code",
      "metadata": {
        "colab": {
          "base_uri": "https://localhost:8080/"
        },
        "id": "9EI0nmKep-2a",
        "outputId": "f8f10073-9029-44d4-992b-525b0c01eaf0"
      },
      "source": [
        "print(\"SSE for Euclidean Stop on 250 Iterations: \", sse(data, euc_iter_centroids, 'euclidean'), \" with \", euc_iter_iterations, \" iterations\")\n",
        "print()\n",
        "print(\"SSE for Cosine Stop on 250 Iterations: \", sse(data, cos_iter_centroids, 'cosine'), \" with \", cos_iter_iterations, \" iterations\")\n",
        "print()\n",
        "print(\"SSE for Jaccard Stop on 250 Iterations: \", sse(data, jac_iter_centroids, 'jaccard'), \" with \", jac_iter_iterations, \" iterations\")"
      ],
      "execution_count": 149,
      "outputs": [
        {
          "output_type": "stream",
          "name": "stdout",
          "text": [
            "SSE for Euclidean Stop on 250 Iterations:  444028221901.25055  with  250  iterations\n",
            "\n",
            "SSE for Cosine Stop on 250 Iterations:  23026.21803131335  with  250  iterations\n",
            "\n",
            "SSE for Jaccard Stop on 250 Iterations:  55515.28945609175  with  250  iterations\n"
          ]
        }
      ]
    },
    {
      "cell_type": "markdown",
      "metadata": {
        "id": "hSnHOzOLXnWg"
      },
      "source": [
        "#Task 3"
      ]
    },
    {
      "cell_type": "code",
      "metadata": {
        "colab": {
          "base_uri": "https://localhost:8080/"
        },
        "id": "rz36uxlKXpl_",
        "outputId": "a206716e-2099-4391-caa7-87d62e862f1f"
      },
      "source": [
        "from scipy.spatial import distance_matrix\n",
        "from sklearn.metrics.pairwise import euclidean_distances\n",
        "c1 = [[4.7,3.2],[4.9,3.1],[5.0,3.0],[4.6,2.9]]\n",
        "c2 = [[5.9,3.2],[6.7,3.1],[6.0,3.0],[6.2,2.8]]\n",
        "\n",
        "distances = euclidean_distances(c1, c2)\n",
        "print(pd.DataFrame(distances))\n",
        "print(\"\\n\")\n",
        "\n",
        "#average distance between all pairs\n",
        "avg = distances.sum() / np.count_nonzero(distances)\n",
        "\n",
        "#maximum and minimum distances\n",
        "max = np.max(distances[np.nonzero(distances)])\n",
        "min = np.min(distances[np.nonzero(distances)])\n",
        "\n",
        "\n",
        "print(\"Max: \", round(max,4))\n",
        "print(\"Min: \", round(min,4))\n",
        "print(\"Average between all pairs: \", round(avg,4))"
      ],
      "execution_count": 106,
      "outputs": [
        {
          "output_type": "stream",
          "name": "stdout",
          "text": [
            "          0         1         2         3\n",
            "0  1.200000  2.002498  1.315295  1.552417\n",
            "1  1.004988  1.800000  1.104536  1.334166\n",
            "2  0.921954  1.702939  1.000000  1.216553\n",
            "3  1.334166  2.109502  1.403567  1.603122\n",
            "\n",
            "\n",
            "Max:  2.1095\n",
            "Min:  0.922\n",
            "Average between all pairs:  1.4129\n"
          ]
        }
      ]
    }
  ]
}