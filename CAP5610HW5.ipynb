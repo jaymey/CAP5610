{
  "nbformat": 4,
  "nbformat_minor": 0,
  "metadata": {
    "colab": {
      "name": "CAP5610HW5.ipynb",
      "provenance": [],
      "authorship_tag": "ABX9TyO0t1hTRJwRuie22CUCd03r",
      "include_colab_link": true
    },
    "kernelspec": {
      "name": "python3",
      "display_name": "Python 3"
    },
    "language_info": {
      "name": "python"
    }
  },
  "cells": [
    {
      "cell_type": "markdown",
      "metadata": {
        "id": "view-in-github",
        "colab_type": "text"
      },
      "source": [
        "<a href=\"https://colab.research.google.com/github/jaymey/CAP5610/blob/main/CAP5610HW5.ipynb\" target=\"_parent\"><img src=\"https://colab.research.google.com/assets/colab-badge.svg\" alt=\"Open In Colab\"/></a>"
      ]
    },
    {
      "cell_type": "code",
      "metadata": {
        "id": "7kjyBLfaPQrT",
        "colab": {
          "base_uri": "https://localhost:8080/"
        },
        "outputId": "3a1ad496-79fe-45ad-c904-65693741c5ff"
      },
      "source": [
        "!pip install scikit-surprise"
      ],
      "execution_count": 3,
      "outputs": [
        {
          "output_type": "stream",
          "name": "stdout",
          "text": [
            "Requirement already satisfied: scikit-surprise in /usr/local/lib/python3.7/dist-packages (1.1.1)\n",
            "Requirement already satisfied: six>=1.10.0 in /usr/local/lib/python3.7/dist-packages (from scikit-surprise) (1.15.0)\n",
            "Requirement already satisfied: scipy>=1.0.0 in /usr/local/lib/python3.7/dist-packages (from scikit-surprise) (1.4.1)\n",
            "Requirement already satisfied: joblib>=0.11 in /usr/local/lib/python3.7/dist-packages (from scikit-surprise) (1.1.0)\n",
            "Requirement already satisfied: numpy>=1.11.2 in /usr/local/lib/python3.7/dist-packages (from scikit-surprise) (1.19.5)\n"
          ]
        }
      ]
    },
    {
      "cell_type": "code",
      "metadata": {
        "id": "ZJWmoarh3eqF"
      },
      "source": [
        "import numpy as np\n",
        "import pandas as pd\n",
        "import matplotlib.pyplot as plt\n",
        "\n",
        "from surprise import SVD\n",
        "from surprise import KNNBasic\n",
        "from surprise import Reader\n",
        "from surprise import Dataset\n",
        "from surprise.model_selection import cross_validate"
      ],
      "execution_count": 28,
      "outputs": []
    },
    {
      "cell_type": "markdown",
      "metadata": {
        "id": "AxeFG8IY9rlO"
      },
      "source": [
        "##a"
      ]
    },
    {
      "cell_type": "code",
      "metadata": {
        "id": "eMT3MyoL5vkG"
      },
      "source": [
        "reader = Reader(line_format='user item rating timestamp', sep=',', rating_scale=(0.5,5), skip_lines=1)\n",
        "movie_ratings = Dataset.load_from_file(\"ratings_small.csv\",reader=reader)"
      ],
      "execution_count": 26,
      "outputs": []
    },
    {
      "cell_type": "markdown",
      "metadata": {
        "id": "iZpKubqu9yxq"
      },
      "source": [
        "##b & c"
      ]
    },
    {
      "cell_type": "code",
      "metadata": {
        "colab": {
          "base_uri": "https://localhost:8080/"
        },
        "id": "r5Hw9uBl9obf",
        "outputId": "702dd1cd-27df-4565-acd0-c826dd4c302b"
      },
      "source": [
        "PMF = SVD(biased=False)\n",
        "cross_validate(PMF, movie_ratings, measures=['rmse','mae'], cv=5, verbose=True)\n",
        "print()"
      ],
      "execution_count": 29,
      "outputs": [
        {
          "output_type": "stream",
          "name": "stdout",
          "text": [
            "Evaluating RMSE, MAE of algorithm SVD on 5 split(s).\n",
            "\n",
            "                  Fold 1  Fold 2  Fold 3  Fold 4  Fold 5  Mean    Std     \n",
            "RMSE (testset)    1.0177  1.0145  1.0215  1.0089  0.9993  1.0124  0.0077  \n",
            "MAE (testset)     0.7843  0.7809  0.7858  0.7799  0.7706  0.7803  0.0053  \n",
            "Fit time          4.89    4.83    4.86    4.88    4.86    4.86    0.02    \n",
            "Test time         0.27    0.20    0.15    0.24    0.15    0.20    0.05    \n",
            "\n"
          ]
        }
      ]
    },
    {
      "cell_type": "code",
      "metadata": {
        "colab": {
          "base_uri": "https://localhost:8080/"
        },
        "id": "uKVFFPs1-WyO",
        "outputId": "446454cf-3591-4f2f-9ac5-9452fc6063d4"
      },
      "source": [
        "sim_options = {'user_based' : True}\n",
        "User_based = KNNBasic(sim_options=sim_options)\n",
        "cross_validate(User_based, movie_ratings, measures=['rmse','mae'], cv=5, verbose=True)\n",
        "print()"
      ],
      "execution_count": 30,
      "outputs": [
        {
          "output_type": "stream",
          "name": "stdout",
          "text": [
            "Computing the msd similarity matrix...\n",
            "Done computing similarity matrix.\n",
            "Computing the msd similarity matrix...\n",
            "Done computing similarity matrix.\n",
            "Computing the msd similarity matrix...\n",
            "Done computing similarity matrix.\n",
            "Computing the msd similarity matrix...\n",
            "Done computing similarity matrix.\n",
            "Computing the msd similarity matrix...\n",
            "Done computing similarity matrix.\n",
            "Evaluating RMSE, MAE of algorithm KNNBasic on 5 split(s).\n",
            "\n",
            "                  Fold 1  Fold 2  Fold 3  Fold 4  Fold 5  Mean    Std     \n",
            "RMSE (testset)    0.9668  0.9666  0.9660  0.9666  0.9742  0.9681  0.0031  \n",
            "MAE (testset)     0.7417  0.7420  0.7399  0.7464  0.7490  0.7438  0.0034  \n",
            "Fit time          0.15    0.17    0.18    0.18    0.17    0.17    0.01    \n",
            "Test time         1.89    1.82    1.75    1.84    1.79    1.82    0.05    \n",
            "\n"
          ]
        }
      ]
    },
    {
      "cell_type": "code",
      "metadata": {
        "colab": {
          "base_uri": "https://localhost:8080/"
        },
        "id": "vj7syVpq-ZGP",
        "outputId": "f3185557-9e9a-404e-b2d5-2057444921c2"
      },
      "source": [
        "sim_options = {'user_based' : False}\n",
        "Item_based = KNNBasic(sim_options=sim_options)\n",
        "cross_validate(Item_based, movie_ratings, measures=['rmse','mae'], cv=5, verbose=True)\n",
        "print()"
      ],
      "execution_count": 31,
      "outputs": [
        {
          "output_type": "stream",
          "name": "stdout",
          "text": [
            "Computing the msd similarity matrix...\n",
            "Done computing similarity matrix.\n",
            "Computing the msd similarity matrix...\n",
            "Done computing similarity matrix.\n",
            "Computing the msd similarity matrix...\n",
            "Done computing similarity matrix.\n",
            "Computing the msd similarity matrix...\n",
            "Done computing similarity matrix.\n",
            "Computing the msd similarity matrix...\n",
            "Done computing similarity matrix.\n",
            "Evaluating RMSE, MAE of algorithm KNNBasic on 5 split(s).\n",
            "\n",
            "                  Fold 1  Fold 2  Fold 3  Fold 4  Fold 5  Mean    Std     \n",
            "RMSE (testset)    0.9392  0.9447  0.9304  0.9322  0.9288  0.9351  0.0060  \n",
            "MAE (testset)     0.7256  0.7281  0.7170  0.7187  0.7161  0.7211  0.0049  \n",
            "Fit time          4.66    4.31    3.92    4.24    3.92    4.21    0.27    \n",
            "Test time         8.09    7.86    7.96    8.19    7.98    8.02    0.11    \n",
            "\n"
          ]
        }
      ]
    },
    {
      "cell_type": "markdown",
      "metadata": {
        "id": "jb0xdi92IACj"
      },
      "source": [
        "##e"
      ]
    },
    {
      "cell_type": "code",
      "metadata": {
        "colab": {
          "base_uri": "https://localhost:8080/"
        },
        "id": "SvfzRdUEKENd",
        "outputId": "5ed818c0-7b8c-4d15-cfbb-b07e77208d30"
      },
      "source": [
        "cosine = {'name' : 'cosine', 'user_based' : True}\n",
        "msd = {'name' : 'MSD', 'user_based' : True}\n",
        "pearson = {'name' : 'pearson', 'user_based' : True}\n",
        "\n",
        "User_based_cosine = KNNBasic(sim_options=cosine)\n",
        "User_based_msd = KNNBasic(sim_options=msd)\n",
        "User_based_pearson = KNNBasic(sim_options=pearson)\n",
        "\n",
        "cross_validate(User_based_cosine, movie_ratings, measures=['rmse','mae'], cv=5, verbose=True)\n",
        "print()\n",
        "cross_validate(User_based_msd, movie_ratings, measures=['rmse','mae'], cv=5, verbose=True)\n",
        "print()\n",
        "cross_validate(User_based_pearson, movie_ratings, measures=['rmse','mae'], cv=5, verbose=True)\n",
        "print()\n"
      ],
      "execution_count": 33,
      "outputs": [
        {
          "output_type": "stream",
          "name": "stdout",
          "text": [
            "Computing the cosine similarity matrix...\n",
            "Done computing similarity matrix.\n",
            "Computing the cosine similarity matrix...\n",
            "Done computing similarity matrix.\n",
            "Computing the cosine similarity matrix...\n",
            "Done computing similarity matrix.\n",
            "Computing the cosine similarity matrix...\n",
            "Done computing similarity matrix.\n",
            "Computing the cosine similarity matrix...\n",
            "Done computing similarity matrix.\n",
            "Evaluating RMSE, MAE of algorithm KNNBasic on 5 split(s).\n",
            "\n",
            "                  Fold 1  Fold 2  Fold 3  Fold 4  Fold 5  Mean    Std     \n",
            "RMSE (testset)    0.9874  0.9917  1.0007  1.0017  0.9817  0.9926  0.0077  \n",
            "MAE (testset)     0.7620  0.7642  0.7698  0.7735  0.7622  0.7663  0.0046  \n",
            "Fit time          0.44    0.44    0.43    0.44    0.53    0.46    0.04    \n",
            "Test time         1.81    1.84    1.98    1.78    2.47    1.98    0.26    \n",
            "\n",
            "Computing the msd similarity matrix...\n",
            "Done computing similarity matrix.\n",
            "Computing the msd similarity matrix...\n",
            "Done computing similarity matrix.\n",
            "Computing the msd similarity matrix...\n",
            "Done computing similarity matrix.\n",
            "Computing the msd similarity matrix...\n",
            "Done computing similarity matrix.\n",
            "Computing the msd similarity matrix...\n",
            "Done computing similarity matrix.\n",
            "Evaluating RMSE, MAE of algorithm KNNBasic on 5 split(s).\n",
            "\n",
            "                  Fold 1  Fold 2  Fold 3  Fold 4  Fold 5  Mean    Std     \n",
            "RMSE (testset)    0.9719  0.9694  0.9679  0.9638  0.9662  0.9678  0.0028  \n",
            "MAE (testset)     0.7460  0.7455  0.7439  0.7386  0.7444  0.7437  0.0027  \n",
            "Fit time          0.16    0.28    0.19    0.18    0.20    0.20    0.04    \n",
            "Test time         2.38    3.04    1.79    1.84    2.02    2.21    0.46    \n",
            "\n",
            "Computing the pearson similarity matrix...\n",
            "Done computing similarity matrix.\n",
            "Computing the pearson similarity matrix...\n",
            "Done computing similarity matrix.\n",
            "Computing the pearson similarity matrix...\n",
            "Done computing similarity matrix.\n",
            "Computing the pearson similarity matrix...\n",
            "Done computing similarity matrix.\n",
            "Computing the pearson similarity matrix...\n",
            "Done computing similarity matrix.\n",
            "Evaluating RMSE, MAE of algorithm KNNBasic on 5 split(s).\n",
            "\n",
            "                  Fold 1  Fold 2  Fold 3  Fold 4  Fold 5  Mean    Std     \n",
            "RMSE (testset)    1.0058  0.9998  0.9964  0.9961  0.9980  0.9992  0.0035  \n",
            "MAE (testset)     0.7765  0.7742  0.7712  0.7702  0.7727  0.7729  0.0022  \n",
            "Fit time          0.58    0.64    0.61    0.57    0.59    0.60    0.02    \n",
            "Test time         1.79    1.85    1.78    2.00    1.75    1.83    0.09    \n",
            "\n"
          ]
        }
      ]
    },
    {
      "cell_type": "code",
      "metadata": {
        "colab": {
          "base_uri": "https://localhost:8080/"
        },
        "id": "wlqyRQtgH_vI",
        "outputId": "bd13c1b2-e42d-4aaa-a29d-cf4d692b49cd"
      },
      "source": [
        "cosine = {'name' : 'cosine', 'user_based' : False}\n",
        "msd = {'name' : 'MSD', 'user_based' : False}\n",
        "pearson = {'name' : 'pearson', 'user_based' : False}\n",
        "\n",
        "Item_based_cosine = KNNBasic(sim_options=cosine)\n",
        "Item_based_msd = KNNBasic(sim_options=msd)\n",
        "Item_based_pearson = KNNBasic(sim_options=pearson)\n",
        "\n",
        "cross_validate(Item_based_cosine, movie_ratings, measures=['rmse','mae'], cv=5, verbose=True)\n",
        "print()\n",
        "cross_validate(Item_based_msd, movie_ratings, measures=['rmse','mae'], cv=5, verbose=True)\n",
        "print()\n",
        "cross_validate(Item_based_pearson, movie_ratings, measures=['rmse','mae'], cv=5, verbose=True)\n",
        "print()"
      ],
      "execution_count": 34,
      "outputs": [
        {
          "output_type": "stream",
          "name": "stdout",
          "text": [
            "Computing the cosine similarity matrix...\n",
            "Done computing similarity matrix.\n",
            "Computing the cosine similarity matrix...\n",
            "Done computing similarity matrix.\n",
            "Computing the cosine similarity matrix...\n",
            "Done computing similarity matrix.\n",
            "Computing the cosine similarity matrix...\n",
            "Done computing similarity matrix.\n",
            "Computing the cosine similarity matrix...\n",
            "Done computing similarity matrix.\n",
            "Evaluating RMSE, MAE of algorithm KNNBasic on 5 split(s).\n",
            "\n",
            "                  Fold 1  Fold 2  Fold 3  Fold 4  Fold 5  Mean    Std     \n",
            "RMSE (testset)    0.9963  0.9973  0.9871  0.9996  0.9946  0.9950  0.0043  \n",
            "MAE (testset)     0.7762  0.7764  0.7689  0.7764  0.7757  0.7747  0.0029  \n",
            "Fit time          16.12   14.14   14.05   14.60   14.53   14.69   0.75    \n",
            "Test time         8.11    7.69    8.00    7.83    8.11    7.95    0.17    \n",
            "\n",
            "Computing the msd similarity matrix...\n",
            "Done computing similarity matrix.\n",
            "Computing the msd similarity matrix...\n",
            "Done computing similarity matrix.\n",
            "Computing the msd similarity matrix...\n",
            "Done computing similarity matrix.\n",
            "Computing the msd similarity matrix...\n",
            "Done computing similarity matrix.\n",
            "Computing the msd similarity matrix...\n",
            "Done computing similarity matrix.\n",
            "Evaluating RMSE, MAE of algorithm KNNBasic on 5 split(s).\n",
            "\n",
            "                  Fold 1  Fold 2  Fold 3  Fold 4  Fold 5  Mean    Std     \n",
            "RMSE (testset)    0.9372  0.9397  0.9283  0.9413  0.9306  0.9354  0.0051  \n",
            "MAE (testset)     0.7216  0.7237  0.7169  0.7242  0.7202  0.7213  0.0026  \n",
            "Fit time          3.98    4.03    4.05    4.65    3.92    4.13    0.27    \n",
            "Test time         7.99    7.94    8.04    7.94    8.06    7.99    0.05    \n",
            "\n",
            "Computing the pearson similarity matrix...\n",
            "Done computing similarity matrix.\n",
            "Computing the pearson similarity matrix...\n",
            "Done computing similarity matrix.\n",
            "Computing the pearson similarity matrix...\n",
            "Done computing similarity matrix.\n",
            "Computing the pearson similarity matrix...\n",
            "Done computing similarity matrix.\n",
            "Computing the pearson similarity matrix...\n",
            "Done computing similarity matrix.\n",
            "Evaluating RMSE, MAE of algorithm KNNBasic on 5 split(s).\n",
            "\n",
            "                  Fold 1  Fold 2  Fold 3  Fold 4  Fold 5  Mean    Std     \n",
            "RMSE (testset)    0.9980  0.9874  0.9875  0.9869  0.9865  0.9893  0.0043  \n",
            "MAE (testset)     0.7743  0.7653  0.7675  0.7676  0.7650  0.7679  0.0034  \n",
            "Fit time          19.75   19.54   20.30   19.36   20.27   19.84   0.38    \n",
            "Test time         7.79    7.93    7.81    8.11    7.87    7.90    0.11    \n",
            "\n"
          ]
        }
      ]
    },
    {
      "cell_type": "code",
      "metadata": {
        "colab": {
          "base_uri": "https://localhost:8080/",
          "height": 591
        },
        "id": "h2PppoGQOybQ",
        "outputId": "8e22f1e7-a947-4fbd-ee5c-c925d84a5ad0"
      },
      "source": [
        "User_based_compare = [[0.9926, 0.7663],[0.9678, 0.7437],[0.9992, 0.7729]]\n",
        "Item_based_compare = [[0.9950, 0.7747],[0.9354, 0.7213],[0.9893, 0.7679]]\n",
        "\n",
        "User_based_df = pd.DataFrame(User_based_compare, columns=['RMSE','MAE'], index=['Cosine','MSD','Pearson'])\n",
        "Item_based_df = pd.DataFrame(Item_based_compare, columns=['RMSE','MAE'], index=['Cosine','MSD','Pearson'])\n",
        "\n",
        "User_based_df.plot.bar()\n",
        "Item_based_df.plot.bar()"
      ],
      "execution_count": 38,
      "outputs": [
        {
          "output_type": "execute_result",
          "data": {
            "text/plain": [
              "<matplotlib.axes._subplots.AxesSubplot at 0x7fdbc62a0550>"
            ]
          },
          "metadata": {},
          "execution_count": 38
        },
        {
          "output_type": "display_data",
          "data": {
            "image/png": "[encoded data removed]",
            "text/plain": [
              "<Figure size 432x288 with 1 Axes>"
            ]
          },
          "metadata": {
            "needs_background": "light"
          }
        },
        {
          "output_type": "display_data",
          "data": {
            "image/png": "[encoded data removed]",
            "text/plain": [
              "<Figure size 432x288 with 1 Axes>"
            ]
          },
          "metadata": {
            "needs_background": "light"
          }
        }
      ]
    },
    {
      "cell_type": "markdown",
      "metadata": {
        "id": "DAYwCkqTW2fy"
      },
      "source": [
        "##f & g"
      ]
    },
    {
      "cell_type": "code",
      "metadata": {
        "colab": {
          "base_uri": "https://localhost:8080/"
        },
        "id": "eamKWh2OW6jc",
        "outputId": "e7fad860-10f9-42f2-fac5-c126e325521a"
      },
      "source": [
        "user = {'user_based':True}\n",
        "\n",
        "user_results = []\n",
        "for k in range(10,100,10):\n",
        "  User_based = KNNBasic(k=k, sim_options=user)\n",
        "  result = cross_validate(User_based, movie_ratings, measures=['rmse','mae'], cv=5)\n",
        "  user_results.append([np.mean(result['test_rmse']), np.mean(result['test_mae'])])"
      ],
      "execution_count": 41,
      "outputs": [
        {
          "output_type": "stream",
          "name": "stdout",
          "text": [
            "Computing the msd similarity matrix...\n",
            "Done computing similarity matrix.\n",
            "Computing the msd similarity matrix...\n",
            "Done computing similarity matrix.\n",
            "Computing the msd similarity matrix...\n",
            "Done computing similarity matrix.\n",
            "Computing the msd similarity matrix...\n",
            "Done computing similarity matrix.\n",
            "Computing the msd similarity matrix...\n",
            "Done computing similarity matrix.\n",
            "Computing the msd similarity matrix...\n",
            "Done computing similarity matrix.\n",
            "Computing the msd similarity matrix...\n",
            "Done computing similarity matrix.\n",
            "Computing the msd similarity matrix...\n",
            "Done computing similarity matrix.\n",
            "Computing the msd similarity matrix...\n",
            "Done computing similarity matrix.\n",
            "Computing the msd similarity matrix...\n",
            "Done computing similarity matrix.\n",
            "Computing the msd similarity matrix...\n",
            "Done computing similarity matrix.\n",
            "Computing the msd similarity matrix...\n",
            "Done computing similarity matrix.\n",
            "Computing the msd similarity matrix...\n",
            "Done computing similarity matrix.\n",
            "Computing the msd similarity matrix...\n",
            "Done computing similarity matrix.\n",
            "Computing the msd similarity matrix...\n",
            "Done computing similarity matrix.\n",
            "Computing the msd similarity matrix...\n",
            "Done computing similarity matrix.\n",
            "Computing the msd similarity matrix...\n",
            "Done computing similarity matrix.\n",
            "Computing the msd similarity matrix...\n",
            "Done computing similarity matrix.\n",
            "Computing the msd similarity matrix...\n",
            "Done computing similarity matrix.\n",
            "Computing the msd similarity matrix...\n",
            "Done computing similarity matrix.\n",
            "Computing the msd similarity matrix...\n",
            "Done computing similarity matrix.\n",
            "Computing the msd similarity matrix...\n",
            "Done computing similarity matrix.\n",
            "Computing the msd similarity matrix...\n",
            "Done computing similarity matrix.\n",
            "Computing the msd similarity matrix...\n",
            "Done computing similarity matrix.\n",
            "Computing the msd similarity matrix...\n",
            "Done computing similarity matrix.\n",
            "Computing the msd similarity matrix...\n",
            "Done computing similarity matrix.\n",
            "Computing the msd similarity matrix...\n",
            "Done computing similarity matrix.\n",
            "Computing the msd similarity matrix...\n",
            "Done computing similarity matrix.\n",
            "Computing the msd similarity matrix...\n",
            "Done computing similarity matrix.\n",
            "Computing the msd similarity matrix...\n",
            "Done computing similarity matrix.\n",
            "Computing the msd similarity matrix...\n",
            "Done computing similarity matrix.\n",
            "Computing the msd similarity matrix...\n",
            "Done computing similarity matrix.\n",
            "Computing the msd similarity matrix...\n",
            "Done computing similarity matrix.\n",
            "Computing the msd similarity matrix...\n",
            "Done computing similarity matrix.\n",
            "Computing the msd similarity matrix...\n",
            "Done computing similarity matrix.\n",
            "Computing the msd similarity matrix...\n",
            "Done computing similarity matrix.\n",
            "Computing the msd similarity matrix...\n",
            "Done computing similarity matrix.\n",
            "Computing the msd similarity matrix...\n",
            "Done computing similarity matrix.\n",
            "Computing the msd similarity matrix...\n",
            "Done computing similarity matrix.\n",
            "Computing the msd similarity matrix...\n",
            "Done computing similarity matrix.\n",
            "Computing the msd similarity matrix...\n",
            "Done computing similarity matrix.\n",
            "Computing the msd similarity matrix...\n",
            "Done computing similarity matrix.\n",
            "Computing the msd similarity matrix...\n",
            "Done computing similarity matrix.\n",
            "Computing the msd similarity matrix...\n",
            "Done computing similarity matrix.\n",
            "Computing the msd similarity matrix...\n",
            "Done computing similarity matrix.\n"
          ]
        }
      ]
    },
    {
      "cell_type": "code",
      "metadata": {
        "colab": {
          "base_uri": "https://localhost:8080/"
        },
        "id": "Chh_2TiZaQBF",
        "outputId": "fb85b106-bb76-46fe-d161-c95a39f691dc"
      },
      "source": [
        "item = {'user_based':False}\n",
        "\n",
        "item_results = []\n",
        "for k in range(10,100,10):\n",
        "  Item_based = KNNBasic(k=k, sim_options=item)\n",
        "  result = cross_validate(Item_based, movie_ratings, measures=['rmse','mae'], cv=5)\n",
        "  item_results.append([np.mean(result['test_rmse']), np.mean(result['test_mae'])])"
      ],
      "execution_count": 42,
      "outputs": [
        {
          "output_type": "stream",
          "name": "stdout",
          "text": [
            "Computing the msd similarity matrix...\n",
            "Done computing similarity matrix.\n",
            "Computing the msd similarity matrix...\n",
            "Done computing similarity matrix.\n",
            "Computing the msd similarity matrix...\n",
            "Done computing similarity matrix.\n",
            "Computing the msd similarity matrix...\n",
            "Done computing similarity matrix.\n",
            "Computing the msd similarity matrix...\n",
            "Done computing similarity matrix.\n",
            "Computing the msd similarity matrix...\n",
            "Done computing similarity matrix.\n",
            "Computing the msd similarity matrix...\n",
            "Done computing similarity matrix.\n",
            "Computing the msd similarity matrix...\n",
            "Done computing similarity matrix.\n",
            "Computing the msd similarity matrix...\n",
            "Done computing similarity matrix.\n",
            "Computing the msd similarity matrix...\n",
            "Done computing similarity matrix.\n",
            "Computing the msd similarity matrix...\n",
            "Done computing similarity matrix.\n",
            "Computing the msd similarity matrix...\n",
            "Done computing similarity matrix.\n",
            "Computing the msd similarity matrix...\n",
            "Done computing similarity matrix.\n",
            "Computing the msd similarity matrix...\n",
            "Done computing similarity matrix.\n",
            "Computing the msd similarity matrix...\n",
            "Done computing similarity matrix.\n",
            "Computing the msd similarity matrix...\n",
            "Done computing similarity matrix.\n",
            "Computing the msd similarity matrix...\n",
            "Done computing similarity matrix.\n",
            "Computing the msd similarity matrix...\n",
            "Done computing similarity matrix.\n",
            "Computing the msd similarity matrix...\n",
            "Done computing similarity matrix.\n",
            "Computing the msd similarity matrix...\n",
            "Done computing similarity matrix.\n",
            "Computing the msd similarity matrix...\n",
            "Done computing similarity matrix.\n",
            "Computing the msd similarity matrix...\n",
            "Done computing similarity matrix.\n",
            "Computing the msd similarity matrix...\n",
            "Done computing similarity matrix.\n",
            "Computing the msd similarity matrix...\n",
            "Done computing similarity matrix.\n",
            "Computing the msd similarity matrix...\n",
            "Done computing similarity matrix.\n",
            "Computing the msd similarity matrix...\n",
            "Done computing similarity matrix.\n",
            "Computing the msd similarity matrix...\n",
            "Done computing similarity matrix.\n",
            "Computing the msd similarity matrix...\n",
            "Done computing similarity matrix.\n",
            "Computing the msd similarity matrix...\n",
            "Done computing similarity matrix.\n",
            "Computing the msd similarity matrix...\n",
            "Done computing similarity matrix.\n",
            "Computing the msd similarity matrix...\n",
            "Done computing similarity matrix.\n",
            "Computing the msd similarity matrix...\n",
            "Done computing similarity matrix.\n",
            "Computing the msd similarity matrix...\n",
            "Done computing similarity matrix.\n",
            "Computing the msd similarity matrix...\n",
            "Done computing similarity matrix.\n",
            "Computing the msd similarity matrix...\n",
            "Done computing similarity matrix.\n",
            "Computing the msd similarity matrix...\n",
            "Done computing similarity matrix.\n",
            "Computing the msd similarity matrix...\n",
            "Done computing similarity matrix.\n",
            "Computing the msd similarity matrix...\n",
            "Done computing similarity matrix.\n",
            "Computing the msd similarity matrix...\n",
            "Done computing similarity matrix.\n",
            "Computing the msd similarity matrix...\n",
            "Done computing similarity matrix.\n",
            "Computing the msd similarity matrix...\n",
            "Done computing similarity matrix.\n",
            "Computing the msd similarity matrix...\n",
            "Done computing similarity matrix.\n",
            "Computing the msd similarity matrix...\n",
            "Done computing similarity matrix.\n",
            "Computing the msd similarity matrix...\n",
            "Done computing similarity matrix.\n",
            "Computing the msd similarity matrix...\n",
            "Done computing similarity matrix.\n"
          ]
        }
      ]
    },
    {
      "cell_type": "code",
      "metadata": {
        "colab": {
          "base_uri": "https://localhost:8080/"
        },
        "id": "ghMJ8ztsaftP",
        "outputId": "75230df0-55d5-4a44-8ad8-d35f4a10cc8d"
      },
      "source": [
        "User_k = pd.DataFrame(user_results, columns=['RMSE','MAE'], index=pd.Index(range(10,100,10)))\n",
        "print(\"User based\")\n",
        "print(User_k)\n",
        "print()\n",
        "\n",
        "Item_k = pd.DataFrame(item_results, columns=['RMSE','MAE'], index=pd.Index(range(10,100,10)))\n",
        "print(\"Item based\")\n",
        "print(Item_k)"
      ],
      "execution_count": 48,
      "outputs": [
        {
          "output_type": "stream",
          "name": "stdout",
          "text": [
            "User based\n",
            "        RMSE       MAE\n",
            "10  0.967795  0.739865\n",
            "20  0.963743  0.738428\n",
            "30  0.965756  0.741240\n",
            "40  0.969302  0.744990\n",
            "50  0.973147  0.747974\n",
            "60  0.972036  0.747858\n",
            "70  0.973328  0.749240\n",
            "80  0.974593  0.751462\n",
            "90  0.976332  0.752178\n",
            "\n",
            "Item based\n",
            "        RMSE       MAE\n",
            "10  0.975309  0.754747\n",
            "20  0.948998  0.733272\n",
            "30  0.938168  0.723802\n",
            "40  0.934431  0.720889\n",
            "50  0.932574  0.719099\n",
            "60  0.932354  0.718654\n",
            "70  0.931257  0.717765\n",
            "80  0.931805  0.717992\n",
            "90  0.931966  0.718335\n"
          ]
        }
      ]
    },
    {
      "cell_type": "code",
      "metadata": {
        "colab": {
          "base_uri": "https://localhost:8080/",
          "height": 536
        },
        "id": "haHFTGCseAlk",
        "outputId": "ab4a12b7-90e9-4f1f-b494-af21a9e73bbc"
      },
      "source": [
        "User_k.plot.bar()\n",
        "Item_k.plot.bar()"
      ],
      "execution_count": 49,
      "outputs": [
        {
          "output_type": "execute_result",
          "data": {
            "text/plain": [
              "<matplotlib.axes._subplots.AxesSubplot at 0x7fdbcd05cbd0>"
            ]
          },
          "metadata": {},
          "execution_count": 49
        },
        {
          "output_type": "display_data",
          "data": {
            "image/png": "[encoded data removed]",
            "text/plain": [
              "<Figure size 432x288 with 1 Axes>"
            ]
          },
          "metadata": {
            "needs_background": "light"
          }
        },
        {
          "output_type": "display_data",
          "data": {
            "image/png": "[encoded data removed]",
            "text/plain": [
              "<Figure size 432x288 with 1 Axes>"
            ]
          },
          "metadata": {
            "needs_background": "light"
          }
        }
      ]
    }
  ]
}