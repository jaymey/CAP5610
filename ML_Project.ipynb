{
  "nbformat": 4,
  "nbformat_minor": 0,
  "metadata": {
    "colab": {
      "name": "ML_Project.ipynb",
      "provenance": [],
      "collapsed_sections": [],
      "include_colab_link": true
    },
    "kernelspec": {
      "name": "python3",
      "display_name": "Python 3"
    },
    "language_info": {
      "name": "python"
    }
  },
  "cells": [
    {
      "cell_type": "markdown",
      "metadata": {
        "id": "view-in-github",
        "colab_type": "text"
      },
      "source": [
        "<a href=\"https://colab.research.google.com/github/jaymey/CAP5610/blob/main/ML_Project.ipynb\" target=\"_parent\"><img src=\"https://colab.research.google.com/assets/colab-badge.svg\" alt=\"Open In Colab\"/></a>"
      ]
    },
    {
      "cell_type": "code",
      "metadata": {
        "id": "ML_pd-mmvobp"
      },
      "source": [
        "from sklearn import metrics\n",
        "from sklearn.decomposition import PCA\n",
        "import sklearn as sk\n",
        "import numpy as np\n",
        "import matplotlib.pyplot as plt\n",
        "import seaborn as sns\n",
        "import pandas as pd\n",
        "\n",
        "import seaborn as sns\n",
        "import matplotlib.image as mpimg\n",
        "import matplotlib.pyplot as plt\n",
        "import matplotlib"
      ],
      "execution_count": null,
      "outputs": []
    },
    {
      "cell_type": "code",
      "metadata": {
        "id": "bO10LY_DvpWC"
      },
      "source": [
        "# train = pd.read_csv(\"/content/drive/MyDrive/ML Project Fall 2021/train.csv.zip (Unzipped Files)/train.csv\")\n",
        "# test = pd.read_csv(\"/content/drive/MyDrive/ML Project Fall 2021/test.csv.zip (Unzipped Files)/test.csv\")\n",
        "\n",
        "train = pd.read_csv(\"train.csv\")\n",
        "# test = pd.read_csv(\"test.csv\")"
      ],
      "execution_count": null,
      "outputs": []
    },
    {
      "cell_type": "code",
      "metadata": {
        "colab": {
          "base_uri": "https://localhost:8080/",
          "height": 252
        },
        "id": "SEfxz-oYvvlS",
        "outputId": "a290e43f-9604-4f93-b0b7-20e87015aab2"
      },
      "source": [
        "train.head()"
      ],
      "execution_count": null,
      "outputs": [
        {
          "output_type": "execute_result",
          "data": {
            "text/html": [
              "<div>\n",
              "<style scoped>\n",
              "    .dataframe tbody tr th:only-of-type {\n",
              "        vertical-align: middle;\n",
              "    }\n",
              "\n",
              "    .dataframe tbody tr th {\n",
              "        vertical-align: top;\n",
              "    }\n",
              "\n",
              "    .dataframe thead th {\n",
              "        text-align: right;\n",
              "    }\n",
              "</style>\n",
              "<table border=\"1\" class=\"dataframe\">\n",
              "  <thead>\n",
              "    <tr style=\"text-align: right;\">\n",
              "      <th></th>\n",
              "      <th>label</th>\n",
              "      <th>pixel0</th>\n",
              "      <th>pixel1</th>\n",
              "      <th>pixel2</th>\n",
              "      <th>pixel3</th>\n",
              "      <th>pixel4</th>\n",
              "      <th>pixel5</th>\n",
              "      <th>pixel6</th>\n",
              "      <th>pixel7</th>\n",
              "      <th>pixel8</th>\n",
              "      <th>pixel9</th>\n",
              "      <th>pixel10</th>\n",
              "      <th>pixel11</th>\n",
              "      <th>pixel12</th>\n",
              "      <th>pixel13</th>\n",
              "      <th>pixel14</th>\n",
              "      <th>pixel15</th>\n",
              "      <th>pixel16</th>\n",
              "      <th>pixel17</th>\n",
              "      <th>pixel18</th>\n",
              "      <th>pixel19</th>\n",
              "      <th>pixel20</th>\n",
              "      <th>pixel21</th>\n",
              "      <th>pixel22</th>\n",
              "      <th>pixel23</th>\n",
              "      <th>pixel24</th>\n",
              "      <th>pixel25</th>\n",
              "      <th>pixel26</th>\n",
              "      <th>pixel27</th>\n",
              "      <th>pixel28</th>\n",
              "      <th>pixel29</th>\n",
              "      <th>pixel30</th>\n",
              "      <th>pixel31</th>\n",
              "      <th>pixel32</th>\n",
              "      <th>pixel33</th>\n",
              "      <th>pixel34</th>\n",
              "      <th>pixel35</th>\n",
              "      <th>pixel36</th>\n",
              "      <th>pixel37</th>\n",
              "      <th>pixel38</th>\n",
              "      <th>...</th>\n",
              "      <th>pixel744</th>\n",
              "      <th>pixel745</th>\n",
              "      <th>pixel746</th>\n",
              "      <th>pixel747</th>\n",
              "      <th>pixel748</th>\n",
              "      <th>pixel749</th>\n",
              "      <th>pixel750</th>\n",
              "      <th>pixel751</th>\n",
              "      <th>pixel752</th>\n",
              "      <th>pixel753</th>\n",
              "      <th>pixel754</th>\n",
              "      <th>pixel755</th>\n",
              "      <th>pixel756</th>\n",
              "      <th>pixel757</th>\n",
              "      <th>pixel758</th>\n",
              "      <th>pixel759</th>\n",
              "      <th>pixel760</th>\n",
              "      <th>pixel761</th>\n",
              "      <th>pixel762</th>\n",
              "      <th>pixel763</th>\n",
              "      <th>pixel764</th>\n",
              "      <th>pixel765</th>\n",
              "      <th>pixel766</th>\n",
              "      <th>pixel767</th>\n",
              "      <th>pixel768</th>\n",
              "      <th>pixel769</th>\n",
              "      <th>pixel770</th>\n",
              "      <th>pixel771</th>\n",
              "      <th>pixel772</th>\n",
              "      <th>pixel773</th>\n",
              "      <th>pixel774</th>\n",
              "      <th>pixel775</th>\n",
              "      <th>pixel776</th>\n",
              "      <th>pixel777</th>\n",
              "      <th>pixel778</th>\n",
              "      <th>pixel779</th>\n",
              "      <th>pixel780</th>\n",
              "      <th>pixel781</th>\n",
              "      <th>pixel782</th>\n",
              "      <th>pixel783</th>\n",
              "    </tr>\n",
              "  </thead>\n",
              "  <tbody>\n",
              "    <tr>\n",
              "      <th>0</th>\n",
              "      <td>1</td>\n",
              "      <td>0</td>\n",
              "      <td>0</td>\n",
              "      <td>0</td>\n",
              "      <td>0</td>\n",
              "      <td>0</td>\n",
              "      <td>0</td>\n",
              "      <td>0</td>\n",
              "      <td>0</td>\n",
              "      <td>0</td>\n",
              "      <td>0</td>\n",
              "      <td>0</td>\n",
              "      <td>0</td>\n",
              "      <td>0</td>\n",
              "      <td>0</td>\n",
              "      <td>0</td>\n",
              "      <td>0</td>\n",
              "      <td>0</td>\n",
              "      <td>0</td>\n",
              "      <td>0</td>\n",
              "      <td>0</td>\n",
              "      <td>0</td>\n",
              "      <td>0</td>\n",
              "      <td>0</td>\n",
              "      <td>0</td>\n",
              "      <td>0</td>\n",
              "      <td>0</td>\n",
              "      <td>0</td>\n",
              "      <td>0</td>\n",
              "      <td>0</td>\n",
              "      <td>0</td>\n",
              "      <td>0</td>\n",
              "      <td>0</td>\n",
              "      <td>0</td>\n",
              "      <td>0</td>\n",
              "      <td>0</td>\n",
              "      <td>0</td>\n",
              "      <td>0</td>\n",
              "      <td>0</td>\n",
              "      <td>0</td>\n",
              "      <td>...</td>\n",
              "      <td>0</td>\n",
              "      <td>0</td>\n",
              "      <td>0</td>\n",
              "      <td>0</td>\n",
              "      <td>0</td>\n",
              "      <td>0</td>\n",
              "      <td>0</td>\n",
              "      <td>0</td>\n",
              "      <td>0</td>\n",
              "      <td>0</td>\n",
              "      <td>0</td>\n",
              "      <td>0</td>\n",
              "      <td>0</td>\n",
              "      <td>0</td>\n",
              "      <td>0</td>\n",
              "      <td>0</td>\n",
              "      <td>0</td>\n",
              "      <td>0</td>\n",
              "      <td>0</td>\n",
              "      <td>0</td>\n",
              "      <td>0</td>\n",
              "      <td>0</td>\n",
              "      <td>0</td>\n",
              "      <td>0</td>\n",
              "      <td>0</td>\n",
              "      <td>0</td>\n",
              "      <td>0</td>\n",
              "      <td>0</td>\n",
              "      <td>0</td>\n",
              "      <td>0</td>\n",
              "      <td>0</td>\n",
              "      <td>0</td>\n",
              "      <td>0</td>\n",
              "      <td>0</td>\n",
              "      <td>0</td>\n",
              "      <td>0</td>\n",
              "      <td>0</td>\n",
              "      <td>0</td>\n",
              "      <td>0</td>\n",
              "      <td>0</td>\n",
              "    </tr>\n",
              "    <tr>\n",
              "      <th>1</th>\n",
              "      <td>0</td>\n",
              "      <td>0</td>\n",
              "      <td>0</td>\n",
              "      <td>0</td>\n",
              "      <td>0</td>\n",
              "      <td>0</td>\n",
              "      <td>0</td>\n",
              "      <td>0</td>\n",
              "      <td>0</td>\n",
              "      <td>0</td>\n",
              "      <td>0</td>\n",
              "      <td>0</td>\n",
              "      <td>0</td>\n",
              "      <td>0</td>\n",
              "      <td>0</td>\n",
              "      <td>0</td>\n",
              "      <td>0</td>\n",
              "      <td>0</td>\n",
              "      <td>0</td>\n",
              "      <td>0</td>\n",
              "      <td>0</td>\n",
              "      <td>0</td>\n",
              "      <td>0</td>\n",
              "      <td>0</td>\n",
              "      <td>0</td>\n",
              "      <td>0</td>\n",
              "      <td>0</td>\n",
              "      <td>0</td>\n",
              "      <td>0</td>\n",
              "      <td>0</td>\n",
              "      <td>0</td>\n",
              "      <td>0</td>\n",
              "      <td>0</td>\n",
              "      <td>0</td>\n",
              "      <td>0</td>\n",
              "      <td>0</td>\n",
              "      <td>0</td>\n",
              "      <td>0</td>\n",
              "      <td>0</td>\n",
              "      <td>0</td>\n",
              "      <td>...</td>\n",
              "      <td>0</td>\n",
              "      <td>0</td>\n",
              "      <td>0</td>\n",
              "      <td>0</td>\n",
              "      <td>0</td>\n",
              "      <td>0</td>\n",
              "      <td>0</td>\n",
              "      <td>0</td>\n",
              "      <td>0</td>\n",
              "      <td>0</td>\n",
              "      <td>0</td>\n",
              "      <td>0</td>\n",
              "      <td>0</td>\n",
              "      <td>0</td>\n",
              "      <td>0</td>\n",
              "      <td>0</td>\n",
              "      <td>0</td>\n",
              "      <td>0</td>\n",
              "      <td>0</td>\n",
              "      <td>0</td>\n",
              "      <td>0</td>\n",
              "      <td>0</td>\n",
              "      <td>0</td>\n",
              "      <td>0</td>\n",
              "      <td>0</td>\n",
              "      <td>0</td>\n",
              "      <td>0</td>\n",
              "      <td>0</td>\n",
              "      <td>0</td>\n",
              "      <td>0</td>\n",
              "      <td>0</td>\n",
              "      <td>0</td>\n",
              "      <td>0</td>\n",
              "      <td>0</td>\n",
              "      <td>0</td>\n",
              "      <td>0</td>\n",
              "      <td>0</td>\n",
              "      <td>0</td>\n",
              "      <td>0</td>\n",
              "      <td>0</td>\n",
              "    </tr>\n",
              "    <tr>\n",
              "      <th>2</th>\n",
              "      <td>1</td>\n",
              "      <td>0</td>\n",
              "      <td>0</td>\n",
              "      <td>0</td>\n",
              "      <td>0</td>\n",
              "      <td>0</td>\n",
              "      <td>0</td>\n",
              "      <td>0</td>\n",
              "      <td>0</td>\n",
              "      <td>0</td>\n",
              "      <td>0</td>\n",
              "      <td>0</td>\n",
              "      <td>0</td>\n",
              "      <td>0</td>\n",
              "      <td>0</td>\n",
              "      <td>0</td>\n",
              "      <td>0</td>\n",
              "      <td>0</td>\n",
              "      <td>0</td>\n",
              "      <td>0</td>\n",
              "      <td>0</td>\n",
              "      <td>0</td>\n",
              "      <td>0</td>\n",
              "      <td>0</td>\n",
              "      <td>0</td>\n",
              "      <td>0</td>\n",
              "      <td>0</td>\n",
              "      <td>0</td>\n",
              "      <td>0</td>\n",
              "      <td>0</td>\n",
              "      <td>0</td>\n",
              "      <td>0</td>\n",
              "      <td>0</td>\n",
              "      <td>0</td>\n",
              "      <td>0</td>\n",
              "      <td>0</td>\n",
              "      <td>0</td>\n",
              "      <td>0</td>\n",
              "      <td>0</td>\n",
              "      <td>0</td>\n",
              "      <td>...</td>\n",
              "      <td>0</td>\n",
              "      <td>0</td>\n",
              "      <td>0</td>\n",
              "      <td>0</td>\n",
              "      <td>0</td>\n",
              "      <td>0</td>\n",
              "      <td>0</td>\n",
              "      <td>0</td>\n",
              "      <td>0</td>\n",
              "      <td>0</td>\n",
              "      <td>0</td>\n",
              "      <td>0</td>\n",
              "      <td>0</td>\n",
              "      <td>0</td>\n",
              "      <td>0</td>\n",
              "      <td>0</td>\n",
              "      <td>0</td>\n",
              "      <td>0</td>\n",
              "      <td>0</td>\n",
              "      <td>0</td>\n",
              "      <td>0</td>\n",
              "      <td>0</td>\n",
              "      <td>0</td>\n",
              "      <td>0</td>\n",
              "      <td>0</td>\n",
              "      <td>0</td>\n",
              "      <td>0</td>\n",
              "      <td>0</td>\n",
              "      <td>0</td>\n",
              "      <td>0</td>\n",
              "      <td>0</td>\n",
              "      <td>0</td>\n",
              "      <td>0</td>\n",
              "      <td>0</td>\n",
              "      <td>0</td>\n",
              "      <td>0</td>\n",
              "      <td>0</td>\n",
              "      <td>0</td>\n",
              "      <td>0</td>\n",
              "      <td>0</td>\n",
              "    </tr>\n",
              "    <tr>\n",
              "      <th>3</th>\n",
              "      <td>4</td>\n",
              "      <td>0</td>\n",
              "      <td>0</td>\n",
              "      <td>0</td>\n",
              "      <td>0</td>\n",
              "      <td>0</td>\n",
              "      <td>0</td>\n",
              "      <td>0</td>\n",
              "      <td>0</td>\n",
              "      <td>0</td>\n",
              "      <td>0</td>\n",
              "      <td>0</td>\n",
              "      <td>0</td>\n",
              "      <td>0</td>\n",
              "      <td>0</td>\n",
              "      <td>0</td>\n",
              "      <td>0</td>\n",
              "      <td>0</td>\n",
              "      <td>0</td>\n",
              "      <td>0</td>\n",
              "      <td>0</td>\n",
              "      <td>0</td>\n",
              "      <td>0</td>\n",
              "      <td>0</td>\n",
              "      <td>0</td>\n",
              "      <td>0</td>\n",
              "      <td>0</td>\n",
              "      <td>0</td>\n",
              "      <td>0</td>\n",
              "      <td>0</td>\n",
              "      <td>0</td>\n",
              "      <td>0</td>\n",
              "      <td>0</td>\n",
              "      <td>0</td>\n",
              "      <td>0</td>\n",
              "      <td>0</td>\n",
              "      <td>0</td>\n",
              "      <td>0</td>\n",
              "      <td>0</td>\n",
              "      <td>0</td>\n",
              "      <td>...</td>\n",
              "      <td>0</td>\n",
              "      <td>0</td>\n",
              "      <td>0</td>\n",
              "      <td>0</td>\n",
              "      <td>0</td>\n",
              "      <td>0</td>\n",
              "      <td>0</td>\n",
              "      <td>0</td>\n",
              "      <td>0</td>\n",
              "      <td>0</td>\n",
              "      <td>0</td>\n",
              "      <td>0</td>\n",
              "      <td>0</td>\n",
              "      <td>0</td>\n",
              "      <td>0</td>\n",
              "      <td>0</td>\n",
              "      <td>0</td>\n",
              "      <td>0</td>\n",
              "      <td>0</td>\n",
              "      <td>0</td>\n",
              "      <td>0</td>\n",
              "      <td>0</td>\n",
              "      <td>0</td>\n",
              "      <td>0</td>\n",
              "      <td>0</td>\n",
              "      <td>0</td>\n",
              "      <td>0</td>\n",
              "      <td>0</td>\n",
              "      <td>0</td>\n",
              "      <td>0</td>\n",
              "      <td>0</td>\n",
              "      <td>0</td>\n",
              "      <td>0</td>\n",
              "      <td>0</td>\n",
              "      <td>0</td>\n",
              "      <td>0</td>\n",
              "      <td>0</td>\n",
              "      <td>0</td>\n",
              "      <td>0</td>\n",
              "      <td>0</td>\n",
              "    </tr>\n",
              "    <tr>\n",
              "      <th>4</th>\n",
              "      <td>0</td>\n",
              "      <td>0</td>\n",
              "      <td>0</td>\n",
              "      <td>0</td>\n",
              "      <td>0</td>\n",
              "      <td>0</td>\n",
              "      <td>0</td>\n",
              "      <td>0</td>\n",
              "      <td>0</td>\n",
              "      <td>0</td>\n",
              "      <td>0</td>\n",
              "      <td>0</td>\n",
              "      <td>0</td>\n",
              "      <td>0</td>\n",
              "      <td>0</td>\n",
              "      <td>0</td>\n",
              "      <td>0</td>\n",
              "      <td>0</td>\n",
              "      <td>0</td>\n",
              "      <td>0</td>\n",
              "      <td>0</td>\n",
              "      <td>0</td>\n",
              "      <td>0</td>\n",
              "      <td>0</td>\n",
              "      <td>0</td>\n",
              "      <td>0</td>\n",
              "      <td>0</td>\n",
              "      <td>0</td>\n",
              "      <td>0</td>\n",
              "      <td>0</td>\n",
              "      <td>0</td>\n",
              "      <td>0</td>\n",
              "      <td>0</td>\n",
              "      <td>0</td>\n",
              "      <td>0</td>\n",
              "      <td>0</td>\n",
              "      <td>0</td>\n",
              "      <td>0</td>\n",
              "      <td>0</td>\n",
              "      <td>0</td>\n",
              "      <td>...</td>\n",
              "      <td>0</td>\n",
              "      <td>0</td>\n",
              "      <td>0</td>\n",
              "      <td>0</td>\n",
              "      <td>0</td>\n",
              "      <td>0</td>\n",
              "      <td>0</td>\n",
              "      <td>0</td>\n",
              "      <td>0</td>\n",
              "      <td>0</td>\n",
              "      <td>0</td>\n",
              "      <td>0</td>\n",
              "      <td>0</td>\n",
              "      <td>0</td>\n",
              "      <td>0</td>\n",
              "      <td>0</td>\n",
              "      <td>0</td>\n",
              "      <td>0</td>\n",
              "      <td>0</td>\n",
              "      <td>0</td>\n",
              "      <td>0</td>\n",
              "      <td>0</td>\n",
              "      <td>0</td>\n",
              "      <td>0</td>\n",
              "      <td>0</td>\n",
              "      <td>0</td>\n",
              "      <td>0</td>\n",
              "      <td>0</td>\n",
              "      <td>0</td>\n",
              "      <td>0</td>\n",
              "      <td>0</td>\n",
              "      <td>0</td>\n",
              "      <td>0</td>\n",
              "      <td>0</td>\n",
              "      <td>0</td>\n",
              "      <td>0</td>\n",
              "      <td>0</td>\n",
              "      <td>0</td>\n",
              "      <td>0</td>\n",
              "      <td>0</td>\n",
              "    </tr>\n",
              "  </tbody>\n",
              "</table>\n",
              "<p>5 rows × 785 columns</p>\n",
              "</div>"
            ],
            "text/plain": [
              "   label  pixel0  pixel1  pixel2  ...  pixel780  pixel781  pixel782  pixel783\n",
              "0      1       0       0       0  ...         0         0         0         0\n",
              "1      0       0       0       0  ...         0         0         0         0\n",
              "2      1       0       0       0  ...         0         0         0         0\n",
              "3      4       0       0       0  ...         0         0         0         0\n",
              "4      0       0       0       0  ...         0         0         0         0\n",
              "\n",
              "[5 rows x 785 columns]"
            ]
          },
          "metadata": {},
          "execution_count": 3
        }
      ]
    },
    {
      "cell_type": "code",
      "metadata": {
        "colab": {
          "base_uri": "https://localhost:8080/",
          "height": 361
        },
        "id": "izG4x_fVxvqp",
        "outputId": "3f250b4c-2ba4-4f94-95ca-a5a2422fabe2"
      },
      "source": [
        "print(train.shape)\n",
        "train.describe()"
      ],
      "execution_count": null,
      "outputs": [
        {
          "output_type": "stream",
          "name": "stdout",
          "text": [
            "(42000, 785)\n"
          ]
        },
        {
          "output_type": "execute_result",
          "data": {
            "text/html": [
              "<div>\n",
              "<style scoped>\n",
              "    .dataframe tbody tr th:only-of-type {\n",
              "        vertical-align: middle;\n",
              "    }\n",
              "\n",
              "    .dataframe tbody tr th {\n",
              "        vertical-align: top;\n",
              "    }\n",
              "\n",
              "    .dataframe thead th {\n",
              "        text-align: right;\n",
              "    }\n",
              "</style>\n",
              "<table border=\"1\" class=\"dataframe\">\n",
              "  <thead>\n",
              "    <tr style=\"text-align: right;\">\n",
              "      <th></th>\n",
              "      <th>label</th>\n",
              "      <th>pixel0</th>\n",
              "      <th>pixel1</th>\n",
              "      <th>pixel2</th>\n",
              "      <th>pixel3</th>\n",
              "      <th>pixel4</th>\n",
              "      <th>pixel5</th>\n",
              "      <th>pixel6</th>\n",
              "      <th>pixel7</th>\n",
              "      <th>pixel8</th>\n",
              "      <th>pixel9</th>\n",
              "      <th>pixel10</th>\n",
              "      <th>pixel11</th>\n",
              "      <th>pixel12</th>\n",
              "      <th>pixel13</th>\n",
              "      <th>pixel14</th>\n",
              "      <th>pixel15</th>\n",
              "      <th>pixel16</th>\n",
              "      <th>pixel17</th>\n",
              "      <th>pixel18</th>\n",
              "      <th>pixel19</th>\n",
              "      <th>pixel20</th>\n",
              "      <th>pixel21</th>\n",
              "      <th>pixel22</th>\n",
              "      <th>pixel23</th>\n",
              "      <th>pixel24</th>\n",
              "      <th>pixel25</th>\n",
              "      <th>pixel26</th>\n",
              "      <th>pixel27</th>\n",
              "      <th>pixel28</th>\n",
              "      <th>pixel29</th>\n",
              "      <th>pixel30</th>\n",
              "      <th>pixel31</th>\n",
              "      <th>pixel32</th>\n",
              "      <th>pixel33</th>\n",
              "      <th>pixel34</th>\n",
              "      <th>pixel35</th>\n",
              "      <th>pixel36</th>\n",
              "      <th>pixel37</th>\n",
              "      <th>pixel38</th>\n",
              "      <th>...</th>\n",
              "      <th>pixel744</th>\n",
              "      <th>pixel745</th>\n",
              "      <th>pixel746</th>\n",
              "      <th>pixel747</th>\n",
              "      <th>pixel748</th>\n",
              "      <th>pixel749</th>\n",
              "      <th>pixel750</th>\n",
              "      <th>pixel751</th>\n",
              "      <th>pixel752</th>\n",
              "      <th>pixel753</th>\n",
              "      <th>pixel754</th>\n",
              "      <th>pixel755</th>\n",
              "      <th>pixel756</th>\n",
              "      <th>pixel757</th>\n",
              "      <th>pixel758</th>\n",
              "      <th>pixel759</th>\n",
              "      <th>pixel760</th>\n",
              "      <th>pixel761</th>\n",
              "      <th>pixel762</th>\n",
              "      <th>pixel763</th>\n",
              "      <th>pixel764</th>\n",
              "      <th>pixel765</th>\n",
              "      <th>pixel766</th>\n",
              "      <th>pixel767</th>\n",
              "      <th>pixel768</th>\n",
              "      <th>pixel769</th>\n",
              "      <th>pixel770</th>\n",
              "      <th>pixel771</th>\n",
              "      <th>pixel772</th>\n",
              "      <th>pixel773</th>\n",
              "      <th>pixel774</th>\n",
              "      <th>pixel775</th>\n",
              "      <th>pixel776</th>\n",
              "      <th>pixel777</th>\n",
              "      <th>pixel778</th>\n",
              "      <th>pixel779</th>\n",
              "      <th>pixel780</th>\n",
              "      <th>pixel781</th>\n",
              "      <th>pixel782</th>\n",
              "      <th>pixel783</th>\n",
              "    </tr>\n",
              "  </thead>\n",
              "  <tbody>\n",
              "    <tr>\n",
              "      <th>count</th>\n",
              "      <td>42000.000000</td>\n",
              "      <td>42000.0</td>\n",
              "      <td>42000.0</td>\n",
              "      <td>42000.0</td>\n",
              "      <td>42000.0</td>\n",
              "      <td>42000.0</td>\n",
              "      <td>42000.0</td>\n",
              "      <td>42000.0</td>\n",
              "      <td>42000.0</td>\n",
              "      <td>42000.0</td>\n",
              "      <td>42000.0</td>\n",
              "      <td>42000.0</td>\n",
              "      <td>42000.0</td>\n",
              "      <td>42000.00000</td>\n",
              "      <td>42000.000000</td>\n",
              "      <td>42000.000000</td>\n",
              "      <td>42000.000000</td>\n",
              "      <td>42000.0</td>\n",
              "      <td>42000.0</td>\n",
              "      <td>42000.0</td>\n",
              "      <td>42000.0</td>\n",
              "      <td>42000.0</td>\n",
              "      <td>42000.0</td>\n",
              "      <td>42000.0</td>\n",
              "      <td>42000.0</td>\n",
              "      <td>42000.0</td>\n",
              "      <td>42000.0</td>\n",
              "      <td>42000.0</td>\n",
              "      <td>42000.0</td>\n",
              "      <td>42000.0</td>\n",
              "      <td>42000.0</td>\n",
              "      <td>42000.0</td>\n",
              "      <td>42000.0</td>\n",
              "      <td>42000.000000</td>\n",
              "      <td>42000.000000</td>\n",
              "      <td>42000.000000</td>\n",
              "      <td>42000.000000</td>\n",
              "      <td>42000.000000</td>\n",
              "      <td>42000.000000</td>\n",
              "      <td>42000.000000</td>\n",
              "      <td>...</td>\n",
              "      <td>42000.000000</td>\n",
              "      <td>42000.000000</td>\n",
              "      <td>42000.000000</td>\n",
              "      <td>42000.000000</td>\n",
              "      <td>42000.000000</td>\n",
              "      <td>42000.000000</td>\n",
              "      <td>42000.000000</td>\n",
              "      <td>42000.000000</td>\n",
              "      <td>42000.000000</td>\n",
              "      <td>42000.000000</td>\n",
              "      <td>42000.0</td>\n",
              "      <td>42000.0</td>\n",
              "      <td>42000.0</td>\n",
              "      <td>42000.0</td>\n",
              "      <td>42000.0</td>\n",
              "      <td>42000.0</td>\n",
              "      <td>42000.0</td>\n",
              "      <td>42000.000000</td>\n",
              "      <td>42000.000000</td>\n",
              "      <td>42000.000000</td>\n",
              "      <td>42000.000000</td>\n",
              "      <td>42000.000000</td>\n",
              "      <td>42000.000000</td>\n",
              "      <td>42000.000000</td>\n",
              "      <td>42000.000000</td>\n",
              "      <td>42000.000000</td>\n",
              "      <td>42000.000000</td>\n",
              "      <td>42000.00000</td>\n",
              "      <td>42000.000000</td>\n",
              "      <td>42000.000000</td>\n",
              "      <td>42000.000000</td>\n",
              "      <td>42000.000000</td>\n",
              "      <td>42000.000000</td>\n",
              "      <td>42000.00000</td>\n",
              "      <td>42000.000000</td>\n",
              "      <td>42000.000000</td>\n",
              "      <td>42000.0</td>\n",
              "      <td>42000.0</td>\n",
              "      <td>42000.0</td>\n",
              "      <td>42000.0</td>\n",
              "    </tr>\n",
              "    <tr>\n",
              "      <th>mean</th>\n",
              "      <td>4.456643</td>\n",
              "      <td>0.0</td>\n",
              "      <td>0.0</td>\n",
              "      <td>0.0</td>\n",
              "      <td>0.0</td>\n",
              "      <td>0.0</td>\n",
              "      <td>0.0</td>\n",
              "      <td>0.0</td>\n",
              "      <td>0.0</td>\n",
              "      <td>0.0</td>\n",
              "      <td>0.0</td>\n",
              "      <td>0.0</td>\n",
              "      <td>0.0</td>\n",
              "      <td>0.00300</td>\n",
              "      <td>0.011190</td>\n",
              "      <td>0.005143</td>\n",
              "      <td>0.000214</td>\n",
              "      <td>0.0</td>\n",
              "      <td>0.0</td>\n",
              "      <td>0.0</td>\n",
              "      <td>0.0</td>\n",
              "      <td>0.0</td>\n",
              "      <td>0.0</td>\n",
              "      <td>0.0</td>\n",
              "      <td>0.0</td>\n",
              "      <td>0.0</td>\n",
              "      <td>0.0</td>\n",
              "      <td>0.0</td>\n",
              "      <td>0.0</td>\n",
              "      <td>0.0</td>\n",
              "      <td>0.0</td>\n",
              "      <td>0.0</td>\n",
              "      <td>0.0</td>\n",
              "      <td>0.000381</td>\n",
              "      <td>0.001310</td>\n",
              "      <td>0.010548</td>\n",
              "      <td>0.027262</td>\n",
              "      <td>0.050905</td>\n",
              "      <td>0.066405</td>\n",
              "      <td>0.129571</td>\n",
              "      <td>...</td>\n",
              "      <td>3.772524</td>\n",
              "      <td>2.748905</td>\n",
              "      <td>1.796452</td>\n",
              "      <td>1.089905</td>\n",
              "      <td>0.563190</td>\n",
              "      <td>0.239571</td>\n",
              "      <td>0.093524</td>\n",
              "      <td>0.024833</td>\n",
              "      <td>0.000857</td>\n",
              "      <td>0.001405</td>\n",
              "      <td>0.0</td>\n",
              "      <td>0.0</td>\n",
              "      <td>0.0</td>\n",
              "      <td>0.0</td>\n",
              "      <td>0.0</td>\n",
              "      <td>0.0</td>\n",
              "      <td>0.0</td>\n",
              "      <td>0.006143</td>\n",
              "      <td>0.035833</td>\n",
              "      <td>0.082357</td>\n",
              "      <td>0.114905</td>\n",
              "      <td>0.178714</td>\n",
              "      <td>0.301452</td>\n",
              "      <td>0.413643</td>\n",
              "      <td>0.513667</td>\n",
              "      <td>0.558833</td>\n",
              "      <td>0.677857</td>\n",
              "      <td>0.60281</td>\n",
              "      <td>0.489238</td>\n",
              "      <td>0.340214</td>\n",
              "      <td>0.219286</td>\n",
              "      <td>0.117095</td>\n",
              "      <td>0.059024</td>\n",
              "      <td>0.02019</td>\n",
              "      <td>0.017238</td>\n",
              "      <td>0.002857</td>\n",
              "      <td>0.0</td>\n",
              "      <td>0.0</td>\n",
              "      <td>0.0</td>\n",
              "      <td>0.0</td>\n",
              "    </tr>\n",
              "    <tr>\n",
              "      <th>std</th>\n",
              "      <td>2.887730</td>\n",
              "      <td>0.0</td>\n",
              "      <td>0.0</td>\n",
              "      <td>0.0</td>\n",
              "      <td>0.0</td>\n",
              "      <td>0.0</td>\n",
              "      <td>0.0</td>\n",
              "      <td>0.0</td>\n",
              "      <td>0.0</td>\n",
              "      <td>0.0</td>\n",
              "      <td>0.0</td>\n",
              "      <td>0.0</td>\n",
              "      <td>0.0</td>\n",
              "      <td>0.56812</td>\n",
              "      <td>1.626927</td>\n",
              "      <td>1.053972</td>\n",
              "      <td>0.043916</td>\n",
              "      <td>0.0</td>\n",
              "      <td>0.0</td>\n",
              "      <td>0.0</td>\n",
              "      <td>0.0</td>\n",
              "      <td>0.0</td>\n",
              "      <td>0.0</td>\n",
              "      <td>0.0</td>\n",
              "      <td>0.0</td>\n",
              "      <td>0.0</td>\n",
              "      <td>0.0</td>\n",
              "      <td>0.0</td>\n",
              "      <td>0.0</td>\n",
              "      <td>0.0</td>\n",
              "      <td>0.0</td>\n",
              "      <td>0.0</td>\n",
              "      <td>0.0</td>\n",
              "      <td>0.078072</td>\n",
              "      <td>0.232634</td>\n",
              "      <td>1.131661</td>\n",
              "      <td>2.310396</td>\n",
              "      <td>3.121847</td>\n",
              "      <td>3.259128</td>\n",
              "      <td>4.992894</td>\n",
              "      <td>...</td>\n",
              "      <td>26.957829</td>\n",
              "      <td>22.879248</td>\n",
              "      <td>18.595109</td>\n",
              "      <td>14.434439</td>\n",
              "      <td>10.517823</td>\n",
              "      <td>6.469315</td>\n",
              "      <td>3.976306</td>\n",
              "      <td>1.846016</td>\n",
              "      <td>0.139556</td>\n",
              "      <td>0.287891</td>\n",
              "      <td>0.0</td>\n",
              "      <td>0.0</td>\n",
              "      <td>0.0</td>\n",
              "      <td>0.0</td>\n",
              "      <td>0.0</td>\n",
              "      <td>0.0</td>\n",
              "      <td>0.0</td>\n",
              "      <td>0.949803</td>\n",
              "      <td>2.350859</td>\n",
              "      <td>3.934280</td>\n",
              "      <td>4.543583</td>\n",
              "      <td>5.856772</td>\n",
              "      <td>7.219742</td>\n",
              "      <td>8.928286</td>\n",
              "      <td>10.004069</td>\n",
              "      <td>10.129595</td>\n",
              "      <td>11.254931</td>\n",
              "      <td>10.69603</td>\n",
              "      <td>9.480066</td>\n",
              "      <td>7.950251</td>\n",
              "      <td>6.312890</td>\n",
              "      <td>4.633819</td>\n",
              "      <td>3.274488</td>\n",
              "      <td>1.75987</td>\n",
              "      <td>1.894498</td>\n",
              "      <td>0.414264</td>\n",
              "      <td>0.0</td>\n",
              "      <td>0.0</td>\n",
              "      <td>0.0</td>\n",
              "      <td>0.0</td>\n",
              "    </tr>\n",
              "    <tr>\n",
              "      <th>min</th>\n",
              "      <td>0.000000</td>\n",
              "      <td>0.0</td>\n",
              "      <td>0.0</td>\n",
              "      <td>0.0</td>\n",
              "      <td>0.0</td>\n",
              "      <td>0.0</td>\n",
              "      <td>0.0</td>\n",
              "      <td>0.0</td>\n",
              "      <td>0.0</td>\n",
              "      <td>0.0</td>\n",
              "      <td>0.0</td>\n",
              "      <td>0.0</td>\n",
              "      <td>0.0</td>\n",
              "      <td>0.00000</td>\n",
              "      <td>0.000000</td>\n",
              "      <td>0.000000</td>\n",
              "      <td>0.000000</td>\n",
              "      <td>0.0</td>\n",
              "      <td>0.0</td>\n",
              "      <td>0.0</td>\n",
              "      <td>0.0</td>\n",
              "      <td>0.0</td>\n",
              "      <td>0.0</td>\n",
              "      <td>0.0</td>\n",
              "      <td>0.0</td>\n",
              "      <td>0.0</td>\n",
              "      <td>0.0</td>\n",
              "      <td>0.0</td>\n",
              "      <td>0.0</td>\n",
              "      <td>0.0</td>\n",
              "      <td>0.0</td>\n",
              "      <td>0.0</td>\n",
              "      <td>0.0</td>\n",
              "      <td>0.000000</td>\n",
              "      <td>0.000000</td>\n",
              "      <td>0.000000</td>\n",
              "      <td>0.000000</td>\n",
              "      <td>0.000000</td>\n",
              "      <td>0.000000</td>\n",
              "      <td>0.000000</td>\n",
              "      <td>...</td>\n",
              "      <td>0.000000</td>\n",
              "      <td>0.000000</td>\n",
              "      <td>0.000000</td>\n",
              "      <td>0.000000</td>\n",
              "      <td>0.000000</td>\n",
              "      <td>0.000000</td>\n",
              "      <td>0.000000</td>\n",
              "      <td>0.000000</td>\n",
              "      <td>0.000000</td>\n",
              "      <td>0.000000</td>\n",
              "      <td>0.0</td>\n",
              "      <td>0.0</td>\n",
              "      <td>0.0</td>\n",
              "      <td>0.0</td>\n",
              "      <td>0.0</td>\n",
              "      <td>0.0</td>\n",
              "      <td>0.0</td>\n",
              "      <td>0.000000</td>\n",
              "      <td>0.000000</td>\n",
              "      <td>0.000000</td>\n",
              "      <td>0.000000</td>\n",
              "      <td>0.000000</td>\n",
              "      <td>0.000000</td>\n",
              "      <td>0.000000</td>\n",
              "      <td>0.000000</td>\n",
              "      <td>0.000000</td>\n",
              "      <td>0.000000</td>\n",
              "      <td>0.00000</td>\n",
              "      <td>0.000000</td>\n",
              "      <td>0.000000</td>\n",
              "      <td>0.000000</td>\n",
              "      <td>0.000000</td>\n",
              "      <td>0.000000</td>\n",
              "      <td>0.00000</td>\n",
              "      <td>0.000000</td>\n",
              "      <td>0.000000</td>\n",
              "      <td>0.0</td>\n",
              "      <td>0.0</td>\n",
              "      <td>0.0</td>\n",
              "      <td>0.0</td>\n",
              "    </tr>\n",
              "    <tr>\n",
              "      <th>25%</th>\n",
              "      <td>2.000000</td>\n",
              "      <td>0.0</td>\n",
              "      <td>0.0</td>\n",
              "      <td>0.0</td>\n",
              "      <td>0.0</td>\n",
              "      <td>0.0</td>\n",
              "      <td>0.0</td>\n",
              "      <td>0.0</td>\n",
              "      <td>0.0</td>\n",
              "      <td>0.0</td>\n",
              "      <td>0.0</td>\n",
              "      <td>0.0</td>\n",
              "      <td>0.0</td>\n",
              "      <td>0.00000</td>\n",
              "      <td>0.000000</td>\n",
              "      <td>0.000000</td>\n",
              "      <td>0.000000</td>\n",
              "      <td>0.0</td>\n",
              "      <td>0.0</td>\n",
              "      <td>0.0</td>\n",
              "      <td>0.0</td>\n",
              "      <td>0.0</td>\n",
              "      <td>0.0</td>\n",
              "      <td>0.0</td>\n",
              "      <td>0.0</td>\n",
              "      <td>0.0</td>\n",
              "      <td>0.0</td>\n",
              "      <td>0.0</td>\n",
              "      <td>0.0</td>\n",
              "      <td>0.0</td>\n",
              "      <td>0.0</td>\n",
              "      <td>0.0</td>\n",
              "      <td>0.0</td>\n",
              "      <td>0.000000</td>\n",
              "      <td>0.000000</td>\n",
              "      <td>0.000000</td>\n",
              "      <td>0.000000</td>\n",
              "      <td>0.000000</td>\n",
              "      <td>0.000000</td>\n",
              "      <td>0.000000</td>\n",
              "      <td>...</td>\n",
              "      <td>0.000000</td>\n",
              "      <td>0.000000</td>\n",
              "      <td>0.000000</td>\n",
              "      <td>0.000000</td>\n",
              "      <td>0.000000</td>\n",
              "      <td>0.000000</td>\n",
              "      <td>0.000000</td>\n",
              "      <td>0.000000</td>\n",
              "      <td>0.000000</td>\n",
              "      <td>0.000000</td>\n",
              "      <td>0.0</td>\n",
              "      <td>0.0</td>\n",
              "      <td>0.0</td>\n",
              "      <td>0.0</td>\n",
              "      <td>0.0</td>\n",
              "      <td>0.0</td>\n",
              "      <td>0.0</td>\n",
              "      <td>0.000000</td>\n",
              "      <td>0.000000</td>\n",
              "      <td>0.000000</td>\n",
              "      <td>0.000000</td>\n",
              "      <td>0.000000</td>\n",
              "      <td>0.000000</td>\n",
              "      <td>0.000000</td>\n",
              "      <td>0.000000</td>\n",
              "      <td>0.000000</td>\n",
              "      <td>0.000000</td>\n",
              "      <td>0.00000</td>\n",
              "      <td>0.000000</td>\n",
              "      <td>0.000000</td>\n",
              "      <td>0.000000</td>\n",
              "      <td>0.000000</td>\n",
              "      <td>0.000000</td>\n",
              "      <td>0.00000</td>\n",
              "      <td>0.000000</td>\n",
              "      <td>0.000000</td>\n",
              "      <td>0.0</td>\n",
              "      <td>0.0</td>\n",
              "      <td>0.0</td>\n",
              "      <td>0.0</td>\n",
              "    </tr>\n",
              "    <tr>\n",
              "      <th>50%</th>\n",
              "      <td>4.000000</td>\n",
              "      <td>0.0</td>\n",
              "      <td>0.0</td>\n",
              "      <td>0.0</td>\n",
              "      <td>0.0</td>\n",
              "      <td>0.0</td>\n",
              "      <td>0.0</td>\n",
              "      <td>0.0</td>\n",
              "      <td>0.0</td>\n",
              "      <td>0.0</td>\n",
              "      <td>0.0</td>\n",
              "      <td>0.0</td>\n",
              "      <td>0.0</td>\n",
              "      <td>0.00000</td>\n",
              "      <td>0.000000</td>\n",
              "      <td>0.000000</td>\n",
              "      <td>0.000000</td>\n",
              "      <td>0.0</td>\n",
              "      <td>0.0</td>\n",
              "      <td>0.0</td>\n",
              "      <td>0.0</td>\n",
              "      <td>0.0</td>\n",
              "      <td>0.0</td>\n",
              "      <td>0.0</td>\n",
              "      <td>0.0</td>\n",
              "      <td>0.0</td>\n",
              "      <td>0.0</td>\n",
              "      <td>0.0</td>\n",
              "      <td>0.0</td>\n",
              "      <td>0.0</td>\n",
              "      <td>0.0</td>\n",
              "      <td>0.0</td>\n",
              "      <td>0.0</td>\n",
              "      <td>0.000000</td>\n",
              "      <td>0.000000</td>\n",
              "      <td>0.000000</td>\n",
              "      <td>0.000000</td>\n",
              "      <td>0.000000</td>\n",
              "      <td>0.000000</td>\n",
              "      <td>0.000000</td>\n",
              "      <td>...</td>\n",
              "      <td>0.000000</td>\n",
              "      <td>0.000000</td>\n",
              "      <td>0.000000</td>\n",
              "      <td>0.000000</td>\n",
              "      <td>0.000000</td>\n",
              "      <td>0.000000</td>\n",
              "      <td>0.000000</td>\n",
              "      <td>0.000000</td>\n",
              "      <td>0.000000</td>\n",
              "      <td>0.000000</td>\n",
              "      <td>0.0</td>\n",
              "      <td>0.0</td>\n",
              "      <td>0.0</td>\n",
              "      <td>0.0</td>\n",
              "      <td>0.0</td>\n",
              "      <td>0.0</td>\n",
              "      <td>0.0</td>\n",
              "      <td>0.000000</td>\n",
              "      <td>0.000000</td>\n",
              "      <td>0.000000</td>\n",
              "      <td>0.000000</td>\n",
              "      <td>0.000000</td>\n",
              "      <td>0.000000</td>\n",
              "      <td>0.000000</td>\n",
              "      <td>0.000000</td>\n",
              "      <td>0.000000</td>\n",
              "      <td>0.000000</td>\n",
              "      <td>0.00000</td>\n",
              "      <td>0.000000</td>\n",
              "      <td>0.000000</td>\n",
              "      <td>0.000000</td>\n",
              "      <td>0.000000</td>\n",
              "      <td>0.000000</td>\n",
              "      <td>0.00000</td>\n",
              "      <td>0.000000</td>\n",
              "      <td>0.000000</td>\n",
              "      <td>0.0</td>\n",
              "      <td>0.0</td>\n",
              "      <td>0.0</td>\n",
              "      <td>0.0</td>\n",
              "    </tr>\n",
              "    <tr>\n",
              "      <th>75%</th>\n",
              "      <td>7.000000</td>\n",
              "      <td>0.0</td>\n",
              "      <td>0.0</td>\n",
              "      <td>0.0</td>\n",
              "      <td>0.0</td>\n",
              "      <td>0.0</td>\n",
              "      <td>0.0</td>\n",
              "      <td>0.0</td>\n",
              "      <td>0.0</td>\n",
              "      <td>0.0</td>\n",
              "      <td>0.0</td>\n",
              "      <td>0.0</td>\n",
              "      <td>0.0</td>\n",
              "      <td>0.00000</td>\n",
              "      <td>0.000000</td>\n",
              "      <td>0.000000</td>\n",
              "      <td>0.000000</td>\n",
              "      <td>0.0</td>\n",
              "      <td>0.0</td>\n",
              "      <td>0.0</td>\n",
              "      <td>0.0</td>\n",
              "      <td>0.0</td>\n",
              "      <td>0.0</td>\n",
              "      <td>0.0</td>\n",
              "      <td>0.0</td>\n",
              "      <td>0.0</td>\n",
              "      <td>0.0</td>\n",
              "      <td>0.0</td>\n",
              "      <td>0.0</td>\n",
              "      <td>0.0</td>\n",
              "      <td>0.0</td>\n",
              "      <td>0.0</td>\n",
              "      <td>0.0</td>\n",
              "      <td>0.000000</td>\n",
              "      <td>0.000000</td>\n",
              "      <td>0.000000</td>\n",
              "      <td>0.000000</td>\n",
              "      <td>0.000000</td>\n",
              "      <td>0.000000</td>\n",
              "      <td>0.000000</td>\n",
              "      <td>...</td>\n",
              "      <td>0.000000</td>\n",
              "      <td>0.000000</td>\n",
              "      <td>0.000000</td>\n",
              "      <td>0.000000</td>\n",
              "      <td>0.000000</td>\n",
              "      <td>0.000000</td>\n",
              "      <td>0.000000</td>\n",
              "      <td>0.000000</td>\n",
              "      <td>0.000000</td>\n",
              "      <td>0.000000</td>\n",
              "      <td>0.0</td>\n",
              "      <td>0.0</td>\n",
              "      <td>0.0</td>\n",
              "      <td>0.0</td>\n",
              "      <td>0.0</td>\n",
              "      <td>0.0</td>\n",
              "      <td>0.0</td>\n",
              "      <td>0.000000</td>\n",
              "      <td>0.000000</td>\n",
              "      <td>0.000000</td>\n",
              "      <td>0.000000</td>\n",
              "      <td>0.000000</td>\n",
              "      <td>0.000000</td>\n",
              "      <td>0.000000</td>\n",
              "      <td>0.000000</td>\n",
              "      <td>0.000000</td>\n",
              "      <td>0.000000</td>\n",
              "      <td>0.00000</td>\n",
              "      <td>0.000000</td>\n",
              "      <td>0.000000</td>\n",
              "      <td>0.000000</td>\n",
              "      <td>0.000000</td>\n",
              "      <td>0.000000</td>\n",
              "      <td>0.00000</td>\n",
              "      <td>0.000000</td>\n",
              "      <td>0.000000</td>\n",
              "      <td>0.0</td>\n",
              "      <td>0.0</td>\n",
              "      <td>0.0</td>\n",
              "      <td>0.0</td>\n",
              "    </tr>\n",
              "    <tr>\n",
              "      <th>max</th>\n",
              "      <td>9.000000</td>\n",
              "      <td>0.0</td>\n",
              "      <td>0.0</td>\n",
              "      <td>0.0</td>\n",
              "      <td>0.0</td>\n",
              "      <td>0.0</td>\n",
              "      <td>0.0</td>\n",
              "      <td>0.0</td>\n",
              "      <td>0.0</td>\n",
              "      <td>0.0</td>\n",
              "      <td>0.0</td>\n",
              "      <td>0.0</td>\n",
              "      <td>0.0</td>\n",
              "      <td>116.00000</td>\n",
              "      <td>254.000000</td>\n",
              "      <td>216.000000</td>\n",
              "      <td>9.000000</td>\n",
              "      <td>0.0</td>\n",
              "      <td>0.0</td>\n",
              "      <td>0.0</td>\n",
              "      <td>0.0</td>\n",
              "      <td>0.0</td>\n",
              "      <td>0.0</td>\n",
              "      <td>0.0</td>\n",
              "      <td>0.0</td>\n",
              "      <td>0.0</td>\n",
              "      <td>0.0</td>\n",
              "      <td>0.0</td>\n",
              "      <td>0.0</td>\n",
              "      <td>0.0</td>\n",
              "      <td>0.0</td>\n",
              "      <td>0.0</td>\n",
              "      <td>0.0</td>\n",
              "      <td>16.000000</td>\n",
              "      <td>47.000000</td>\n",
              "      <td>157.000000</td>\n",
              "      <td>254.000000</td>\n",
              "      <td>255.000000</td>\n",
              "      <td>243.000000</td>\n",
              "      <td>255.000000</td>\n",
              "      <td>...</td>\n",
              "      <td>255.000000</td>\n",
              "      <td>255.000000</td>\n",
              "      <td>255.000000</td>\n",
              "      <td>255.000000</td>\n",
              "      <td>255.000000</td>\n",
              "      <td>255.000000</td>\n",
              "      <td>255.000000</td>\n",
              "      <td>253.000000</td>\n",
              "      <td>28.000000</td>\n",
              "      <td>59.000000</td>\n",
              "      <td>0.0</td>\n",
              "      <td>0.0</td>\n",
              "      <td>0.0</td>\n",
              "      <td>0.0</td>\n",
              "      <td>0.0</td>\n",
              "      <td>0.0</td>\n",
              "      <td>0.0</td>\n",
              "      <td>177.000000</td>\n",
              "      <td>231.000000</td>\n",
              "      <td>253.000000</td>\n",
              "      <td>254.000000</td>\n",
              "      <td>254.000000</td>\n",
              "      <td>255.000000</td>\n",
              "      <td>255.000000</td>\n",
              "      <td>255.000000</td>\n",
              "      <td>255.000000</td>\n",
              "      <td>255.000000</td>\n",
              "      <td>255.00000</td>\n",
              "      <td>255.000000</td>\n",
              "      <td>255.000000</td>\n",
              "      <td>254.000000</td>\n",
              "      <td>254.000000</td>\n",
              "      <td>253.000000</td>\n",
              "      <td>253.00000</td>\n",
              "      <td>254.000000</td>\n",
              "      <td>62.000000</td>\n",
              "      <td>0.0</td>\n",
              "      <td>0.0</td>\n",
              "      <td>0.0</td>\n",
              "      <td>0.0</td>\n",
              "    </tr>\n",
              "  </tbody>\n",
              "</table>\n",
              "<p>8 rows × 785 columns</p>\n",
              "</div>"
            ],
            "text/plain": [
              "              label   pixel0   pixel1  ...  pixel781  pixel782  pixel783\n",
              "count  42000.000000  42000.0  42000.0  ...   42000.0   42000.0   42000.0\n",
              "mean       4.456643      0.0      0.0  ...       0.0       0.0       0.0\n",
              "std        2.887730      0.0      0.0  ...       0.0       0.0       0.0\n",
              "min        0.000000      0.0      0.0  ...       0.0       0.0       0.0\n",
              "25%        2.000000      0.0      0.0  ...       0.0       0.0       0.0\n",
              "50%        4.000000      0.0      0.0  ...       0.0       0.0       0.0\n",
              "75%        7.000000      0.0      0.0  ...       0.0       0.0       0.0\n",
              "max        9.000000      0.0      0.0  ...       0.0       0.0       0.0\n",
              "\n",
              "[8 rows x 785 columns]"
            ]
          },
          "metadata": {},
          "execution_count": 4
        }
      ]
    },
    {
      "cell_type": "markdown",
      "metadata": {
        "id": "30ZENSm3zc-D"
      },
      "source": [
        "The training dataset containes 42,000 rows and 785 columns.\n",
        "Each row contains a label and 784 pixel values which make up a 28 x 28 pixel image of a handwritten digit.\n",
        "The label column value represents the assigned label of that row as a digit from 0 through 9.\n",
        "\n",
        "Each pixel in the image is given as a value between 0 and 255 inclusive representing the intensity of that pixel in the image. A 0 meaning black and 255 meaning a white pixel.\n",
        "\n",
        "We can see that many of the pixel features contain no values which means they lend no information to assist us in our classification problem. \n",
        "These pixels will not be useful and we remove them from the dataset through dimensionality reduction."
      ]
    },
    {
      "cell_type": "code",
      "metadata": {
        "id": "CUC8R8iWQfE5"
      },
      "source": [
        "from sklearn.preprocessing import StandardScaler\n",
        "from sklearn.model_selection import train_test_split\n",
        "from sklearn.metrics import accuracy_score\n",
        "from sklearn.ensemble import RandomForestClassifier\n",
        "\n",
        "y = train[\"label\"]\n",
        "X = train.copy().drop(\"label\", axis=1)\n",
        "\n",
        "X_train, X_test, y_train, y_test = train_test_split(X, y, test_size=0.5, random_state=1234)\n",
        "\n",
        "X_std = StandardScaler().fit_transform(X)\n"
      ],
      "execution_count": null,
      "outputs": []
    },
    {
      "cell_type": "markdown",
      "metadata": {
        "id": "BjNu3qMPje-2"
      },
      "source": [
        "## PCA"
      ]
    },
    {
      "cell_type": "code",
      "metadata": {
        "colab": {
          "base_uri": "https://localhost:8080/",
          "height": 306
        },
        "id": "fKk7b3MmLVsC",
        "outputId": "1cd2aed4-0009-4734-edf7-38e0ee2ccca8"
      },
      "source": [
        "plt.figure(figsize = (5,5))\n",
        "for digit_num in range(0,64):\n",
        "    plt.subplot(8,8,digit_num+1)\n",
        "    grid_data = X.iloc[digit_num].to_numpy().reshape(28,28)  # reshape from 1d to 2d pixel array\n",
        "    plt.imshow(grid_data, interpolation = \"none\", cmap = \"bone_r\")\n",
        "    plt.xticks([])\n",
        "    plt.yticks([])"
      ],
      "execution_count": null,
      "outputs": [
        {
          "output_type": "display_data",
          "data": {
            "image/png": "[encoded data removed]",
            "text/plain": [
              "<Figure size 360x360 with 64 Axes>"
            ]
          },
          "metadata": {}
        }
      ]
    },
    {
      "cell_type": "code",
      "metadata": {
        "id": "07WKGybiSjCP"
      },
      "source": [
        "# check performance of random forest classifier, as function of number of estimators \n",
        "# here we only take 1000 data points to train\n",
        "\n",
        "n_estimators_array = np.array([1,5,10,50,100,200,500])\n",
        "n_samples = 10\n",
        "n_grid = len(n_estimators_array)\n",
        "score_array_mu =np.zeros(n_grid)\n",
        "score_array_sigma = np.zeros(n_grid)\n",
        "j=0\n",
        "for n_estimators in n_estimators_array:\n",
        "    score_array=np.zeros(n_samples)\n",
        "    for i in range(0,n_samples):\n",
        "        clf = RandomForestClassifier(n_estimators = n_estimators, n_jobs=1, criterion=\"gini\")\n",
        "        clf.fit(X_train.iloc[0:1000], y_train.iloc[0:1000])\n",
        "        score_array[i] = clf.score(X_test.iloc[0:1000], y_test.iloc[0:1000])\n",
        "    score_array_mu[j], score_array_sigma[j] = np.mean(score_array), np.std(score_array)\n",
        "    j=j+1"
      ],
      "execution_count": null,
      "outputs": []
    },
    {
      "cell_type": "code",
      "metadata": {
        "colab": {
          "base_uri": "https://localhost:8080/",
          "height": 238
        },
        "id": "s5bKAg_6TLwz",
        "outputId": "2b0bf8e7-25e5-4c51-c842-e406be0cb2c7"
      },
      "source": [
        "plt.figure(figsize = (7,3))\n",
        "plt.errorbar(n_estimators_array, score_array_mu, yerr=score_array_sigma, fmt='k.-')\n",
        "plt.xscale(\"log\")\n",
        "plt.xlabel(\"number of estimators\",size = 20)\n",
        "plt.ylabel(\"accuracy\",size = 20)\n",
        "plt.xlim(0.9,600)\n",
        "plt.grid(which=\"both\")"
      ],
      "execution_count": null,
      "outputs": [
        {
          "output_type": "display_data",
          "data": {
            "image/png": "[encoded data removed]",
            "text/plain": [
              "<Figure size 504x216 with 1 Axes>"
            ]
          },
          "metadata": {
            "needs_background": "light"
          }
        }
      ]
    },
    {
      "cell_type": "code",
      "metadata": {
        "colab": {
          "base_uri": "https://localhost:8080/",
          "height": 355
        },
        "id": "5idEk6NxT5D-",
        "outputId": "917ce50e-8057-4193-f0cc-75ca65320ae4"
      },
      "source": [
        "pca = PCA(n_components=200)\n",
        "pca.fit(X_train)\n",
        "transform = pca.transform(X_test)\n",
        "\n",
        "plt.figure(figsize = (6,5))\n",
        "plt.scatter(transform[:,0],transform[:,1], s=20, c = y_test, cmap = \"nipy_spectral\", edgecolor = \"None\")\n",
        "plt.colorbar()\n",
        "plt.clim(0,9)\n",
        "\n",
        "plt.xlabel(\"PC1\")\n",
        "plt.ylabel(\"PC2\")"
      ],
      "execution_count": null,
      "outputs": [
        {
          "output_type": "execute_result",
          "data": {
            "text/plain": [
              "Text(0, 0.5, 'PC2')"
            ]
          },
          "metadata": {},
          "execution_count": 18
        },
        {
          "output_type": "display_data",
          "data": {
            "image/png": "[encoded data removed]",
            "text/plain": [
              "<Figure size 432x360 with 2 Axes>"
            ]
          },
          "metadata": {
            "needs_background": "light"
          }
        }
      ]
    },
    {
      "cell_type": "code",
      "metadata": {
        "id": "UrEreCqkSBKn"
      },
      "source": [
        "n_components_array=([1,2,3,4,5,10,20,50,100,200,500])\n",
        "vr = np.zeros(len(n_components_array))\n",
        "i=0;\n",
        "for n_components in n_components_array:\n",
        "    pca = PCA(n_components=n_components)\n",
        "    pca.fit(X_train)\n",
        "    vr[i] = sum(pca.explained_variance_ratio_)\n",
        "    i=i+1   "
      ],
      "execution_count": null,
      "outputs": []
    },
    {
      "cell_type": "code",
      "metadata": {
        "colab": {
          "base_uri": "https://localhost:8080/",
          "height": 311
        },
        "id": "LZBQt2bwR82E",
        "outputId": "fc5d45ea-80bc-469b-e6c5-5cb768412f19"
      },
      "source": [
        "plt.figure(figsize = (8,4))\n",
        "plt.plot(n_components_array,vr,'k.-')\n",
        "plt.xscale(\"log\")\n",
        "plt.ylim(9e-2,1.1)\n",
        "plt.yticks(np.linspace(0.2,1.0,9))\n",
        "plt.xlim(0.9)\n",
        "plt.grid(which=\"both\")\n",
        "plt.axvline(linewidth=2, color='r', linestyle = '--', x=100, ymin=0, ymax=1)\n",
        "plt.xlabel(\"number of PCA components\",size=20)\n",
        "plt.ylabel(\"variance ratio\",size=20)"
      ],
      "execution_count": null,
      "outputs": [
        {
          "output_type": "execute_result",
          "data": {
            "text/plain": [
              "Text(0, 0.5, 'variance ratio')"
            ]
          },
          "metadata": {},
          "execution_count": 182
        },
        {
          "output_type": "display_data",
          "data": {
            "image/png": "[encoded data removed]",
            "text/plain": [
              "<Figure size 576x288 with 1 Axes>"
            ]
          },
          "metadata": {}
        }
      ]
    },
    {
      "cell_type": "code",
      "metadata": {
        "id": "3jSLsMXZUYW6"
      },
      "source": [
        "#rfc = RandomForestClassifier()\n",
        "n_components_array=([5,10,20,50,100, 200, 500])\n",
        "score_array = np.zeros(len(n_components_array))\n",
        "i = 0\n",
        "\n",
        "#for n_components in n_components_array:\n",
        "# pca = PCA(n_components=100)\n",
        "# pca.fit(X_train.iloc[0:1000])\n",
        "# transform = pca.transform(X_train.iloc[0:1000])\n",
        "# rfc.fit(transform, y_train.iloc[0:1000])\n",
        "# y_pred = rfc.predict(X_test.iloc[0:1000])\n",
        "# accuracy_score(y_test.iloc[0:1000], y_pred)\n",
        "\n",
        "j=0\n",
        "for n_components in n_components_array:\n",
        "    pca = PCA(n_components=n_components)\n",
        "    pca.fit(X_train.iloc[0:1000])\n",
        "    transform = pca.transform(X_train.iloc[0:1000])\n",
        "    rfc = RandomForestClassifier(criterion=\"gini\")\n",
        "    rfc.fit(transform, y_train.iloc[0:1000])\n",
        "    y_pred = rfc.predict(pca.transform(X_test.iloc[0:1000]))\n",
        "    score_array[i] = accuracy_score(y_test.iloc[0:1000], y_pred))\n",
        "    # score_array=np.zeros(n_samples)\n",
        "    # for i in range(0,n_samples):\n",
        "    #     clf = RandomForestClassifier(n_estimators = n_estimators, n_jobs=1, criterion=\"gini\")\n",
        "    #     clf.fit(X_train.iloc[0:1000], y_train.iloc[0:1000])\n",
        "    #     score_array[i] = clf.score(X_test.iloc[0:1000], y_test.iloc[0:1000])\n",
        "    # score_array_mu[j], score_array_sigma[j] = np.mean(score_array), np.std(score_array)\n",
        "    i=i+1\n"
      ],
      "execution_count": null,
      "outputs": []
    },
    {
      "cell_type": "code",
      "metadata": {
        "colab": {
          "base_uri": "https://localhost:8080/",
          "height": 292
        },
        "id": "c1TKpHP0VOwm",
        "outputId": "da05a4c3-c07c-4904-9f81-42bbfe8a3889"
      },
      "source": [
        "plt.figure(figsize=(8,4))\n",
        "plt.plot(n_components_array,score_array,'k.-')\n",
        "plt.xscale('log')\n",
        "plt.xlabel(\"number of PCA components\", size=20)\n",
        "plt.ylabel(\"accuracy\", size=20)\n",
        "plt.grid(which=\"both\")"
      ],
      "execution_count": null,
      "outputs": [
        {
          "output_type": "display_data",
          "data": {
            "image/png": "[encoded data removed]",
            "text/plain": [
              "<Figure size 576x288 with 1 Axes>"
            ]
          },
          "metadata": {
            "needs_background": "light"
          }
        }
      ]
    },
    {
      "cell_type": "markdown",
      "metadata": {
        "id": "NkP5vOjH1LZ6"
      },
      "source": [
        "##Dimensionality Reduction"
      ]
    },
    {
      "cell_type": "markdown",
      "metadata": {
        "id": "yNXyH2H51RVn"
      },
      "source": [
        "Since our dataset consists of a large number of features, with many columns having no values in them or very few, we can exploit this to reduce the dimensionality of the data.\n",
        "\n",
        "First, we will want to save our labels and separate them from the dataset for future use."
      ]
    },
    {
      "cell_type": "code",
      "metadata": {
        "colab": {
          "base_uri": "https://localhost:8080/",
          "height": 34
        },
        "id": "ECWzdRnWwJAI",
        "outputId": "29eb49b0-4d79-455c-c6a0-b89c8627b085"
      },
      "source": [
        "from sklearn.ensemble import RandomForestClassifier\n",
        "from sklearn.metrics import accuracy_score\n",
        "\n",
        "rfc = RandomForestClassifier()\n",
        "rfc.fit(X_train, y_train)\n",
        "display(rfc.score(X_train, y_train))"
      ],
      "execution_count": null,
      "outputs": [
        {
          "output_type": "display_data",
          "data": {
            "text/plain": [
              "1.0"
            ]
          },
          "metadata": {}
        }
      ]
    },
    {
      "cell_type": "code",
      "metadata": {
        "id": "DbUfBnkfwzPr",
        "colab": {
          "base_uri": "https://localhost:8080/",
          "height": 1000
        },
        "outputId": "c48893fe-3d63-4f2b-d15b-a688972ccb59"
      },
      "source": [
        "features = {}\n",
        "for feature, importance in zip(train.columns, rfc.feature_importances_):\n",
        "    features[feature] = importance\n",
        "\n",
        "importances = pd.DataFrame.from_dict(features, orient='index').rename(columns={0: 'Gini-Importance'})\n",
        "importances = importances.sort_values(by='Gini-Importance', ascending=False)\n",
        "importances = importances.reset_index()\n",
        "importances = importances.rename(columns={'index': 'Features'})\n",
        "\n",
        "sns.set(font_scale = 0.1)\n",
        "sns.set(style=\"whitegrid\", color_codes=True, font_scale = 0.7)\n",
        "fig, ax = plt.subplots()\n",
        "fig.set_size_inches(30,15)\n",
        "sns.barplot(x=importances['Gini-Importance'][importances['Gini-Importance'] > 0.006], y=importances['Features'][importances['Gini-Importance'] > 0.006], data=importances[importances['Gini-Importance'] > 0.006], color='skyblue')\n",
        "plt.xlabel('Importance', fontsize=25, weight = 'bold')\n",
        "plt.ylabel('Features', fontsize=25, weight = 'bold')\n",
        "plt.title('Feature Importance', fontsize=25, weight = 'bold')\n",
        "plt.show()\n",
        "display(importances)\n",
        "display((importances['Gini-Importance'][importances['Gini-Importance'] > 0.0012]))\n",
        "display(sum(importances['Gini-Importance'][importances['Gini-Importance'] > 0.0012]))"
      ],
      "execution_count": null,
      "outputs": [
        {
          "output_type": "display_data",
          "data": {
            "image/png": "[encoded data removed]",
            "text/plain": [
              "<Figure size 2160x1080 with 1 Axes>"
            ]
          },
          "metadata": {}
        },
        {
          "output_type": "display_data",
          "data": {
            "text/html": [
              "<div>\n",
              "<style scoped>\n",
              "    .dataframe tbody tr th:only-of-type {\n",
              "        vertical-align: middle;\n",
              "    }\n",
              "\n",
              "    .dataframe tbody tr th {\n",
              "        vertical-align: top;\n",
              "    }\n",
              "\n",
              "    .dataframe thead th {\n",
              "        text-align: right;\n",
              "    }\n",
              "</style>\n",
              "<table border=\"1\" class=\"dataframe\">\n",
              "  <thead>\n",
              "    <tr style=\"text-align: right;\">\n",
              "      <th></th>\n",
              "      <th>Features</th>\n",
              "      <th>Gini-Importance</th>\n",
              "    </tr>\n",
              "  </thead>\n",
              "  <tbody>\n",
              "    <tr>\n",
              "      <th>0</th>\n",
              "      <td>pixel377</td>\n",
              "      <td>0.010281</td>\n",
              "    </tr>\n",
              "    <tr>\n",
              "      <th>1</th>\n",
              "      <td>pixel349</td>\n",
              "      <td>0.009372</td>\n",
              "    </tr>\n",
              "    <tr>\n",
              "      <th>2</th>\n",
              "      <td>pixel404</td>\n",
              "      <td>0.008449</td>\n",
              "    </tr>\n",
              "    <tr>\n",
              "      <th>3</th>\n",
              "      <td>pixel405</td>\n",
              "      <td>0.007656</td>\n",
              "    </tr>\n",
              "    <tr>\n",
              "      <th>4</th>\n",
              "      <td>pixel374</td>\n",
              "      <td>0.007493</td>\n",
              "    </tr>\n",
              "    <tr>\n",
              "      <th>...</th>\n",
              "      <td>...</td>\n",
              "      <td>...</td>\n",
              "    </tr>\n",
              "    <tr>\n",
              "      <th>779</th>\n",
              "      <td>pixel307</td>\n",
              "      <td>0.000000</td>\n",
              "    </tr>\n",
              "    <tr>\n",
              "      <th>780</th>\n",
              "      <td>pixel334</td>\n",
              "      <td>0.000000</td>\n",
              "    </tr>\n",
              "    <tr>\n",
              "      <th>781</th>\n",
              "      <td>pixel335</td>\n",
              "      <td>0.000000</td>\n",
              "    </tr>\n",
              "    <tr>\n",
              "      <th>782</th>\n",
              "      <td>pixel336</td>\n",
              "      <td>0.000000</td>\n",
              "    </tr>\n",
              "    <tr>\n",
              "      <th>783</th>\n",
              "      <td>pixel782</td>\n",
              "      <td>0.000000</td>\n",
              "    </tr>\n",
              "  </tbody>\n",
              "</table>\n",
              "<p>784 rows × 2 columns</p>\n",
              "</div>"
            ],
            "text/plain": [
              "     Features  Gini-Importance\n",
              "0    pixel377         0.010281\n",
              "1    pixel349         0.009372\n",
              "2    pixel404         0.008449\n",
              "3    pixel405         0.007656\n",
              "4    pixel374         0.007493\n",
              "..        ...              ...\n",
              "779  pixel307         0.000000\n",
              "780  pixel334         0.000000\n",
              "781  pixel335         0.000000\n",
              "782  pixel336         0.000000\n",
              "783  pixel782         0.000000\n",
              "\n",
              "[784 rows x 2 columns]"
            ]
          },
          "metadata": {}
        },
        {
          "output_type": "display_data",
          "data": {
            "text/plain": [
              "0      0.010281\n",
              "1      0.009372\n",
              "2      0.008449\n",
              "3      0.007656\n",
              "4      0.007493\n",
              "         ...   \n",
              "267    0.001256\n",
              "268    0.001250\n",
              "269    0.001237\n",
              "270    0.001227\n",
              "271    0.001227\n",
              "Name: Gini-Importance, Length: 272, dtype: float64"
            ]
          },
          "metadata": {}
        },
        {
          "output_type": "display_data",
          "data": {
            "text/plain": [
              "0.9016434852397099"
            ]
          },
          "metadata": {}
        }
      ]
    },
    {
      "cell_type": "code",
      "metadata": {
        "colab": {
          "base_uri": "https://localhost:8080/",
          "height": 709
        },
        "id": "A0dKtkHcDHNu",
        "outputId": "5601bc70-2134-42e3-811c-483eac6c354e"
      },
      "source": [
        "pca_test = PCA(n_components=250)\n",
        "pca_test.fit(X_train)\n",
        "\n",
        "sns.set(style='whitegrid')\n",
        "plt.plot(np.cumsum(pca_test.explained_variance_ratio_))\n",
        "plt.xlabel('number of components')\n",
        "plt.ylabel('cumulative explained variance')\n",
        "plt.axvline(linewidth=4, color='r', linestyle = '--', x=150, ymin=0, ymax=1)\n",
        "display(plt.show())\n",
        "evr = pca_test.explained_variance_ratio_\n",
        "cvr = np.cumsum(pca_test.explained_variance_ratio_)\n",
        "pca_df = pd.DataFrame()\n",
        "pca_df['Cumulative Variance Ratio'] = cvr\n",
        "pca_df['Explained Variance Ratio'] = evr\n",
        "display(pca_df.head(100))"
      ],
      "execution_count": null,
      "outputs": [
        {
          "output_type": "display_data",
          "data": {
            "image/png": "[encoded data removed]",
            "text/plain": [
              "<Figure size 432x288 with 1 Axes>"
            ]
          },
          "metadata": {}
        },
        {
          "output_type": "display_data",
          "data": {
            "text/plain": [
              "None"
            ]
          },
          "metadata": {}
        },
        {
          "output_type": "display_data",
          "data": {
            "text/html": [
              "<div>\n",
              "<style scoped>\n",
              "    .dataframe tbody tr th:only-of-type {\n",
              "        vertical-align: middle;\n",
              "    }\n",
              "\n",
              "    .dataframe tbody tr th {\n",
              "        vertical-align: top;\n",
              "    }\n",
              "\n",
              "    .dataframe thead th {\n",
              "        text-align: right;\n",
              "    }\n",
              "</style>\n",
              "<table border=\"1\" class=\"dataframe\">\n",
              "  <thead>\n",
              "    <tr style=\"text-align: right;\">\n",
              "      <th></th>\n",
              "      <th>Cumulative Variance Ratio</th>\n",
              "      <th>Explained Variance Ratio</th>\n",
              "    </tr>\n",
              "  </thead>\n",
              "  <tbody>\n",
              "    <tr>\n",
              "      <th>0</th>\n",
              "      <td>0.097062</td>\n",
              "      <td>0.097062</td>\n",
              "    </tr>\n",
              "    <tr>\n",
              "      <th>1</th>\n",
              "      <td>0.167970</td>\n",
              "      <td>0.070908</td>\n",
              "    </tr>\n",
              "    <tr>\n",
              "      <th>2</th>\n",
              "      <td>0.229812</td>\n",
              "      <td>0.061842</td>\n",
              "    </tr>\n",
              "    <tr>\n",
              "      <th>3</th>\n",
              "      <td>0.283279</td>\n",
              "      <td>0.053467</td>\n",
              "    </tr>\n",
              "    <tr>\n",
              "      <th>4</th>\n",
              "      <td>0.332245</td>\n",
              "      <td>0.048965</td>\n",
              "    </tr>\n",
              "    <tr>\n",
              "      <th>...</th>\n",
              "      <td>...</td>\n",
              "      <td>...</td>\n",
              "    </tr>\n",
              "    <tr>\n",
              "      <th>145</th>\n",
              "      <td>0.946957</td>\n",
              "      <td>0.000491</td>\n",
              "    </tr>\n",
              "    <tr>\n",
              "      <th>146</th>\n",
              "      <td>0.947444</td>\n",
              "      <td>0.000487</td>\n",
              "    </tr>\n",
              "    <tr>\n",
              "      <th>147</th>\n",
              "      <td>0.947925</td>\n",
              "      <td>0.000481</td>\n",
              "    </tr>\n",
              "    <tr>\n",
              "      <th>148</th>\n",
              "      <td>0.948397</td>\n",
              "      <td>0.000472</td>\n",
              "    </tr>\n",
              "    <tr>\n",
              "      <th>149</th>\n",
              "      <td>0.948868</td>\n",
              "      <td>0.000470</td>\n",
              "    </tr>\n",
              "  </tbody>\n",
              "</table>\n",
              "<p>150 rows × 2 columns</p>\n",
              "</div>"
            ],
            "text/plain": [
              "     Cumulative Variance Ratio  Explained Variance Ratio\n",
              "0                     0.097062                  0.097062\n",
              "1                     0.167970                  0.070908\n",
              "2                     0.229812                  0.061842\n",
              "3                     0.283279                  0.053467\n",
              "4                     0.332245                  0.048965\n",
              "..                         ...                       ...\n",
              "145                   0.946957                  0.000491\n",
              "146                   0.947444                  0.000487\n",
              "147                   0.947925                  0.000481\n",
              "148                   0.948397                  0.000472\n",
              "149                   0.948868                  0.000470\n",
              "\n",
              "[150 rows x 2 columns]"
            ]
          },
          "metadata": {}
        }
      ]
    },
    {
      "cell_type": "markdown",
      "metadata": {
        "id": "NPiEkzz84fLg"
      },
      "source": [
        "We will attempt to reduce the dimensionality by employing Principal Component analysis or PCA.\n",
        "PCA allows us to project the features of the dataset onto a smaller set of features and still retain the majority of the information held by those features.\n",
        "By performing this reduction, we will be able to reduce our feature space and still retain the necessary information to classify the images. "
      ]
    },
    {
      "cell_type": "code",
      "metadata": {
        "id": "F8VQII1M4fDP"
      },
      "source": [
        ""
      ],
      "execution_count": null,
      "outputs": []
    },
    {
      "cell_type": "markdown",
      "metadata": {
        "id": "NezB5Y1N4e2P"
      },
      "source": [
        ""
      ]
    },
    {
      "cell_type": "code",
      "metadata": {
        "colab": {
          "base_uri": "https://localhost:8080/",
          "height": 34
        },
        "id": "06PxLfM0GXxf",
        "outputId": "4ab0864a-0a3e-4adf-f241-e2bf6a132b86"
      },
      "source": [
        "pca = PCA(n_components=20)\n",
        "pca.fit(X_train)\n",
        "\n",
        "X_train_pca = pca.transform(X_train)\n",
        "X_test_pca = pca.transform(X_test)\n",
        "\n",
        "rfc_pca = RandomForestClassifier()\n",
        "rfc_pca.fit(X_train_pca, y_train)\n",
        "\n",
        "rfc_baseline = RandomForestClassifier()\n",
        "rfc_baseline.fit(X_train, y_train)\n",
        "\n",
        "display(rfc.score(X_train_pca, y_train))"
      ],
      "execution_count": null,
      "outputs": [
        {
          "output_type": "display_data",
          "data": {
            "text/plain": [
              "1.0"
            ]
          },
          "metadata": {}
        }
      ]
    },
    {
      "cell_type": "code",
      "metadata": {
        "colab": {
          "base_uri": "https://localhost:8080/",
          "height": 87
        },
        "id": "X4me_O6oLMs9",
        "outputId": "820b144e-9537-492e-a848-b9d3d21fec94"
      },
      "source": [
        "y_pred = rfc_baseline.predict(X_test)\n",
        "y_pred_pca = rfc_pca.predict(X_test_pca)\n",
        "\n",
        "display('Baseline Random Forest accuracy score', accuracy_score(y_test, y_pred))\n",
        "display('Baseline Random Forest With PCA accuracy score', accuracy_score(y_test, y_pred_pca))\n",
        "\n",
        "# rfc2 = RandomForestClassifier()\n",
        "# rfc2.fit(X_train, y_train)\n",
        "# y_pred = rfc2.predict(X_test)\n",
        "# display(accuracy_score(y_test, y_pred))"
      ],
      "execution_count": null,
      "outputs": [
        {
          "output_type": "display_data",
          "data": {
            "application/vnd.google.colaboratory.intrinsic+json": {
              "type": "string"
            },
            "text/plain": [
              "'Baseline Random Forest accuracy score'"
            ]
          },
          "metadata": {}
        },
        {
          "output_type": "display_data",
          "data": {
            "text/plain": [
              "0.9572380952380952"
            ]
          },
          "metadata": {}
        },
        {
          "output_type": "display_data",
          "data": {
            "application/vnd.google.colaboratory.intrinsic+json": {
              "type": "string"
            },
            "text/plain": [
              "'Baseline Random Forest With PCA accuracy score'"
            ]
          },
          "metadata": {}
        },
        {
          "output_type": "display_data",
          "data": {
            "text/plain": [
              "0.9324285714285714"
            ]
          },
          "metadata": {}
        }
      ]
    },
    {
      "cell_type": "code",
      "metadata": {
        "id": "Y98tV8clODsk"
      },
      "source": [
        "from sklearn.ensemble import RandomForestClassifier\n",
        "from sklearn.metrics import accuracy_score\n",
        "\n",
        "clf = RandomForestClassifier()\n",
        "n_components_array=([1,2,3,4,5,10,20,50,100,200,500])\n",
        "score_array = np.zeros(len(n_components_array))\n",
        "i=0\n",
        "\n",
        "for n_components in n_components_array:\n",
        "    pca = PCA(n_components=n_components)\n",
        "    pca.fit(X_train)\n",
        "    transform = pca.transform(X_train)\n",
        "    X_test_pca = pca.transform(X_test)\n",
        "    clf.fit(transform, y_train)\n",
        "    predict = clf.predict(X_test_pca)\n",
        "    score_array[i] = accuracy_score(y_test, predict)\n",
        "    i=i+1"
      ],
      "execution_count": null,
      "outputs": []
    },
    {
      "cell_type": "code",
      "metadata": {
        "colab": {
          "base_uri": "https://localhost:8080/",
          "height": 297
        },
        "id": "PPRJhM85ODgi",
        "outputId": "1d5b053f-c10f-4943-ed7c-420d35944726"
      },
      "source": [
        "plt.figure(figsize = (8,4))\n",
        "plt.plot(n_components_array,score_array,'k.-')\n",
        "plt.xscale('log')\n",
        "plt.xlabel(\"number of PCA components\", size=20)\n",
        "plt.ylabel(\"accuracy\", size=20)\n",
        "plt.grid(which=\"both\")"
      ],
      "execution_count": null,
      "outputs": [
        {
          "output_type": "display_data",
          "data": {
            "image/png": "[encoded data removed]",
            "text/plain": [
              "<Figure size 576x288 with 1 Axes>"
            ]
          },
          "metadata": {}
        }
      ]
    },
    {
      "cell_type": "markdown",
      "metadata": {
        "id": "6fF8dtzrjZci"
      },
      "source": [
        "## RFC"
      ]
    },
    {
      "cell_type": "code",
      "metadata": {
        "colab": {
          "base_uri": "https://localhost:8080/",
          "height": 253
        },
        "id": "K08BW2njv5nc",
        "outputId": "c6537eca-9969-4bfe-cbb2-4ce753414323"
      },
      "source": [
        "test.head()"
      ],
      "execution_count": null,
      "outputs": [
        {
          "output_type": "execute_result",
          "data": {
            "text/html": [
              "<div>\n",
              "<style scoped>\n",
              "    .dataframe tbody tr th:only-of-type {\n",
              "        vertical-align: middle;\n",
              "    }\n",
              "\n",
              "    .dataframe tbody tr th {\n",
              "        vertical-align: top;\n",
              "    }\n",
              "\n",
              "    .dataframe thead th {\n",
              "        text-align: right;\n",
              "    }\n",
              "</style>\n",
              "<table border=\"1\" class=\"dataframe\">\n",
              "  <thead>\n",
              "    <tr style=\"text-align: right;\">\n",
              "      <th></th>\n",
              "      <th>pixel0</th>\n",
              "      <th>pixel1</th>\n",
              "      <th>pixel2</th>\n",
              "      <th>pixel3</th>\n",
              "      <th>pixel4</th>\n",
              "      <th>pixel5</th>\n",
              "      <th>pixel6</th>\n",
              "      <th>pixel7</th>\n",
              "      <th>pixel8</th>\n",
              "      <th>pixel9</th>\n",
              "      <th>pixel10</th>\n",
              "      <th>pixel11</th>\n",
              "      <th>pixel12</th>\n",
              "      <th>pixel13</th>\n",
              "      <th>pixel14</th>\n",
              "      <th>pixel15</th>\n",
              "      <th>pixel16</th>\n",
              "      <th>pixel17</th>\n",
              "      <th>pixel18</th>\n",
              "      <th>pixel19</th>\n",
              "      <th>pixel20</th>\n",
              "      <th>pixel21</th>\n",
              "      <th>pixel22</th>\n",
              "      <th>pixel23</th>\n",
              "      <th>pixel24</th>\n",
              "      <th>pixel25</th>\n",
              "      <th>pixel26</th>\n",
              "      <th>pixel27</th>\n",
              "      <th>pixel28</th>\n",
              "      <th>pixel29</th>\n",
              "      <th>pixel30</th>\n",
              "      <th>pixel31</th>\n",
              "      <th>pixel32</th>\n",
              "      <th>pixel33</th>\n",
              "      <th>pixel34</th>\n",
              "      <th>pixel35</th>\n",
              "      <th>pixel36</th>\n",
              "      <th>pixel37</th>\n",
              "      <th>pixel38</th>\n",
              "      <th>pixel39</th>\n",
              "      <th>...</th>\n",
              "      <th>pixel744</th>\n",
              "      <th>pixel745</th>\n",
              "      <th>pixel746</th>\n",
              "      <th>pixel747</th>\n",
              "      <th>pixel748</th>\n",
              "      <th>pixel749</th>\n",
              "      <th>pixel750</th>\n",
              "      <th>pixel751</th>\n",
              "      <th>pixel752</th>\n",
              "      <th>pixel753</th>\n",
              "      <th>pixel754</th>\n",
              "      <th>pixel755</th>\n",
              "      <th>pixel756</th>\n",
              "      <th>pixel757</th>\n",
              "      <th>pixel758</th>\n",
              "      <th>pixel759</th>\n",
              "      <th>pixel760</th>\n",
              "      <th>pixel761</th>\n",
              "      <th>pixel762</th>\n",
              "      <th>pixel763</th>\n",
              "      <th>pixel764</th>\n",
              "      <th>pixel765</th>\n",
              "      <th>pixel766</th>\n",
              "      <th>pixel767</th>\n",
              "      <th>pixel768</th>\n",
              "      <th>pixel769</th>\n",
              "      <th>pixel770</th>\n",
              "      <th>pixel771</th>\n",
              "      <th>pixel772</th>\n",
              "      <th>pixel773</th>\n",
              "      <th>pixel774</th>\n",
              "      <th>pixel775</th>\n",
              "      <th>pixel776</th>\n",
              "      <th>pixel777</th>\n",
              "      <th>pixel778</th>\n",
              "      <th>pixel779</th>\n",
              "      <th>pixel780</th>\n",
              "      <th>pixel781</th>\n",
              "      <th>pixel782</th>\n",
              "      <th>pixel783</th>\n",
              "    </tr>\n",
              "  </thead>\n",
              "  <tbody>\n",
              "    <tr>\n",
              "      <th>0</th>\n",
              "      <td>0</td>\n",
              "      <td>0</td>\n",
              "      <td>0</td>\n",
              "      <td>0</td>\n",
              "      <td>0</td>\n",
              "      <td>0</td>\n",
              "      <td>0</td>\n",
              "      <td>0</td>\n",
              "      <td>0</td>\n",
              "      <td>0</td>\n",
              "      <td>0</td>\n",
              "      <td>0</td>\n",
              "      <td>0</td>\n",
              "      <td>0</td>\n",
              "      <td>0</td>\n",
              "      <td>0</td>\n",
              "      <td>0</td>\n",
              "      <td>0</td>\n",
              "      <td>0</td>\n",
              "      <td>0</td>\n",
              "      <td>0</td>\n",
              "      <td>0</td>\n",
              "      <td>0</td>\n",
              "      <td>0</td>\n",
              "      <td>0</td>\n",
              "      <td>0</td>\n",
              "      <td>0</td>\n",
              "      <td>0</td>\n",
              "      <td>0</td>\n",
              "      <td>0</td>\n",
              "      <td>0</td>\n",
              "      <td>0</td>\n",
              "      <td>0</td>\n",
              "      <td>0</td>\n",
              "      <td>0</td>\n",
              "      <td>0</td>\n",
              "      <td>0</td>\n",
              "      <td>0</td>\n",
              "      <td>0</td>\n",
              "      <td>0</td>\n",
              "      <td>...</td>\n",
              "      <td>0</td>\n",
              "      <td>0</td>\n",
              "      <td>0</td>\n",
              "      <td>0</td>\n",
              "      <td>0</td>\n",
              "      <td>0</td>\n",
              "      <td>0</td>\n",
              "      <td>0</td>\n",
              "      <td>0</td>\n",
              "      <td>0</td>\n",
              "      <td>0</td>\n",
              "      <td>0</td>\n",
              "      <td>0</td>\n",
              "      <td>0</td>\n",
              "      <td>0</td>\n",
              "      <td>0</td>\n",
              "      <td>0</td>\n",
              "      <td>0</td>\n",
              "      <td>0</td>\n",
              "      <td>0</td>\n",
              "      <td>0</td>\n",
              "      <td>0</td>\n",
              "      <td>0</td>\n",
              "      <td>0</td>\n",
              "      <td>0</td>\n",
              "      <td>0</td>\n",
              "      <td>0</td>\n",
              "      <td>0</td>\n",
              "      <td>0</td>\n",
              "      <td>0</td>\n",
              "      <td>0</td>\n",
              "      <td>0</td>\n",
              "      <td>0</td>\n",
              "      <td>0</td>\n",
              "      <td>0</td>\n",
              "      <td>0</td>\n",
              "      <td>0</td>\n",
              "      <td>0</td>\n",
              "      <td>0</td>\n",
              "      <td>0</td>\n",
              "    </tr>\n",
              "    <tr>\n",
              "      <th>1</th>\n",
              "      <td>0</td>\n",
              "      <td>0</td>\n",
              "      <td>0</td>\n",
              "      <td>0</td>\n",
              "      <td>0</td>\n",
              "      <td>0</td>\n",
              "      <td>0</td>\n",
              "      <td>0</td>\n",
              "      <td>0</td>\n",
              "      <td>0</td>\n",
              "      <td>0</td>\n",
              "      <td>0</td>\n",
              "      <td>0</td>\n",
              "      <td>0</td>\n",
              "      <td>0</td>\n",
              "      <td>0</td>\n",
              "      <td>0</td>\n",
              "      <td>0</td>\n",
              "      <td>0</td>\n",
              "      <td>0</td>\n",
              "      <td>0</td>\n",
              "      <td>0</td>\n",
              "      <td>0</td>\n",
              "      <td>0</td>\n",
              "      <td>0</td>\n",
              "      <td>0</td>\n",
              "      <td>0</td>\n",
              "      <td>0</td>\n",
              "      <td>0</td>\n",
              "      <td>0</td>\n",
              "      <td>0</td>\n",
              "      <td>0</td>\n",
              "      <td>0</td>\n",
              "      <td>0</td>\n",
              "      <td>0</td>\n",
              "      <td>0</td>\n",
              "      <td>0</td>\n",
              "      <td>0</td>\n",
              "      <td>0</td>\n",
              "      <td>0</td>\n",
              "      <td>...</td>\n",
              "      <td>0</td>\n",
              "      <td>0</td>\n",
              "      <td>0</td>\n",
              "      <td>0</td>\n",
              "      <td>0</td>\n",
              "      <td>0</td>\n",
              "      <td>0</td>\n",
              "      <td>0</td>\n",
              "      <td>0</td>\n",
              "      <td>0</td>\n",
              "      <td>0</td>\n",
              "      <td>0</td>\n",
              "      <td>0</td>\n",
              "      <td>0</td>\n",
              "      <td>0</td>\n",
              "      <td>0</td>\n",
              "      <td>0</td>\n",
              "      <td>0</td>\n",
              "      <td>0</td>\n",
              "      <td>0</td>\n",
              "      <td>0</td>\n",
              "      <td>0</td>\n",
              "      <td>0</td>\n",
              "      <td>0</td>\n",
              "      <td>0</td>\n",
              "      <td>0</td>\n",
              "      <td>0</td>\n",
              "      <td>0</td>\n",
              "      <td>0</td>\n",
              "      <td>0</td>\n",
              "      <td>0</td>\n",
              "      <td>0</td>\n",
              "      <td>0</td>\n",
              "      <td>0</td>\n",
              "      <td>0</td>\n",
              "      <td>0</td>\n",
              "      <td>0</td>\n",
              "      <td>0</td>\n",
              "      <td>0</td>\n",
              "      <td>0</td>\n",
              "    </tr>\n",
              "    <tr>\n",
              "      <th>2</th>\n",
              "      <td>0</td>\n",
              "      <td>0</td>\n",
              "      <td>0</td>\n",
              "      <td>0</td>\n",
              "      <td>0</td>\n",
              "      <td>0</td>\n",
              "      <td>0</td>\n",
              "      <td>0</td>\n",
              "      <td>0</td>\n",
              "      <td>0</td>\n",
              "      <td>0</td>\n",
              "      <td>0</td>\n",
              "      <td>0</td>\n",
              "      <td>0</td>\n",
              "      <td>0</td>\n",
              "      <td>0</td>\n",
              "      <td>0</td>\n",
              "      <td>0</td>\n",
              "      <td>0</td>\n",
              "      <td>0</td>\n",
              "      <td>0</td>\n",
              "      <td>0</td>\n",
              "      <td>0</td>\n",
              "      <td>0</td>\n",
              "      <td>0</td>\n",
              "      <td>0</td>\n",
              "      <td>0</td>\n",
              "      <td>0</td>\n",
              "      <td>0</td>\n",
              "      <td>0</td>\n",
              "      <td>0</td>\n",
              "      <td>0</td>\n",
              "      <td>0</td>\n",
              "      <td>0</td>\n",
              "      <td>0</td>\n",
              "      <td>0</td>\n",
              "      <td>0</td>\n",
              "      <td>0</td>\n",
              "      <td>0</td>\n",
              "      <td>0</td>\n",
              "      <td>...</td>\n",
              "      <td>0</td>\n",
              "      <td>0</td>\n",
              "      <td>0</td>\n",
              "      <td>0</td>\n",
              "      <td>0</td>\n",
              "      <td>0</td>\n",
              "      <td>0</td>\n",
              "      <td>0</td>\n",
              "      <td>0</td>\n",
              "      <td>0</td>\n",
              "      <td>0</td>\n",
              "      <td>0</td>\n",
              "      <td>0</td>\n",
              "      <td>0</td>\n",
              "      <td>0</td>\n",
              "      <td>0</td>\n",
              "      <td>0</td>\n",
              "      <td>0</td>\n",
              "      <td>0</td>\n",
              "      <td>0</td>\n",
              "      <td>0</td>\n",
              "      <td>0</td>\n",
              "      <td>0</td>\n",
              "      <td>0</td>\n",
              "      <td>0</td>\n",
              "      <td>0</td>\n",
              "      <td>0</td>\n",
              "      <td>0</td>\n",
              "      <td>0</td>\n",
              "      <td>0</td>\n",
              "      <td>0</td>\n",
              "      <td>0</td>\n",
              "      <td>0</td>\n",
              "      <td>0</td>\n",
              "      <td>0</td>\n",
              "      <td>0</td>\n",
              "      <td>0</td>\n",
              "      <td>0</td>\n",
              "      <td>0</td>\n",
              "      <td>0</td>\n",
              "    </tr>\n",
              "    <tr>\n",
              "      <th>3</th>\n",
              "      <td>0</td>\n",
              "      <td>0</td>\n",
              "      <td>0</td>\n",
              "      <td>0</td>\n",
              "      <td>0</td>\n",
              "      <td>0</td>\n",
              "      <td>0</td>\n",
              "      <td>0</td>\n",
              "      <td>0</td>\n",
              "      <td>0</td>\n",
              "      <td>0</td>\n",
              "      <td>0</td>\n",
              "      <td>0</td>\n",
              "      <td>0</td>\n",
              "      <td>0</td>\n",
              "      <td>0</td>\n",
              "      <td>0</td>\n",
              "      <td>0</td>\n",
              "      <td>0</td>\n",
              "      <td>0</td>\n",
              "      <td>0</td>\n",
              "      <td>0</td>\n",
              "      <td>0</td>\n",
              "      <td>0</td>\n",
              "      <td>0</td>\n",
              "      <td>0</td>\n",
              "      <td>0</td>\n",
              "      <td>0</td>\n",
              "      <td>0</td>\n",
              "      <td>0</td>\n",
              "      <td>0</td>\n",
              "      <td>0</td>\n",
              "      <td>0</td>\n",
              "      <td>0</td>\n",
              "      <td>0</td>\n",
              "      <td>0</td>\n",
              "      <td>0</td>\n",
              "      <td>0</td>\n",
              "      <td>0</td>\n",
              "      <td>0</td>\n",
              "      <td>...</td>\n",
              "      <td>0</td>\n",
              "      <td>0</td>\n",
              "      <td>0</td>\n",
              "      <td>0</td>\n",
              "      <td>0</td>\n",
              "      <td>0</td>\n",
              "      <td>0</td>\n",
              "      <td>0</td>\n",
              "      <td>0</td>\n",
              "      <td>0</td>\n",
              "      <td>0</td>\n",
              "      <td>0</td>\n",
              "      <td>0</td>\n",
              "      <td>0</td>\n",
              "      <td>0</td>\n",
              "      <td>0</td>\n",
              "      <td>0</td>\n",
              "      <td>0</td>\n",
              "      <td>0</td>\n",
              "      <td>0</td>\n",
              "      <td>0</td>\n",
              "      <td>0</td>\n",
              "      <td>0</td>\n",
              "      <td>0</td>\n",
              "      <td>0</td>\n",
              "      <td>0</td>\n",
              "      <td>0</td>\n",
              "      <td>0</td>\n",
              "      <td>0</td>\n",
              "      <td>0</td>\n",
              "      <td>0</td>\n",
              "      <td>0</td>\n",
              "      <td>0</td>\n",
              "      <td>0</td>\n",
              "      <td>0</td>\n",
              "      <td>0</td>\n",
              "      <td>0</td>\n",
              "      <td>0</td>\n",
              "      <td>0</td>\n",
              "      <td>0</td>\n",
              "    </tr>\n",
              "    <tr>\n",
              "      <th>4</th>\n",
              "      <td>0</td>\n",
              "      <td>0</td>\n",
              "      <td>0</td>\n",
              "      <td>0</td>\n",
              "      <td>0</td>\n",
              "      <td>0</td>\n",
              "      <td>0</td>\n",
              "      <td>0</td>\n",
              "      <td>0</td>\n",
              "      <td>0</td>\n",
              "      <td>0</td>\n",
              "      <td>0</td>\n",
              "      <td>0</td>\n",
              "      <td>0</td>\n",
              "      <td>0</td>\n",
              "      <td>0</td>\n",
              "      <td>0</td>\n",
              "      <td>0</td>\n",
              "      <td>0</td>\n",
              "      <td>0</td>\n",
              "      <td>0</td>\n",
              "      <td>0</td>\n",
              "      <td>0</td>\n",
              "      <td>0</td>\n",
              "      <td>0</td>\n",
              "      <td>0</td>\n",
              "      <td>0</td>\n",
              "      <td>0</td>\n",
              "      <td>0</td>\n",
              "      <td>0</td>\n",
              "      <td>0</td>\n",
              "      <td>0</td>\n",
              "      <td>0</td>\n",
              "      <td>0</td>\n",
              "      <td>0</td>\n",
              "      <td>0</td>\n",
              "      <td>0</td>\n",
              "      <td>0</td>\n",
              "      <td>0</td>\n",
              "      <td>0</td>\n",
              "      <td>...</td>\n",
              "      <td>0</td>\n",
              "      <td>0</td>\n",
              "      <td>0</td>\n",
              "      <td>0</td>\n",
              "      <td>0</td>\n",
              "      <td>0</td>\n",
              "      <td>0</td>\n",
              "      <td>0</td>\n",
              "      <td>0</td>\n",
              "      <td>0</td>\n",
              "      <td>0</td>\n",
              "      <td>0</td>\n",
              "      <td>0</td>\n",
              "      <td>0</td>\n",
              "      <td>0</td>\n",
              "      <td>0</td>\n",
              "      <td>0</td>\n",
              "      <td>0</td>\n",
              "      <td>0</td>\n",
              "      <td>0</td>\n",
              "      <td>0</td>\n",
              "      <td>0</td>\n",
              "      <td>0</td>\n",
              "      <td>0</td>\n",
              "      <td>0</td>\n",
              "      <td>0</td>\n",
              "      <td>0</td>\n",
              "      <td>0</td>\n",
              "      <td>0</td>\n",
              "      <td>0</td>\n",
              "      <td>0</td>\n",
              "      <td>0</td>\n",
              "      <td>0</td>\n",
              "      <td>0</td>\n",
              "      <td>0</td>\n",
              "      <td>0</td>\n",
              "      <td>0</td>\n",
              "      <td>0</td>\n",
              "      <td>0</td>\n",
              "      <td>0</td>\n",
              "    </tr>\n",
              "  </tbody>\n",
              "</table>\n",
              "<p>5 rows × 784 columns</p>\n",
              "</div>"
            ],
            "text/plain": [
              "   pixel0  pixel1  pixel2  pixel3  ...  pixel780  pixel781  pixel782  pixel783\n",
              "0       0       0       0       0  ...         0         0         0         0\n",
              "1       0       0       0       0  ...         0         0         0         0\n",
              "2       0       0       0       0  ...         0         0         0         0\n",
              "3       0       0       0       0  ...         0         0         0         0\n",
              "4       0       0       0       0  ...         0         0         0         0\n",
              "\n",
              "[5 rows x 784 columns]"
            ]
          },
          "metadata": {},
          "execution_count": 26
        }
      ]
    },
    {
      "cell_type": "code",
      "metadata": {
        "colab": {
          "base_uri": "https://localhost:8080/"
        },
        "id": "vKB88Bq-xT3F",
        "outputId": "bc736006-0731-4594-d505-67611ec9584e"
      },
      "source": [
        "y.value_counts()"
      ],
      "execution_count": null,
      "outputs": [
        {
          "output_type": "execute_result",
          "data": {
            "text/plain": [
              "1    4684\n",
              "7    4401\n",
              "3    4351\n",
              "9    4188\n",
              "2    4177\n",
              "6    4137\n",
              "0    4132\n",
              "4    4072\n",
              "8    4063\n",
              "5    3795\n",
              "Name: label, dtype: int64"
            ]
          },
          "metadata": {},
          "execution_count": 57
        }
      ]
    },
    {
      "cell_type": "code",
      "metadata": {
        "id": "1SiLJ4OIxVIf"
      },
      "source": [
        "from sklearn.ensemble import RandomForestClassifier\n",
        "from sklearn.metrics import accuracy_score\n",
        "model = RandomForestClassifier()\n",
        "X_train, X_test, y_train, y_test = train_test_split(X, y, test_size=0.8, random_state=1234)"
      ],
      "execution_count": null,
      "outputs": []
    },
    {
      "cell_type": "code",
      "metadata": {
        "colab": {
          "base_uri": "https://localhost:8080/"
        },
        "id": "CdaJ5AdTxemA",
        "outputId": "e73feeb9-bc34-4d59-cabb-60a3f9589aea"
      },
      "source": [
        "# number of trees used\n",
        "print('Number of Trees used : ', model.n_estimators)"
      ],
      "execution_count": null,
      "outputs": [
        {
          "output_type": "stream",
          "name": "stdout",
          "text": [
            "Number of Trees used :  100\n"
          ]
        }
      ]
    },
    {
      "cell_type": "code",
      "metadata": {
        "colab": {
          "base_uri": "https://localhost:8080/"
        },
        "id": "CDGLbJOrxhr5",
        "outputId": "f9aebddc-c1a2-4f16-9bdc-2cb8fbb78f02"
      },
      "source": [
        "model.fit(X_train,y_train)"
      ],
      "execution_count": null,
      "outputs": [
        {
          "output_type": "execute_result",
          "data": {
            "text/plain": [
              "RandomForestClassifier()"
            ]
          },
          "metadata": {},
          "execution_count": 33
        }
      ]
    },
    {
      "cell_type": "code",
      "metadata": {
        "colab": {
          "base_uri": "https://localhost:8080/"
        },
        "id": "v34uQgXuxu1-",
        "outputId": "1234bc17-8583-468e-81e6-76eea99d68a8"
      },
      "source": [
        "predict= model.predict(X)\n",
        "predict"
      ],
      "execution_count": null,
      "outputs": [
        {
          "output_type": "execute_result",
          "data": {
            "text/plain": [
              "array([1, 0, 1, ..., 7, 6, 9])"
            ]
          },
          "metadata": {},
          "execution_count": 34
        }
      ]
    },
    {
      "cell_type": "code",
      "metadata": {
        "colab": {
          "base_uri": "https://localhost:8080/"
        },
        "id": "OOTnmp8qyCp4",
        "outputId": "da7278a3-1411-4afd-ed0a-a1285172415d"
      },
      "source": [
        "from sklearn.metrics import accuracy_score\n",
        "trainaccuracy= accuracy_score(y_test, model.predict(X_test))\n",
        "trainaccuracy\n",
        "print(\"Train Data Accuracy    :{} %\".format(round((trainaccuracy*100),2)))"
      ],
      "execution_count": null,
      "outputs": [
        {
          "output_type": "stream",
          "name": "stdout",
          "text": [
            "Train Data Accuracy    :94.7 %\n"
          ]
        }
      ]
    },
    {
      "cell_type": "code",
      "metadata": {
        "colab": {
          "base_uri": "https://localhost:8080/"
        },
        "id": "xlJwpI8Fxv1e",
        "outputId": "c8028a5e-f6e0-4b3a-fe69-07427f30f3dd"
      },
      "source": [
        "cm= metrics.confusion_matrix(y_test,model.predict(X_test))\n",
        "cm"
      ],
      "execution_count": null,
      "outputs": [
        {
          "output_type": "execute_result",
          "data": {
            "text/plain": [
              "array([[3271,    0,    4,    3,    4,    8,   28,    0,   27,    3],\n",
              "       [   0, 3674,   19,   14,    5,    6,    7,    8,    6,    4],\n",
              "       [  23,    9, 3136,   29,   26,    4,   26,   37,   37,    8],\n",
              "       [  12,   17,   63, 3207,    4,   78,    8,   33,   50,   22],\n",
              "       [   5,    8,   10,    0, 3088,    3,   20,    5,   17,   96],\n",
              "       [  23,   13,    7,   60,   16, 2843,   31,    5,   28,   25],\n",
              "       [  26,    6,   13,    0,   10,   29, 3195,    0,   14,    0],\n",
              "       [   3,   16,   48,    5,   29,    2,    0, 3315,   16,   95],\n",
              "       [   5,   30,   18,   61,   13,   29,   24,    5, 2981,   50],\n",
              "       [  17,    7,    8,   56,   54,   15,    2,   38,   33, 3109]])"
            ]
          },
          "metadata": {},
          "execution_count": 124
        }
      ]
    },
    {
      "cell_type": "code",
      "metadata": {
        "colab": {
          "base_uri": "https://localhost:8080/",
          "height": 526
        },
        "id": "ia2auNZJx-0R",
        "outputId": "c161803b-61c4-4e09-d745-98cff521efa3"
      },
      "source": [
        "plt.figure(figsize=(9,9))\n",
        "plt.imshow(cm,cmap='rainbow_r')\n",
        "plt.title(\"Confusion Matrix for Random Forest\")\n",
        "plt.xticks(np.arange(10))\n",
        "plt.yticks(np.arange(10))\n",
        "plt.ylabel('Actual Label')\n",
        "plt.xlabel('Predicted Label')\n",
        "plt.colorbar()\n",
        "width,height = cm.shape\n",
        "for x in range(width):\n",
        "    for i in range(height):\n",
        "        plt.annotate(str(cm[x][i]),xy=(i,x),horizontalalignment='center',verticalalignment='center')\n",
        "plt.show()"
      ],
      "execution_count": null,
      "outputs": [
        {
          "output_type": "display_data",
          "data": {
            "image/png": "[encoded data removed]",
            "text/plain": [
              "<Figure size 648x648 with 2 Axes>"
            ]
          },
          "metadata": {
            "needs_background": "light"
          }
        }
      ]
    },
    {
      "cell_type": "markdown",
      "metadata": {
        "id": "asBl2iuZ0l6R"
      },
      "source": [
        "This is overfitted, let's do hyper-parameter tuning\n"
      ]
    },
    {
      "cell_type": "code",
      "metadata": {
        "id": "OnoWSM4G0v89"
      },
      "source": [
        "from sklearn.model_selection import GridSearchCV\n"
      ],
      "execution_count": null,
      "outputs": []
    },
    {
      "cell_type": "code",
      "metadata": {
        "id": "JqVMGp5G3WVx"
      },
      "source": [
        "rand_params = {\n",
        "    'max_depth' : range(1,21,5),\n",
        "    'min_samples_leaf' : range(1, 51, 10),\n",
        "    'max_features' : range(1,5,2),\n",
        "    'n_estimators' : range (80, 161, 20)\n",
        "    }\n",
        "rand_rf = RandomForestClassifier(random_state=42, n_jobs=-1)\n",
        "rand_rf_pca = RandomForestClassifier(random_state=42, n_jobs=-1)\n",
        "\n",
        "rf_rand = RandomizedSearchCV(rand_rf, param_distributions=rand_params, cv=5, scoring='accuracy', verbose=3, random_state=0)\n",
        "rf_rand_pca = RandomizedSearchCV(rand_rf_pca, param_distributions=rand_params, cv=5, scoring='accuracy', verbose=3, random_state=0)\n"
      ],
      "execution_count": null,
      "outputs": []
    },
    {
      "cell_type": "code",
      "metadata": {
        "colab": {
          "base_uri": "https://localhost:8080/"
        },
        "id": "uHH7GZQW4j_3",
        "outputId": "26a22f5a-7346-4c79-8625-3c5b4d4d1a57"
      },
      "source": [
        "rf_rand.fit(X_train, y_train)\n",
        "rf_rand_pca.fit(X_train_pca, y_train)"
      ],
      "execution_count": null,
      "outputs": [
        {
          "output_type": "stream",
          "name": "stdout",
          "text": [
            "Fitting 5 folds for each of 10 candidates, totalling 50 fits\n",
            "[CV 1/5] END max_depth=1, max_features=1, min_samples_leaf=31, n_estimators=140;, score=0.516 total time=   0.8s\n",
            "[CV 2/5] END max_depth=1, max_features=1, min_samples_leaf=31, n_estimators=140;, score=0.511 total time=   0.6s\n",
            "[CV 3/5] END max_depth=1, max_features=1, min_samples_leaf=31, n_estimators=140;, score=0.521 total time=   0.7s\n",
            "[CV 4/5] END max_depth=1, max_features=1, min_samples_leaf=31, n_estimators=140;, score=0.508 total time=   0.6s\n",
            "[CV 5/5] END max_depth=1, max_features=1, min_samples_leaf=31, n_estimators=140;, score=0.516 total time=   0.7s\n",
            "[CV 1/5] END max_depth=16, max_features=1, min_samples_leaf=41, n_estimators=80;, score=0.752 total time=   0.6s\n",
            "[CV 2/5] END max_depth=16, max_features=1, min_samples_leaf=41, n_estimators=80;, score=0.754 total time=   0.5s\n",
            "[CV 3/5] END max_depth=16, max_features=1, min_samples_leaf=41, n_estimators=80;, score=0.734 total time=   0.6s\n",
            "[CV 4/5] END max_depth=16, max_features=1, min_samples_leaf=41, n_estimators=80;, score=0.735 total time=   0.6s\n",
            "[CV 5/5] END max_depth=16, max_features=1, min_samples_leaf=41, n_estimators=80;, score=0.718 total time=   0.6s\n",
            "[CV 1/5] END max_depth=11, max_features=1, min_samples_leaf=11, n_estimators=120;, score=0.820 total time=   0.8s\n",
            "[CV 2/5] END max_depth=11, max_features=1, min_samples_leaf=11, n_estimators=120;, score=0.806 total time=   0.8s\n",
            "[CV 3/5] END max_depth=11, max_features=1, min_samples_leaf=11, n_estimators=120;, score=0.820 total time=   0.8s\n",
            "[CV 4/5] END max_depth=11, max_features=1, min_samples_leaf=11, n_estimators=120;, score=0.811 total time=   0.8s\n",
            "[CV 5/5] END max_depth=11, max_features=1, min_samples_leaf=11, n_estimators=120;, score=0.795 total time=   0.7s\n",
            "[CV 1/5] END max_depth=6, max_features=3, min_samples_leaf=41, n_estimators=140;, score=0.841 total time=   0.9s\n",
            "[CV 2/5] END max_depth=6, max_features=3, min_samples_leaf=41, n_estimators=140;, score=0.824 total time=   0.8s\n",
            "[CV 3/5] END max_depth=6, max_features=3, min_samples_leaf=41, n_estimators=140;, score=0.834 total time=   0.9s\n",
            "[CV 4/5] END max_depth=6, max_features=3, min_samples_leaf=41, n_estimators=140;, score=0.830 total time=   0.9s\n",
            "[CV 5/5] END max_depth=6, max_features=3, min_samples_leaf=41, n_estimators=140;, score=0.811 total time=   0.9s\n",
            "[CV 1/5] END max_depth=16, max_features=3, min_samples_leaf=1, n_estimators=120;, score=0.940 total time=   1.3s\n",
            "[CV 2/5] END max_depth=16, max_features=3, min_samples_leaf=1, n_estimators=120;, score=0.921 total time=   1.4s\n",
            "[CV 3/5] END max_depth=16, max_features=3, min_samples_leaf=1, n_estimators=120;, score=0.931 total time=   1.6s\n",
            "[CV 4/5] END max_depth=16, max_features=3, min_samples_leaf=1, n_estimators=120;, score=0.932 total time=   1.4s\n",
            "[CV 5/5] END max_depth=16, max_features=3, min_samples_leaf=1, n_estimators=120;, score=0.934 total time=   1.4s\n",
            "[CV 1/5] END max_depth=16, max_features=3, min_samples_leaf=11, n_estimators=120;, score=0.882 total time=   0.9s\n",
            "[CV 2/5] END max_depth=16, max_features=3, min_samples_leaf=11, n_estimators=120;, score=0.879 total time=   0.9s\n",
            "[CV 3/5] END max_depth=16, max_features=3, min_samples_leaf=11, n_estimators=120;, score=0.882 total time=   0.9s\n",
            "[CV 4/5] END max_depth=16, max_features=3, min_samples_leaf=11, n_estimators=120;, score=0.886 total time=   1.1s\n",
            "[CV 5/5] END max_depth=16, max_features=3, min_samples_leaf=11, n_estimators=120;, score=0.871 total time=   0.9s\n",
            "[CV 1/5] END max_depth=1, max_features=1, min_samples_leaf=11, n_estimators=80;, score=0.495 total time=   0.6s\n",
            "[CV 2/5] END max_depth=1, max_features=1, min_samples_leaf=11, n_estimators=80;, score=0.471 total time=   0.6s\n",
            "[CV 3/5] END max_depth=1, max_features=1, min_samples_leaf=11, n_estimators=80;, score=0.498 total time=   0.5s\n",
            "[CV 4/5] END max_depth=1, max_features=1, min_samples_leaf=11, n_estimators=80;, score=0.488 total time=   0.5s\n",
            "[CV 5/5] END max_depth=1, max_features=1, min_samples_leaf=11, n_estimators=80;, score=0.491 total time=   0.6s\n",
            "[CV 1/5] END max_depth=11, max_features=3, min_samples_leaf=41, n_estimators=100;, score=0.843 total time=   0.7s\n",
            "[CV 2/5] END max_depth=11, max_features=3, min_samples_leaf=41, n_estimators=100;, score=0.833 total time=   0.7s\n",
            "[CV 3/5] END max_depth=11, max_features=3, min_samples_leaf=41, n_estimators=100;, score=0.838 total time=   0.6s\n",
            "[CV 4/5] END max_depth=11, max_features=3, min_samples_leaf=41, n_estimators=100;, score=0.851 total time=   0.7s\n",
            "[CV 5/5] END max_depth=11, max_features=3, min_samples_leaf=41, n_estimators=100;, score=0.824 total time=   0.7s\n",
            "[CV 1/5] END max_depth=1, max_features=1, min_samples_leaf=21, n_estimators=120;, score=0.518 total time=   0.7s\n",
            "[CV 2/5] END max_depth=1, max_features=1, min_samples_leaf=21, n_estimators=120;, score=0.509 total time=   0.7s\n",
            "[CV 3/5] END max_depth=1, max_features=1, min_samples_leaf=21, n_estimators=120;, score=0.512 total time=   0.6s\n",
            "[CV 4/5] END max_depth=1, max_features=1, min_samples_leaf=21, n_estimators=120;, score=0.501 total time=   0.7s\n",
            "[CV 5/5] END max_depth=1, max_features=1, min_samples_leaf=21, n_estimators=120;, score=0.513 total time=   0.7s\n",
            "[CV 1/5] END max_depth=16, max_features=1, min_samples_leaf=1, n_estimators=120;, score=0.922 total time=   1.2s\n",
            "[CV 2/5] END max_depth=16, max_features=1, min_samples_leaf=1, n_estimators=120;, score=0.912 total time=   1.2s\n",
            "[CV 3/5] END max_depth=16, max_features=1, min_samples_leaf=1, n_estimators=120;, score=0.915 total time=   1.1s\n",
            "[CV 4/5] END max_depth=16, max_features=1, min_samples_leaf=1, n_estimators=120;, score=0.913 total time=   1.1s\n",
            "[CV 5/5] END max_depth=16, max_features=1, min_samples_leaf=1, n_estimators=120;, score=0.910 total time=   1.1s\n",
            "Fitting 5 folds for each of 10 candidates, totalling 50 fits\n",
            "[CV 1/5] END max_depth=1, max_features=1, min_samples_leaf=31, n_estimators=140;, score=0.574 total time=   0.6s\n",
            "[CV 2/5] END max_depth=1, max_features=1, min_samples_leaf=31, n_estimators=140;, score=0.544 total time=   0.6s\n",
            "[CV 3/5] END max_depth=1, max_features=1, min_samples_leaf=31, n_estimators=140;, score=0.562 total time=   0.6s\n",
            "[CV 4/5] END max_depth=1, max_features=1, min_samples_leaf=31, n_estimators=140;, score=0.540 total time=   0.6s\n",
            "[CV 5/5] END max_depth=1, max_features=1, min_samples_leaf=31, n_estimators=140;, score=0.563 total time=   0.6s\n",
            "[CV 1/5] END max_depth=16, max_features=1, min_samples_leaf=41, n_estimators=80;, score=0.861 total time=   0.6s\n",
            "[CV 2/5] END max_depth=16, max_features=1, min_samples_leaf=41, n_estimators=80;, score=0.858 total time=   0.7s\n",
            "[CV 3/5] END max_depth=16, max_features=1, min_samples_leaf=41, n_estimators=80;, score=0.868 total time=   0.6s\n",
            "[CV 4/5] END max_depth=16, max_features=1, min_samples_leaf=41, n_estimators=80;, score=0.864 total time=   0.7s\n",
            "[CV 5/5] END max_depth=16, max_features=1, min_samples_leaf=41, n_estimators=80;, score=0.848 total time=   0.7s\n",
            "[CV 1/5] END max_depth=11, max_features=1, min_samples_leaf=11, n_estimators=120;, score=0.897 total time=   1.0s\n",
            "[CV 2/5] END max_depth=11, max_features=1, min_samples_leaf=11, n_estimators=120;, score=0.880 total time=   1.0s\n",
            "[CV 3/5] END max_depth=11, max_features=1, min_samples_leaf=11, n_estimators=120;, score=0.895 total time=   1.0s\n",
            "[CV 4/5] END max_depth=11, max_features=1, min_samples_leaf=11, n_estimators=120;, score=0.900 total time=   1.0s\n",
            "[CV 5/5] END max_depth=11, max_features=1, min_samples_leaf=11, n_estimators=120;, score=0.879 total time=   1.0s\n",
            "[CV 1/5] END max_depth=6, max_features=3, min_samples_leaf=41, n_estimators=140;, score=0.835 total time=   1.5s\n",
            "[CV 2/5] END max_depth=6, max_features=3, min_samples_leaf=41, n_estimators=140;, score=0.810 total time=   1.5s\n",
            "[CV 3/5] END max_depth=6, max_features=3, min_samples_leaf=41, n_estimators=140;, score=0.829 total time=   1.5s\n",
            "[CV 4/5] END max_depth=6, max_features=3, min_samples_leaf=41, n_estimators=140;, score=0.823 total time=   1.5s\n",
            "[CV 5/5] END max_depth=6, max_features=3, min_samples_leaf=41, n_estimators=140;, score=0.799 total time=   1.5s\n",
            "[CV 1/5] END max_depth=16, max_features=3, min_samples_leaf=1, n_estimators=120;, score=0.932 total time=   2.2s\n",
            "[CV 2/5] END max_depth=16, max_features=3, min_samples_leaf=1, n_estimators=120;, score=0.914 total time=   2.2s\n",
            "[CV 3/5] END max_depth=16, max_features=3, min_samples_leaf=1, n_estimators=120;, score=0.920 total time=   2.2s\n",
            "[CV 4/5] END max_depth=16, max_features=3, min_samples_leaf=1, n_estimators=120;, score=0.927 total time=   2.2s\n",
            "[CV 5/5] END max_depth=16, max_features=3, min_samples_leaf=1, n_estimators=120;, score=0.915 total time=   2.2s\n",
            "[CV 1/5] END max_depth=16, max_features=3, min_samples_leaf=11, n_estimators=120;, score=0.900 total time=   1.8s\n",
            "[CV 2/5] END max_depth=16, max_features=3, min_samples_leaf=11, n_estimators=120;, score=0.891 total time=   1.8s\n",
            "[CV 3/5] END max_depth=16, max_features=3, min_samples_leaf=11, n_estimators=120;, score=0.898 total time=   1.9s\n",
            "[CV 4/5] END max_depth=16, max_features=3, min_samples_leaf=11, n_estimators=120;, score=0.905 total time=   1.8s\n",
            "[CV 5/5] END max_depth=16, max_features=3, min_samples_leaf=11, n_estimators=120;, score=0.880 total time=   1.8s\n",
            "[CV 1/5] END max_depth=1, max_features=1, min_samples_leaf=11, n_estimators=80;, score=0.574 total time=   0.5s\n",
            "[CV 2/5] END max_depth=1, max_features=1, min_samples_leaf=11, n_estimators=80;, score=0.558 total time=   0.5s\n",
            "[CV 3/5] END max_depth=1, max_features=1, min_samples_leaf=11, n_estimators=80;, score=0.581 total time=   0.4s\n",
            "[CV 4/5] END max_depth=1, max_features=1, min_samples_leaf=11, n_estimators=80;, score=0.555 total time=   0.4s\n",
            "[CV 5/5] END max_depth=1, max_features=1, min_samples_leaf=11, n_estimators=80;, score=0.562 total time=   0.5s\n",
            "[CV 1/5] END max_depth=11, max_features=3, min_samples_leaf=41, n_estimators=100;, score=0.852 total time=   1.3s\n",
            "[CV 2/5] END max_depth=11, max_features=3, min_samples_leaf=41, n_estimators=100;, score=0.846 total time=   1.3s\n",
            "[CV 3/5] END max_depth=11, max_features=3, min_samples_leaf=41, n_estimators=100;, score=0.851 total time=   1.3s\n",
            "[CV 4/5] END max_depth=11, max_features=3, min_samples_leaf=41, n_estimators=100;, score=0.860 total time=   1.3s\n",
            "[CV 5/5] END max_depth=11, max_features=3, min_samples_leaf=41, n_estimators=100;, score=0.834 total time=   1.3s\n",
            "[CV 1/5] END max_depth=1, max_features=1, min_samples_leaf=21, n_estimators=120;, score=0.575 total time=   0.6s\n",
            "[CV 2/5] END max_depth=1, max_features=1, min_samples_leaf=21, n_estimators=120;, score=0.544 total time=   0.6s\n",
            "[CV 3/5] END max_depth=1, max_features=1, min_samples_leaf=21, n_estimators=120;, score=0.574 total time=   0.6s\n",
            "[CV 4/5] END max_depth=1, max_features=1, min_samples_leaf=21, n_estimators=120;, score=0.547 total time=   0.6s\n",
            "[CV 5/5] END max_depth=1, max_features=1, min_samples_leaf=21, n_estimators=120;, score=0.571 total time=   0.6s\n",
            "[CV 1/5] END max_depth=16, max_features=1, min_samples_leaf=1, n_estimators=120;, score=0.925 total time=   1.3s\n",
            "[CV 2/5] END max_depth=16, max_features=1, min_samples_leaf=1, n_estimators=120;, score=0.908 total time=   1.3s\n",
            "[CV 3/5] END max_depth=16, max_features=1, min_samples_leaf=1, n_estimators=120;, score=0.917 total time=   1.3s\n",
            "[CV 4/5] END max_depth=16, max_features=1, min_samples_leaf=1, n_estimators=120;, score=0.931 total time=   1.3s\n",
            "[CV 5/5] END max_depth=16, max_features=1, min_samples_leaf=1, n_estimators=120;, score=0.914 total time=   1.2s\n"
          ]
        },
        {
          "output_type": "execute_result",
          "data": {
            "text/plain": [
              "RandomizedSearchCV(cv=5,\n",
              "                   estimator=RandomForestClassifier(n_jobs=-1, random_state=42),\n",
              "                   param_distributions={'max_depth': range(1, 21, 5),\n",
              "                                        'max_features': range(1, 5, 2),\n",
              "                                        'min_samples_leaf': range(1, 51, 10),\n",
              "                                        'n_estimators': range(80, 161, 20)},\n",
              "                   random_state=0, scoring='accuracy', verbose=3)"
            ]
          },
          "metadata": {},
          "execution_count": 57
        }
      ]
    },
    {
      "cell_type": "code",
      "metadata": {
        "colab": {
          "base_uri": "https://localhost:8080/"
        },
        "id": "jdPpS3By55f1",
        "outputId": "1dbbaf8a-b579-4c92-9504-0d6811f52125"
      },
      "source": [
        "rf_rand.best_estimator_"
      ],
      "execution_count": null,
      "outputs": [
        {
          "output_type": "execute_result",
          "data": {
            "text/plain": [
              "RandomForestClassifier(max_depth=16, max_features=3, n_estimators=120,\n",
              "                       n_jobs=-1, random_state=42)"
            ]
          },
          "metadata": {},
          "execution_count": 63
        }
      ]
    },
    {
      "cell_type": "code",
      "metadata": {
        "colab": {
          "base_uri": "https://localhost:8080/"
        },
        "id": "K5Uez4496AbT",
        "outputId": "4dbcf652-4747-4e9d-d71d-3204965ee5a9"
      },
      "source": [
        "rf_rand_pca.best_estimator_"
      ],
      "execution_count": null,
      "outputs": [
        {
          "output_type": "execute_result",
          "data": {
            "text/plain": [
              "RandomForestClassifier(max_depth=16, max_features=3, n_estimators=120,\n",
              "                       n_jobs=-1, random_state=42)"
            ]
          },
          "metadata": {},
          "execution_count": 60
        }
      ]
    },
    {
      "cell_type": "code",
      "metadata": {
        "id": "YhzzTn_e0x3R"
      },
      "source": [
        "classifier_rf = RandomForestClassifier(random_state=42, n_jobs=-1)\n",
        "classifier_rf_pca = RandomForestClassifier(random_state=42, n_jobs=-1)\n"
      ],
      "execution_count": null,
      "outputs": []
    },
    {
      "cell_type": "code",
      "metadata": {
        "id": "q-LvLkhG01Xm"
      },
      "source": [
        "# Create the parameter grid based on the results of random search \n",
        "params = {\n",
        "    'max_depth': [14,15,16,17,18],\n",
        "    'max_features': [2,3,4],\n",
        "    'n_estimators': [110, 120, 130, 140, 150]\n",
        "}"
      ],
      "execution_count": null,
      "outputs": []
    },
    {
      "cell_type": "code",
      "metadata": {
        "id": "oBM51PbK02mp"
      },
      "source": [
        "# Instantiate the grid search model\n",
        "grid_search = GridSearchCV(estimator=classifier_rf, param_grid=params, \n",
        "                          cv=4, n_jobs=-1, verbose=3, scoring = \"accuracy\")\n",
        "\n",
        "grid_search_pca = GridSearchCV(estimator=classifier_rf_pca, param_grid=params, \n",
        "                          cv=4, n_jobs=-1, verbose=3, scoring = \"accuracy\")"
      ],
      "execution_count": null,
      "outputs": []
    },
    {
      "cell_type": "code",
      "metadata": {
        "colab": {
          "base_uri": "https://localhost:8080/"
        },
        "id": "LpP5riz608yr",
        "outputId": "e6e6f116-4374-4234-fc98-fc73b97a679f"
      },
      "source": [
        "grid_search.fit(X_train,y_train)\n",
        "grid_search_pca.fit(X_train_pca, y_train)\n"
      ],
      "execution_count": null,
      "outputs": [
        {
          "output_type": "stream",
          "name": "stdout",
          "text": [
            "Fitting 4 folds for each of 75 candidates, totalling 300 fits\n",
            "Fitting 4 folds for each of 75 candidates, totalling 300 fits\n"
          ]
        },
        {
          "output_type": "execute_result",
          "data": {
            "text/plain": [
              "GridSearchCV(cv=4, estimator=RandomForestClassifier(n_jobs=-1, random_state=42),\n",
              "             n_jobs=-1,\n",
              "             param_grid={'max_depth': [14, 15, 16, 17, 18],\n",
              "                         'max_features': [2, 3, 4],\n",
              "                         'n_estimators': [110, 120, 130, 140, 150]},\n",
              "             scoring='accuracy', verbose=3)"
            ]
          },
          "metadata": {},
          "execution_count": 93
        }
      ]
    },
    {
      "cell_type": "code",
      "metadata": {
        "id": "RYccoBCx1AUa",
        "colab": {
          "base_uri": "https://localhost:8080/"
        },
        "outputId": "d5b0fe45-bafc-4834-b743-112ca116ff8b"
      },
      "source": [
        "rf_best = grid_search.best_estimator_\n",
        "rf_best_pca = grid_search_pca.best_estimator_\n",
        "grid_search.best_score_\n",
        "grid_search_pca.best_score_"
      ],
      "execution_count": null,
      "outputs": [
        {
          "output_type": "execute_result",
          "data": {
            "text/plain": [
              "0.9253571428571428"
            ]
          },
          "metadata": {},
          "execution_count": 122
        }
      ]
    },
    {
      "cell_type": "code",
      "metadata": {
        "colab": {
          "base_uri": "https://localhost:8080/"
        },
        "id": "ygsi2wGj1BMa",
        "outputId": "c54b51a8-4edd-4763-f339-31e78217994f"
      },
      "source": [
        "rf_best"
      ],
      "execution_count": null,
      "outputs": [
        {
          "output_type": "execute_result",
          "data": {
            "text/plain": [
              "RandomForestClassifier(max_depth=17, max_features=4, n_estimators=130,\n",
              "                       n_jobs=-1, random_state=42)"
            ]
          },
          "metadata": {},
          "execution_count": 123
        }
      ]
    },
    {
      "cell_type": "code",
      "metadata": {
        "id": "YC3gbzDabzDX",
        "colab": {
          "base_uri": "https://localhost:8080/"
        },
        "outputId": "423a36ff-11bc-4ca5-af8d-5158f3bc8472"
      },
      "source": [
        "rf_best_pca"
      ],
      "execution_count": null,
      "outputs": [
        {
          "output_type": "execute_result",
          "data": {
            "text/plain": [
              "RandomForestClassifier(max_depth=17, max_features=2, n_estimators=130,\n",
              "                       n_jobs=-1, random_state=42)"
            ]
          },
          "metadata": {},
          "execution_count": 98
        }
      ]
    },
    {
      "cell_type": "code",
      "metadata": {
        "id": "_EHkAFDoEBbv"
      },
      "source": [
        "# Create the parameter grid based on the results of random search \n",
        "params = {\n",
        "    'n_estimators': [110, 120, 130, 140, 150]\n",
        "}"
      ],
      "execution_count": null,
      "outputs": []
    },
    {
      "cell_type": "code",
      "metadata": {
        "id": "BWXBlmXEEGL0"
      },
      "source": [
        "# Instantiate the grid search model\n",
        "grid_search_est = GridSearchCV(estimator=classifier_rf, param_grid=params, \n",
        "                          cv=4, n_jobs=-1, verbose=3, scoring = \"accuracy\")\n",
        "\n",
        "grid_search_pca_est = GridSearchCV(estimator=classifier_rf_pca, param_grid=params, \n",
        "                          cv=4, n_jobs=-1, verbose=3, scoring = \"accuracy\")"
      ],
      "execution_count": null,
      "outputs": []
    },
    {
      "cell_type": "code",
      "metadata": {
        "colab": {
          "base_uri": "https://localhost:8080/"
        },
        "id": "-Zt5IJtpENyw",
        "outputId": "73d7457c-2e89-4ec7-a1dd-04c8cd6bac4a"
      },
      "source": [
        "grid_search_est.fit(X_train,y_train)\n",
        "grid_search_pca_est.fit(X_train_pca, y_train)"
      ],
      "execution_count": null,
      "outputs": [
        {
          "output_type": "stream",
          "name": "stdout",
          "text": [
            "Fitting 4 folds for each of 5 candidates, totalling 20 fits\n",
            "Fitting 4 folds for each of 5 candidates, totalling 20 fits\n"
          ]
        },
        {
          "output_type": "execute_result",
          "data": {
            "text/plain": [
              "GridSearchCV(cv=4, estimator=RandomForestClassifier(n_jobs=-1, random_state=42),\n",
              "             n_jobs=-1, param_grid={'n_estimators': [110, 120, 130, 140, 150]},\n",
              "             scoring='accuracy', verbose=3)"
            ]
          },
          "metadata": {},
          "execution_count": 101
        }
      ]
    },
    {
      "cell_type": "code",
      "metadata": {
        "id": "fJz9W-uSH5uM"
      },
      "source": [
        "grid_search_est.best_score_\n",
        "rf_best = grid_search_est.best_estimator_"
      ],
      "execution_count": null,
      "outputs": []
    },
    {
      "cell_type": "code",
      "metadata": {
        "colab": {
          "base_uri": "https://localhost:8080/"
        },
        "id": "CvqkpsBnH9Gm",
        "outputId": "86a4d11d-ff29-4f52-bc17-d472b796a6e7"
      },
      "source": [
        "grid_search_pca_est.best_score_"
      ],
      "execution_count": null,
      "outputs": [
        {
          "output_type": "execute_result",
          "data": {
            "text/plain": [
              "0.9178571428571428"
            ]
          },
          "metadata": {},
          "execution_count": 103
        }
      ]
    },
    {
      "cell_type": "code",
      "metadata": {
        "colab": {
          "base_uri": "https://localhost:8080/"
        },
        "id": "dx9ZYrSN1GEu",
        "outputId": "7a3d529b-fee5-4de5-96be-eca5755ace6c"
      },
      "source": [
        "cm= metrics.confusion_matrix(y_test,rf_best.predict(X_test))\n",
        "cm"
      ],
      "execution_count": null,
      "outputs": [
        {
          "output_type": "execute_result",
          "data": {
            "text/plain": [
              "array([[3276,    0,    4,    1,    4,   10,   24,    1,   26,    2],\n",
              "       [   0, 3670,   20,   11,    5,    4,   11,   10,    7,    5],\n",
              "       [  24,    8, 3138,   35,   23,    0,   29,   35,   36,    7],\n",
              "       [   9,   11,   65, 3222,    5,   81,    7,   27,   45,   22],\n",
              "       [   5,    6,    9,    0, 3097,    1,   25,    5,   13,   91],\n",
              "       [  24,   17,    6,   70,   10, 2832,   34,    6,   26,   26],\n",
              "       [  25,    6,    8,    0,    6,   27, 3203,    0,   17,    1],\n",
              "       [   5,   15,   54,    5,   29,    0,    0, 3317,   13,   91],\n",
              "       [   8,   26,   19,   45,   15,   28,   17,    7, 2995,   56],\n",
              "       [  18,    9,    7,   51,   62,   11,    3,   29,   38, 3111]])"
            ]
          },
          "metadata": {},
          "execution_count": 130
        }
      ]
    },
    {
      "cell_type": "code",
      "metadata": {
        "colab": {
          "base_uri": "https://localhost:8080/",
          "height": 526
        },
        "id": "zuy12kOC1HB3",
        "outputId": "61181fa9-373c-4bde-8708-359968b138eb"
      },
      "source": [
        "plt.figure(figsize=(9,9))\n",
        "plt.imshow(cm,cmap='rainbow_r')\n",
        "plt.title(\"Confusion Matrix for Random Forest\")\n",
        "plt.xticks(np.arange(10))\n",
        "plt.yticks(np.arange(10))\n",
        "plt.ylabel('Actual Label')\n",
        "plt.xlabel('Predicted Label')\n",
        "plt.colorbar()\n",
        "width,height = cm.shape\n",
        "for x in range(width):\n",
        "    for y in range(height):\n",
        "        plt.annotate(str(cm[x][y]),xy=(y,x),horizontalalignment='center',verticalalignment='center')\n",
        "plt.show()"
      ],
      "execution_count": null,
      "outputs": [
        {
          "output_type": "display_data",
          "data": {
            "image/png": "[encoded data removed]",
            "text/plain": [
              "<Figure size 648x648 with 2 Axes>"
            ]
          },
          "metadata": {
            "needs_background": "light"
          }
        }
      ]
    },
    {
      "cell_type": "code",
      "metadata": {
        "id": "6l_5WkI71Oig"
      },
      "source": [
        "# predict result\n",
        "result = model.predict(X_test)\n",
        "\n",
        "\n",
        "result = pd.Series(result,name=\"Label\")"
      ],
      "execution_count": null,
      "outputs": []
    },
    {
      "cell_type": "code",
      "metadata": {
        "colab": {
          "base_uri": "https://localhost:8080/"
        },
        "id": "a5OtAb2R2zIe",
        "outputId": "3e4ae3a0-5ef0-497f-f550-a94abe8837fd"
      },
      "source": [
        "pca = PCA(n_components=20)\n",
        "pca.fit(X_train)\n",
        "\n",
        "X_train_pca = pca.transform(X_train)\n",
        "X_test_pca = pca.transform(X_test)\n",
        "\n",
        "rfc_pca = RandomForestClassifier()\n",
        "rfc_pca.fit(X_train_pca, y_train)\n",
        "\n",
        "rfc_baseline = RandomForestClassifier()\n",
        "rfc_baseline.fit(X_train, y_train)\n",
        "rfc_baseline.get_params()\n"
      ],
      "execution_count": null,
      "outputs": [
        {
          "output_type": "execute_result",
          "data": {
            "text/plain": [
              "{'bootstrap': True,\n",
              " 'ccp_alpha': 0.0,\n",
              " 'class_weight': None,\n",
              " 'criterion': 'gini',\n",
              " 'max_depth': None,\n",
              " 'max_features': 'auto',\n",
              " 'max_leaf_nodes': None,\n",
              " 'max_samples': None,\n",
              " 'min_impurity_decrease': 0.0,\n",
              " 'min_samples_leaf': 1,\n",
              " 'min_samples_split': 2,\n",
              " 'min_weight_fraction_leaf': 0.0,\n",
              " 'n_estimators': 100,\n",
              " 'n_jobs': None,\n",
              " 'oob_score': False,\n",
              " 'random_state': None,\n",
              " 'verbose': 0,\n",
              " 'warm_start': False}"
            ]
          },
          "metadata": {},
          "execution_count": 107
        }
      ]
    },
    {
      "cell_type": "code",
      "metadata": {
        "colab": {
          "base_uri": "https://localhost:8080/"
        },
        "id": "G-PZ5Sik_RUR",
        "outputId": "5041efb3-51c7-4025-d145-9036d6b9545e"
      },
      "source": [
        "rf_best.get_params()"
      ],
      "execution_count": null,
      "outputs": [
        {
          "output_type": "execute_result",
          "data": {
            "text/plain": [
              "{'bootstrap': True,\n",
              " 'ccp_alpha': 0.0,\n",
              " 'class_weight': None,\n",
              " 'criterion': 'gini',\n",
              " 'max_depth': None,\n",
              " 'max_features': 'auto',\n",
              " 'max_leaf_nodes': None,\n",
              " 'max_samples': None,\n",
              " 'min_impurity_decrease': 0.0,\n",
              " 'min_samples_leaf': 1,\n",
              " 'min_samples_split': 2,\n",
              " 'min_weight_fraction_leaf': 0.0,\n",
              " 'n_estimators': 150,\n",
              " 'n_jobs': -1,\n",
              " 'oob_score': False,\n",
              " 'random_state': 42,\n",
              " 'verbose': 0,\n",
              " 'warm_start': False}"
            ]
          },
          "metadata": {},
          "execution_count": 108
        }
      ]
    },
    {
      "cell_type": "code",
      "metadata": {
        "id": "rsWipG3N1R9v",
        "colab": {
          "base_uri": "https://localhost:8080/"
        },
        "outputId": "86d7b695-d8aa-464d-8845-d9568cd6128f"
      },
      "source": [
        "y_pred = rfc_baseline.predict(X_test)\n",
        "y_pred_pca = rfc_pca.predict(X_test_pca)\n",
        "y_pred_tuned = rf_best.predict(X_test)\n",
        "y_pred_tuned_pca = rf_best_pca.predict(X_test_pca)\n",
        "\n",
        "test_accuracy = accuracy_score(y_test, y_pred)\n",
        "test_tuned_accuracy = accuracy_score(y_test, y_pred_tuned)\n",
        "\n",
        "test_pca_accuracy = accuracy_score(y_test, y_pred_pca)\n",
        "test_tuned_pca_accuracy = accuracy_score(y_test, y_pred_tuned_pca)\n",
        "\n",
        "print(\"Baseline Random Forest accuracy score:\\t\\t\\t\\t{} %\".format(round((test_accuracy*100),2)))\n",
        "print(\"Hypertuned Param Random Forest accuracy score:\\t\\t\\t{} %\".format(round((test_tuned_accuracy*100),2)))\n",
        "print(\"Baseline Random Forest With PCA accuracy score:\\t\\t\\t{} %\".format(round((test_pca_accuracy*100),2)))\n",
        "print(\"Hypertuned Param Random Forest With PCA accuracy score:\\t\\t{} %\".format(round((test_tuned_pca_accuracy*100),2)))"
      ],
      "execution_count": null,
      "outputs": [
        {
          "output_type": "stream",
          "name": "stdout",
          "text": [
            "Baseline Random Forest accuracy score:\t\t\t\t94.71 %\n",
            "Hypertuned Param Random Forest accuracy score:\t\t\t94.82 %\n",
            "Baseline Random Forest With PCA accuracy score:\t\t\t92.09 %\n",
            "Hypertuned Param Random Forest With PCA accuracy score:\t\t92.69 %\n"
          ]
        }
      ]
    },
    {
      "cell_type": "markdown",
      "metadata": {
        "id": "LuH0OPUIA26u"
      },
      "source": [
        "#XGBoost Classifier"
      ]
    },
    {
      "cell_type": "code",
      "metadata": {
        "id": "WVzityWNA889"
      },
      "source": [
        "from xgboost.sklearn import XGBClassifier\n",
        "from sklearn.model_selection import cross_val_score\n",
        "from sklearn import metrics\n",
        "from sklearn.model_selection import GridSearchCV\n",
        "\n",
        "X_train, X_test, y_train, y_test = train_test_split(X, y, test_size=0.8, random_state=1234)"
      ],
      "execution_count": null,
      "outputs": []
    },
    {
      "cell_type": "code",
      "metadata": {
        "colab": {
          "base_uri": "https://localhost:8080/"
        },
        "id": "VMiD0UT2D_ac",
        "outputId": "cd713521-cfb0-4ddc-8ef6-14e586d365ed"
      },
      "source": [
        "xgb = XGBClassifier()\n",
        "scores = cross_val_score(xgb, X_train, y_train, cv=5)\n",
        "scores.mean()"
      ],
      "execution_count": null,
      "outputs": [
        {
          "output_type": "execute_result",
          "data": {
            "text/plain": [
              "0.9186904761904762"
            ]
          },
          "metadata": {},
          "execution_count": 5
        }
      ]
    },
    {
      "cell_type": "code",
      "metadata": {
        "colab": {
          "base_uri": "https://localhost:8080/"
        },
        "id": "smRYQt5k0DnJ",
        "outputId": "eeb2c3dc-91e5-4508-f944-63784414907d"
      },
      "source": [
        "xgb.fit(X_train, y_train)\n",
        "cm= metrics.confusion_matrix(y_test, xgb.predict(X_test))\n",
        "cm"
      ],
      "execution_count": null,
      "outputs": [
        {
          "output_type": "execute_result",
          "data": {
            "text/plain": [
              "array([[3232,    0,    8,    6,    4,   19,   25,    9,   36,    9],\n",
              "       [   1, 3658,   15,   15,    2,   16,    9,    9,   15,    3],\n",
              "       [  23,   21, 3039,   52,   36,    5,   39,   42,   61,   17],\n",
              "       [  15,   27,   70, 3114,    6,  100,   18,   37,   61,   46],\n",
              "       [   6,   12,   12,    2, 2990,    6,   19,    7,   30,  168],\n",
              "       [  35,   32,   14,   77,   23, 2729,   45,   14,   43,   39],\n",
              "       [  24,   12,    9,    0,   27,   51, 3127,    9,   34,    0],\n",
              "       [  12,   21,   50,   18,   40,   11,    0, 3239,   10,  128],\n",
              "       [   6,   57,   29,   61,   16,   39,   28,   14, 2900,   66],\n",
              "       [  16,   12,    7,   46,  100,   19,    2,   75,   34, 3028]])"
            ]
          },
          "metadata": {},
          "execution_count": 6
        }
      ]
    },
    {
      "cell_type": "code",
      "metadata": {
        "colab": {
          "base_uri": "https://localhost:8080/",
          "height": 526
        },
        "id": "TDII5EKh4TLB",
        "outputId": "59f07e37-4bb7-4f46-f094-3450a8f20bd3"
      },
      "source": [
        "plt.figure(figsize=(9,9))\n",
        "plt.imshow(cm,cmap='rainbow_r')\n",
        "plt.title(\"Confusion Matrix for XGBoost\")\n",
        "plt.xticks(np.arange(10))\n",
        "plt.yticks(np.arange(10))\n",
        "plt.ylabel('Actual Label')\n",
        "plt.xlabel('Predicted Label')\n",
        "plt.colorbar()\n",
        "width,height = cm.shape\n",
        "for x in range(width):\n",
        "    for y in range(height):\n",
        "        plt.annotate(str(cm[x][y]),xy=(y,x),horizontalalignment='center',verticalalignment='center')\n",
        "plt.show()"
      ],
      "execution_count": null,
      "outputs": [
        {
          "output_type": "display_data",
          "data": {
            "image/png": "[encoded data removed]",
            "text/plain": [
              "<Figure size 648x648 with 2 Axes>"
            ]
          },
          "metadata": {
            "needs_background": "light"
          }
        }
      ]
    },
    {
      "cell_type": "code",
      "metadata": {
        "colab": {
          "base_uri": "https://localhost:8080/"
        },
        "id": "stR80Kn0_MVV",
        "outputId": "141a5acb-853b-451a-b2ba-30aa2795967c"
      },
      "source": [
        "from sklearn.metrics import accuracy_score\n",
        "trainaccuracy= accuracy_score(y_test, xgb.predict(X_test))\n",
        "trainaccuracy\n",
        "print(\"Test Data Accuracy    :{} %\".format(round((trainaccuracy*100),2)))"
      ],
      "execution_count": null,
      "outputs": [
        {
          "output_type": "stream",
          "name": "stdout",
          "text": [
            "Test Data Accuracy    :92.43 %\n"
          ]
        }
      ]
    },
    {
      "cell_type": "code",
      "metadata": {
        "colab": {
          "base_uri": "https://localhost:8080/"
        },
        "id": "t876i5z-PzjT",
        "outputId": "05cbf5b0-40da-4326-9b9b-a090e796c85c"
      },
      "source": [
        "xgb.get_params()"
      ],
      "execution_count": null,
      "outputs": [
        {
          "output_type": "execute_result",
          "data": {
            "text/plain": [
              "{'base_score': 0.5,\n",
              " 'booster': 'gbtree',\n",
              " 'colsample_bylevel': 1,\n",
              " 'colsample_bynode': 1,\n",
              " 'colsample_bytree': 1,\n",
              " 'gamma': 0,\n",
              " 'learning_rate': 0.1,\n",
              " 'max_delta_step': 0,\n",
              " 'max_depth': 3,\n",
              " 'min_child_weight': 1,\n",
              " 'missing': None,\n",
              " 'n_estimators': 100,\n",
              " 'n_jobs': 1,\n",
              " 'nthread': None,\n",
              " 'objective': 'multi:softprob',\n",
              " 'random_state': 0,\n",
              " 'reg_alpha': 0,\n",
              " 'reg_lambda': 1,\n",
              " 'scale_pos_weight': 1,\n",
              " 'seed': None,\n",
              " 'silent': None,\n",
              " 'subsample': 1,\n",
              " 'verbosity': 1}"
            ]
          },
          "metadata": {},
          "execution_count": 9
        }
      ]
    },
    {
      "cell_type": "code",
      "metadata": {
        "colab": {
          "base_uri": "https://localhost:8080/"
        },
        "id": "dLaPK-hcYLqQ",
        "outputId": "10ff1f71-2203-4842-cdee-01cdd616ed0b"
      },
      "source": [
        "from sklearn.model_selection import RandomizedSearchCV\n",
        "params = {\n",
        "    'max_depth' : range(2, 8, 1),\n",
        "    'n_estimators' : range(60, 160, 40),\n",
        "    'learning_rate' : [0.1, 0.01, 0.05]\n",
        "}\n",
        "\n",
        "xgb_g = XGBClassifier()\n",
        "\n",
        "xgb_grid = RandomizedSearchCV(xgb_g, param_distributions=params, cv=2, scoring='accuracy', verbose=3, random_state=0)\n",
        "\n",
        "#xgb_grid = GridSearchCV(estimator=xgb_g, param_grid=params, n_jobs=-1, verbose=3, scoring='accuracy')\n",
        "\n",
        "search = xgb_grid.fit(X_train, y_train)"
      ],
      "execution_count": null,
      "outputs": [
        {
          "output_type": "stream",
          "name": "stdout",
          "text": [
            "Fitting 2 folds for each of 10 candidates, totalling 20 fits\n",
            "[CV 1/2] END learning_rate=0.05, max_depth=7, n_estimators=140;, score=0.922 total time= 4.0min\n",
            "[CV 2/2] END learning_rate=0.05, max_depth=7, n_estimators=140;, score=0.926 total time= 4.1min\n",
            "[CV 1/2] END learning_rate=0.01, max_depth=7, n_estimators=60;, score=0.881 total time= 1.7min\n",
            "[CV 2/2] END learning_rate=0.01, max_depth=7, n_estimators=60;, score=0.883 total time= 1.7min\n",
            "[CV 1/2] END learning_rate=0.05, max_depth=6, n_estimators=60;, score=0.903 total time= 1.5min\n",
            "[CV 2/2] END learning_rate=0.05, max_depth=6, n_estimators=60;, score=0.911 total time= 1.5min\n",
            "[CV 1/2] END learning_rate=0.01, max_depth=4, n_estimators=140;, score=0.864 total time= 2.3min\n",
            "[CV 2/2] END learning_rate=0.01, max_depth=4, n_estimators=140;, score=0.871 total time= 2.3min\n",
            "[CV 1/2] END learning_rate=0.1, max_depth=5, n_estimators=140;, score=0.932 total time= 2.9min\n",
            "[CV 2/2] END learning_rate=0.1, max_depth=5, n_estimators=140;, score=0.936 total time= 2.9min\n",
            "[CV 1/2] END learning_rate=0.1, max_depth=2, n_estimators=140;, score=0.902 total time= 1.3min\n",
            "[CV 2/2] END learning_rate=0.1, max_depth=2, n_estimators=140;, score=0.896 total time= 1.3min\n",
            "[CV 1/2] END learning_rate=0.01, max_depth=6, n_estimators=140;, score=0.890 total time= 3.5min\n",
            "[CV 2/2] END learning_rate=0.01, max_depth=6, n_estimators=140;, score=0.902 total time= 3.5min\n",
            "[CV 1/2] END learning_rate=0.05, max_depth=4, n_estimators=60;, score=0.890 total time= 1.0min\n",
            "[CV 2/2] END learning_rate=0.05, max_depth=4, n_estimators=60;, score=0.893 total time= 1.0min\n",
            "[CV 1/2] END learning_rate=0.05, max_depth=5, n_estimators=60;, score=0.901 total time= 1.3min\n",
            "[CV 2/2] END learning_rate=0.05, max_depth=5, n_estimators=60;, score=0.907 total time= 1.3min\n",
            "[CV 1/2] END learning_rate=0.01, max_depth=6, n_estimators=60;, score=0.874 total time= 1.5min\n",
            "[CV 2/2] END learning_rate=0.01, max_depth=6, n_estimators=60;, score=0.876 total time= 1.5min\n"
          ]
        }
      ]
    },
    {
      "cell_type": "code",
      "metadata": {
        "colab": {
          "base_uri": "https://localhost:8080/"
        },
        "id": "Nflai26lm0D9",
        "outputId": "f19b5ddd-635d-49af-977e-461796504852"
      },
      "source": [
        "search.best_estimator_"
      ],
      "execution_count": null,
      "outputs": [
        {
          "output_type": "execute_result",
          "data": {
            "text/plain": [
              "XGBClassifier(max_depth=5, n_estimators=140, objective='multi:softprob')"
            ]
          },
          "metadata": {},
          "execution_count": 50
        }
      ]
    },
    {
      "cell_type": "code",
      "metadata": {
        "colab": {
          "base_uri": "https://localhost:8080/"
        },
        "id": "2Nrr54d6mTVA",
        "outputId": "5d1eb9b8-f433-4587-f0d2-49b3ac5db36d"
      },
      "source": [
        "params = {\n",
        "    'max_depth' : range(4, 6, 1),\n",
        "    'n_estimators' : range(100, 140, 20),\n",
        "    'learning_rate' : [0.1, 0.05]\n",
        "}\n",
        "\n",
        "xgb_g = XGBClassifier(objective='multi:softprob')\n",
        "\n",
        "#xgb_grid = RandomizedSearchCV(xgb_g, param_distributions=params, cv=2, scoring='accuracy', verbose=3, random_state=0)\n",
        "\n",
        "xgb_grid = GridSearchCV(estimator=xgb_g, param_grid=params, n_jobs=-1, cv=3, verbose=1, scoring='accuracy')\n",
        "\n",
        "search = xgb_grid.fit(X_train, y_train)"
      ],
      "execution_count": null,
      "outputs": [
        {
          "output_type": "stream",
          "name": "stdout",
          "text": [
            "Fitting 3 folds for each of 8 candidates, totalling 24 fits\n"
          ]
        }
      ]
    },
    {
      "cell_type": "code",
      "metadata": {
        "id": "0i4ZBXHF0XWT",
        "colab": {
          "base_uri": "https://localhost:8080/"
        },
        "outputId": "60632cb8-0ec2-4ca8-b82e-13d2e3dae082"
      },
      "source": [
        "search.best_estimator_"
      ],
      "execution_count": null,
      "outputs": [
        {
          "output_type": "execute_result",
          "data": {
            "text/plain": [
              "XGBClassifier(max_depth=5, n_estimators=120, objective='multi:softprob')"
            ]
          },
          "metadata": {},
          "execution_count": 13
        }
      ]
    },
    {
      "cell_type": "code",
      "metadata": {
        "colab": {
          "base_uri": "https://localhost:8080/"
        },
        "id": "c4-F_P4eixFz",
        "outputId": "e20b96db-f949-4b51-825e-94cac06086aa"
      },
      "source": [
        "cm= metrics.confusion_matrix(y_test, search.best_estimator_.predict(X_test))\n",
        "cm"
      ],
      "execution_count": null,
      "outputs": [
        {
          "output_type": "execute_result",
          "data": {
            "text/plain": [
              "array([[3253,    1,    7,    6,    5,   10,   18,    5,   39,    4],\n",
              "       [   1, 3665,   14,   18,    8,    3,    6,    8,   13,    7],\n",
              "       [  21,    7, 3131,   41,   29,    0,   28,   30,   34,   14],\n",
              "       [   8,   11,   62, 3241,    7,   56,    5,   28,   44,   32],\n",
              "       [   4,    9,   11,    2, 3079,    4,   19,    6,   16,  102],\n",
              "       [  15,   20,   10,   46,    8, 2861,   30,   10,   29,   22],\n",
              "       [  16,   11,    6,    0,   17,   41, 3175,    4,   23,    0],\n",
              "       [   8,   13,   58,   16,   26,   10,    0, 3288,    8,  102],\n",
              "       [   6,   27,   21,   30,    9,   26,   24,    8, 3014,   51],\n",
              "       [  16,    7,    6,   41,   61,   18,    2,   46,   25, 3117]])"
            ]
          },
          "metadata": {},
          "execution_count": 17
        }
      ]
    },
    {
      "cell_type": "code",
      "metadata": {
        "colab": {
          "base_uri": "https://localhost:8080/",
          "height": 526
        },
        "id": "7fNvCpixi8cm",
        "outputId": "b3a4a418-2c68-497c-e11e-0d3643d01174"
      },
      "source": [
        "plt.figure(figsize=(9,9))\n",
        "plt.imshow(cm,cmap='rainbow_r')\n",
        "plt.title(\"Confusion Matrix for XGBoost\")\n",
        "plt.xticks(np.arange(10))\n",
        "plt.yticks(np.arange(10))\n",
        "plt.ylabel('Actual Label')\n",
        "plt.xlabel('Predicted Label')\n",
        "plt.colorbar()\n",
        "width,height = cm.shape\n",
        "for x in range(width):\n",
        "    for y in range(height):\n",
        "        plt.annotate(str(cm[x][y]),xy=(y,x),horizontalalignment='center',verticalalignment='center')\n",
        "plt.show()"
      ],
      "execution_count": null,
      "outputs": [
        {
          "output_type": "display_data",
          "data": {
            "image/png": "[encoded data removed]",
            "text/plain": [
              "<Figure size 648x648 with 2 Axes>"
            ]
          },
          "metadata": {
            "needs_background": "light"
          }
        }
      ]
    },
    {
      "cell_type": "code",
      "metadata": {
        "id": "Yv3X8vCg1B74",
        "colab": {
          "base_uri": "https://localhost:8080/"
        },
        "outputId": "cbd92f69-7708-4b60-c3c2-8fbf3742b652"
      },
      "source": [
        "trainaccuracy= accuracy_score(y_test, search.best_estimator_.predict(X_test))\n",
        "trainaccuracy\n",
        "print(\"Test Data Accuracy    :{} %\".format(round((trainaccuracy*100),2)))"
      ],
      "execution_count": null,
      "outputs": [
        {
          "output_type": "stream",
          "name": "stdout",
          "text": [
            "Test Data Accuracy    :94.71 %\n"
          ]
        }
      ]
    },
    {
      "cell_type": "code",
      "metadata": {
        "id": "0StPZVlM9aC2",
        "colab": {
          "base_uri": "https://localhost:8080/"
        },
        "outputId": "fc78c5d5-8f35-4bdd-9512-b2dd625b777d"
      },
      "source": [
        "pca = PCA(n_components=20)\n",
        "pca.fit(X_train)\n",
        "\n",
        "X_train_pca = pca.transform(X_train)\n",
        "X_test_pca = pca.transform(X_test)\n",
        "\n",
        "xgb_pca = XGBClassifier()\n",
        "xgb_pca.fit(X_train_pca, y_train)\n",
        "\n",
        "xgb_baseline = XGBClassifier()\n",
        "xgb_baseline.fit(X_train, y_train)\n",
        "\n",
        "xgb_pca_g = XGBClassifier(objective='multi:softprob')\n",
        "xgb_p = GridSearchCV(estimator=xgb_pca_g, param_grid=params, n_jobs=-1, cv=3, verbose=1, scoring='accuracy')\n",
        "xgb_grid_pca = xgb_p.fit(X_train_pca, y_train)"
      ],
      "execution_count": null,
      "outputs": [
        {
          "output_type": "stream",
          "name": "stdout",
          "text": [
            "Fitting 3 folds for each of 8 candidates, totalling 24 fits\n"
          ]
        }
      ]
    },
    {
      "cell_type": "code",
      "metadata": {
        "id": "xt4-Whjj-Awd",
        "colab": {
          "base_uri": "https://localhost:8080/"
        },
        "outputId": "1edc756e-30e5-4f61-e264-2891ff64cb4b"
      },
      "source": [
        "trainaccuracy= accuracy_score(y_test, xgb_baseline.predict(X_test))\n",
        "print(\"Baseline XGB Accuracy    : {} %\".format(round((trainaccuracy*100),2)))\n",
        "\n",
        "trainaccuracy= accuracy_score(y_test, xgb_pca.predict(X_test_pca))\n",
        "print(\"PCA XGB Accuracy    : {} %\".format(round((trainaccuracy*100),2)))\n",
        "\n",
        "trainaccuracy= accuracy_score(y_test, search.best_estimator_.predict(X_test))\n",
        "print(\"Tuned XGB Accuracy    : {} %\".format(round((trainaccuracy*100),2)))\n",
        "\n",
        "trainaccuracy= accuracy_score(y_test, xgb_grid_pca.best_estimator_.predict(X_test_pca))\n",
        "print(\"Tuned PCA XGB Accuracy    : {} %\".format(round((trainaccuracy*100),2)))"
      ],
      "execution_count": null,
      "outputs": [
        {
          "output_type": "stream",
          "name": "stdout",
          "text": [
            "Baseline XGB Accuracy    : 92.43 %\n",
            "PCA XGB Accuracy    : 89.47 %\n",
            "Tuned XGB Accuracy    : 94.71 %\n",
            "Tuned PCA XGB Accuracy    : 92.26 %\n"
          ]
        }
      ]
    }
  ]
}