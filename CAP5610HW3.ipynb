{
  "nbformat": 4,
  "nbformat_minor": 0,
  "metadata": {
    "colab": {
      "name": "CAP5610HW3.ipynb",
      "provenance": [],
      "authorship_tag": "ABX9TyPbO0B0t+QLwcns2ajsAwBo",
      "include_colab_link": true
    },
    "kernelspec": {
      "name": "python3",
      "display_name": "Python 3"
    },
    "language_info": {
      "name": "python"
    }
  },
  "cells": [
    {
      "cell_type": "markdown",
      "metadata": {
        "id": "view-in-github",
        "colab_type": "text"
      },
      "source": [
        "<a href=\"https://colab.research.google.com/github/jaymey/CAP5610/blob/main/CAP5610HW3.ipynb\" target=\"_parent\"><img src=\"https://colab.research.google.com/assets/colab-badge.svg\" alt=\"Open In Colab\"/></a>"
      ]
    },
    {
      "cell_type": "markdown",
      "metadata": {
        "id": "RoFiAzGEth1t"
      },
      "source": [
        "##Task 7:"
      ]
    },
    {
      "cell_type": "code",
      "metadata": {
        "id": "r0gDvTdptfB3"
      },
      "source": [
        "import sklearn\n",
        "from sklearn.svm import SVC\n",
        "import sklearn.model_selection\n",
        "from sklearn.model_selection import cross_val_score"
      ],
      "execution_count": 27,
      "outputs": []
    },
    {
      "cell_type": "markdown",
      "metadata": {
        "id": "bSzZGq_FufEP"
      },
      "source": [
        "Same data preprocessing as HW2"
      ]
    },
    {
      "cell_type": "code",
      "metadata": {
        "colab": {
          "base_uri": "https://localhost:8080/",
          "height": 423
        },
        "id": "i386MOJTg2qz",
        "outputId": "75e159a0-f5c5-40de-e18b-bd2fcf70ed0a"
      },
      "source": [
        "df = pd.read_csv(\"train.csv\", header=0)\n",
        "df_cp = df.copy()\n",
        "\n",
        "#drop identifying and empty columns\n",
        "del df_cp['PassengerId']\n",
        "del df_cp['Name']\n",
        "del df_cp['Ticket']\n",
        "del df_cp['Cabin']\n",
        "del df_cp['Age']\n",
        "del df_cp['SibSp']\n",
        "del df_cp['Parch']\n",
        "del df_cp['Embarked']\n",
        "\n",
        "#drop empty rows\n",
        "df_cp = df_cp.dropna()\n",
        "df_cp.isnull().sum()\n",
        "\n",
        "#Encode Gender\n",
        "df_cp['Sex'] = df_cp['Sex'].map({'male':0, 'female':1})\n",
        "df_cp['Sex'] = df_cp['Sex'].astype(str).astype(int)\n",
        "\n",
        "y = df_cp['Survived']\n",
        "X = df_cp.drop('Survived', axis=1)\n",
        "\n",
        "df_cp"
      ],
      "execution_count": 28,
      "outputs": [
        {
          "output_type": "execute_result",
          "data": {
            "text/html": [
              "<div>\n",
              "<style scoped>\n",
              "    .dataframe tbody tr th:only-of-type {\n",
              "        vertical-align: middle;\n",
              "    }\n",
              "\n",
              "    .dataframe tbody tr th {\n",
              "        vertical-align: top;\n",
              "    }\n",
              "\n",
              "    .dataframe thead th {\n",
              "        text-align: right;\n",
              "    }\n",
              "</style>\n",
              "<table border=\"1\" class=\"dataframe\">\n",
              "  <thead>\n",
              "    <tr style=\"text-align: right;\">\n",
              "      <th></th>\n",
              "      <th>Survived</th>\n",
              "      <th>Pclass</th>\n",
              "      <th>Sex</th>\n",
              "      <th>Fare</th>\n",
              "    </tr>\n",
              "  </thead>\n",
              "  <tbody>\n",
              "    <tr>\n",
              "      <th>0</th>\n",
              "      <td>0</td>\n",
              "      <td>3</td>\n",
              "      <td>0</td>\n",
              "      <td>7.2500</td>\n",
              "    </tr>\n",
              "    <tr>\n",
              "      <th>1</th>\n",
              "      <td>1</td>\n",
              "      <td>1</td>\n",
              "      <td>1</td>\n",
              "      <td>71.2833</td>\n",
              "    </tr>\n",
              "    <tr>\n",
              "      <th>2</th>\n",
              "      <td>1</td>\n",
              "      <td>3</td>\n",
              "      <td>1</td>\n",
              "      <td>7.9250</td>\n",
              "    </tr>\n",
              "    <tr>\n",
              "      <th>3</th>\n",
              "      <td>1</td>\n",
              "      <td>1</td>\n",
              "      <td>1</td>\n",
              "      <td>53.1000</td>\n",
              "    </tr>\n",
              "    <tr>\n",
              "      <th>4</th>\n",
              "      <td>0</td>\n",
              "      <td>3</td>\n",
              "      <td>0</td>\n",
              "      <td>8.0500</td>\n",
              "    </tr>\n",
              "    <tr>\n",
              "      <th>...</th>\n",
              "      <td>...</td>\n",
              "      <td>...</td>\n",
              "      <td>...</td>\n",
              "      <td>...</td>\n",
              "    </tr>\n",
              "    <tr>\n",
              "      <th>886</th>\n",
              "      <td>0</td>\n",
              "      <td>2</td>\n",
              "      <td>0</td>\n",
              "      <td>13.0000</td>\n",
              "    </tr>\n",
              "    <tr>\n",
              "      <th>887</th>\n",
              "      <td>1</td>\n",
              "      <td>1</td>\n",
              "      <td>1</td>\n",
              "      <td>30.0000</td>\n",
              "    </tr>\n",
              "    <tr>\n",
              "      <th>888</th>\n",
              "      <td>0</td>\n",
              "      <td>3</td>\n",
              "      <td>1</td>\n",
              "      <td>23.4500</td>\n",
              "    </tr>\n",
              "    <tr>\n",
              "      <th>889</th>\n",
              "      <td>1</td>\n",
              "      <td>1</td>\n",
              "      <td>0</td>\n",
              "      <td>30.0000</td>\n",
              "    </tr>\n",
              "    <tr>\n",
              "      <th>890</th>\n",
              "      <td>0</td>\n",
              "      <td>3</td>\n",
              "      <td>0</td>\n",
              "      <td>7.7500</td>\n",
              "    </tr>\n",
              "  </tbody>\n",
              "</table>\n",
              "<p>891 rows × 4 columns</p>\n",
              "</div>"
            ],
            "text/plain": [
              "     Survived  Pclass  Sex     Fare\n",
              "0           0       3    0   7.2500\n",
              "1           1       1    1  71.2833\n",
              "2           1       3    1   7.9250\n",
              "3           1       1    1  53.1000\n",
              "4           0       3    0   8.0500\n",
              "..        ...     ...  ...      ...\n",
              "886         0       2    0  13.0000\n",
              "887         1       1    1  30.0000\n",
              "888         0       3    1  23.4500\n",
              "889         1       1    0  30.0000\n",
              "890         0       3    0   7.7500\n",
              "\n",
              "[891 rows x 4 columns]"
            ]
          },
          "metadata": {},
          "execution_count": 28
        }
      ]
    },
    {
      "cell_type": "markdown",
      "metadata": {
        "id": "07Qi-CDYzUIH"
      },
      "source": [
        "Perform 5-fold cross validation scoring on Linear kernel"
      ]
    },
    {
      "cell_type": "code",
      "metadata": {
        "id": "JBRoV24bXme8",
        "colab": {
          "base_uri": "https://localhost:8080/"
        },
        "outputId": "aea5bd5b-404c-422b-a7ac-cd45e3a60b5f"
      },
      "source": [
        "linear = SVC(kernel='linear')\n",
        "\n",
        "linear_scores = cross_val_score(linear, X, y, cv=5)\n",
        "print(linear_scores)\n",
        "\n",
        "print(\"Linear SVC: %f accuracy with standard deviation of %f\\n\" % (linear_scores.mean(), linear_scores.std()))"
      ],
      "execution_count": 29,
      "outputs": [
        {
          "output_type": "stream",
          "name": "stdout",
          "text": [
            "[0.80446927 0.80337079 0.78651685 0.75280899 0.78651685]\n",
            "Linear SVC: 0.786737 accuracy with standard deviation of 0.018667\n",
            "\n"
          ]
        }
      ]
    },
    {
      "cell_type": "markdown",
      "metadata": {
        "id": "gNRL89wMzZjB"
      },
      "source": [
        "Perform 5-fold cross validation scoring on Quadratic kernel"
      ]
    },
    {
      "cell_type": "code",
      "metadata": {
        "colab": {
          "base_uri": "https://localhost:8080/"
        },
        "id": "J-DmydqmysjW",
        "outputId": "797c2116-8797-4cfe-9764-a4bbc21ac8ca"
      },
      "source": [
        "poly = SVC(kernel='poly', degree=2)\n",
        "\n",
        "poly_scores = cross_val_score(poly, X, y, cv=5)\n",
        "print(poly_scores)\n",
        "\n",
        "print(\"Quadratic SVC: %f accuracy with standard deviation of %f\\n\" % (poly_scores.mean(), poly_scores.std()))"
      ],
      "execution_count": 30,
      "outputs": [
        {
          "output_type": "stream",
          "name": "stdout",
          "text": [
            "[0.62011173 0.64606742 0.60674157 0.64606742 0.65168539]\n",
            "Quadratic SVC: 0.634135 accuracy with standard deviation of 0.017549\n",
            "\n"
          ]
        }
      ]
    },
    {
      "cell_type": "markdown",
      "metadata": {
        "id": "D2313H6_zadu"
      },
      "source": [
        "Perform 5-fold cross validation scoring on RBF kernel"
      ]
    },
    {
      "cell_type": "code",
      "metadata": {
        "colab": {
          "base_uri": "https://localhost:8080/"
        },
        "id": "i-sAudXqysQC",
        "outputId": "a13357de-1825-4693-a30f-6b0f730b34e2"
      },
      "source": [
        "rbf = SVC(kernel='rbf')\n",
        "\n",
        "rbf_scores = cross_val_score(rbf, X, y, cv=5)\n",
        "print(rbf_scores)\n",
        "\n",
        "print(\"RBF SVC: %f accuracy with standard deviation of %f\\n\" % (rbf_scores.mean(), rbf_scores.std()))"
      ],
      "execution_count": 31,
      "outputs": [
        {
          "output_type": "stream",
          "name": "stdout",
          "text": [
            "[0.58100559 0.71910112 0.6741573  0.68539326 0.67977528]\n",
            "RBF SVC: 0.667887 accuracy with standard deviation of 0.046170\n",
            "\n"
          ]
        }
      ]
    }
  ]
}